{
  "cells": [
    {
      "cell_type": "markdown",
      "metadata": {},
      "source": [
        "<a href=\"https://cognitiveclass.ai\"><img src=\"https://cf-courses-data.s3.us.cloud-object-storage.appdomain.cloud/IBMDeveloperSkillsNetwork-DL0101EN-SkillsNetwork/images/IDSN-logo.png\" width=\"400\"> </a>\n",
        "\n",
        "# BackPropagation\n",
        "\n",
        "Estimated time needed: **30** mins\n"
      ]
    },
    {
      "cell_type": "markdown",
      "metadata": {},
      "source": [
        "Backpropagation is the key algorithm used for training neural networks, allowing them to learn from data. It is based on the gradient descent optimization technique and works by iteratively adjusting the weights and biases of the network to minimize the error between the predicted and actual outputs.\n",
        " In this lab, we will create a neural network to implement backpropagation for a XOR problem.\n"
      ]
    },
    {
      "cell_type": "markdown",
      "metadata": {},
      "source": [
        "# Objective for this notebook\n",
        "\n",
        "* Train a Neural Network to Solve the XOR Problem\n",
        "* Implement Backpropagation for Neural Network Training\n",
        "* Demonstrate the Use of Activation Functions\n",
        "* Understand the Learning Process Over Multiple Epochs\n",
        "* Demonstrate Weight and Bias Adjustments via Gradient Descent\n",
        "* Evaluate the Model's Performance After Training\n",
        "* Monitor and Analyze the Training Process\n"
      ]
    },
    {
      "cell_type": "markdown",
      "metadata": {},
      "source": [
        "<h2>Table of Contents</h2>\n",
        "\n",
        "\n",
        "<div class=\"alert alert-block alert-info\" style=\"margin-top: 20px\">\n",
        "\n",
        "<font size = 4>\n",
        "1. <a href=\"#Import-Required-Libraries\">Import Required Libraries</a><br>\n",
        "2. <a href=\"#Initialize-Inputs\">Initialize Inputs</a><br>\n",
        "3. <a href=\"#Declare-the-network-parameters\">Declare the network parameters</a><br>\n",
        "4. <a href=\"#Define-the-weights\">Define the weights</a><br>  \n",
        "5. <a href=\"#Training-the-Neural-Network\">Training the Neural Network</a><br>  \n",
        "6. <a href=\"#Testing-the-Network\">Testing the Network</a><br>  \n",
        "7. <a href=\"#Plot-the-error\">Plot the error</a><br>  \n",
        "\n",
        "</font>\n",
        "</div>\n"
      ]
    },
    {
      "cell_type": "code",
      "execution_count": 1,
      "metadata": {},
      "outputs": [
        {
          "name": "stdout",
          "output_type": "stream",
          "text": [
            "Collecting numpy\n",
            "  Using cached numpy-2.3.2-cp313-cp313-win_amd64.whl.metadata (60 kB)\n",
            "Using cached numpy-2.3.2-cp313-cp313-win_amd64.whl (12.8 MB)\n",
            "Installing collected packages: numpy\n",
            "Successfully installed numpy-2.3.2\n"
          ]
        },
        {
          "name": "stderr",
          "output_type": "stream",
          "text": [
            "\n",
            "[notice] A new release of pip is available: 24.3.1 -> 25.2\n",
            "[notice] To update, run: python.exe -m pip install --upgrade pip\n"
          ]
        },
        {
          "name": "stdout",
          "output_type": "stream",
          "text": [
            "Collecting matplotlib\n",
            "  Using cached matplotlib-3.10.5-cp313-cp313-win_amd64.whl.metadata (11 kB)\n",
            "Collecting contourpy>=1.0.1 (from matplotlib)\n",
            "  Using cached contourpy-1.3.3-cp313-cp313-win_amd64.whl.metadata (5.5 kB)\n",
            "Collecting cycler>=0.10 (from matplotlib)\n",
            "  Using cached cycler-0.12.1-py3-none-any.whl.metadata (3.8 kB)\n",
            "Collecting fonttools>=4.22.0 (from matplotlib)\n",
            "  Using cached fonttools-4.59.2-cp313-cp313-win_amd64.whl.metadata (111 kB)\n",
            "Collecting kiwisolver>=1.3.1 (from matplotlib)\n",
            "  Using cached kiwisolver-1.4.9-cp313-cp313-win_amd64.whl.metadata (6.4 kB)\n",
            "Requirement already satisfied: numpy>=1.23 in c:\\users\\tawil\\python\\ibm-ai-engineering\\2-introduction-to-deeplearning-and-neuralnetworks\\module2-basics-of-deep-learning\\.env2\\lib\\site-packages (from matplotlib) (2.3.2)\n",
            "Requirement already satisfied: packaging>=20.0 in c:\\users\\tawil\\python\\ibm-ai-engineering\\2-introduction-to-deeplearning-and-neuralnetworks\\module2-basics-of-deep-learning\\.env2\\lib\\site-packages (from matplotlib) (25.0)\n",
            "Collecting pillow>=8 (from matplotlib)\n",
            "  Using cached pillow-11.3.0-cp313-cp313-win_amd64.whl.metadata (9.2 kB)\n",
            "Collecting pyparsing>=2.3.1 (from matplotlib)\n",
            "  Using cached pyparsing-3.2.3-py3-none-any.whl.metadata (5.0 kB)\n",
            "Requirement already satisfied: python-dateutil>=2.7 in c:\\users\\tawil\\python\\ibm-ai-engineering\\2-introduction-to-deeplearning-and-neuralnetworks\\module2-basics-of-deep-learning\\.env2\\lib\\site-packages (from matplotlib) (2.9.0.post0)\n",
            "Requirement already satisfied: six>=1.5 in c:\\users\\tawil\\python\\ibm-ai-engineering\\2-introduction-to-deeplearning-and-neuralnetworks\\module2-basics-of-deep-learning\\.env2\\lib\\site-packages (from python-dateutil>=2.7->matplotlib) (1.17.0)\n",
            "Using cached matplotlib-3.10.5-cp313-cp313-win_amd64.whl (8.1 MB)\n",
            "Using cached contourpy-1.3.3-cp313-cp313-win_amd64.whl (226 kB)\n",
            "Using cached cycler-0.12.1-py3-none-any.whl (8.3 kB)\n",
            "Using cached fonttools-4.59.2-cp313-cp313-win_amd64.whl (2.3 MB)\n",
            "Using cached kiwisolver-1.4.9-cp313-cp313-win_amd64.whl (73 kB)\n",
            "Using cached pillow-11.3.0-cp313-cp313-win_amd64.whl (7.0 MB)\n",
            "Using cached pyparsing-3.2.3-py3-none-any.whl (111 kB)\n",
            "Installing collected packages: pyparsing, pillow, kiwisolver, fonttools, cycler, contourpy, matplotlib\n",
            "Successfully installed contourpy-1.3.3 cycler-0.12.1 fonttools-4.59.2 kiwisolver-1.4.9 matplotlib-3.10.5 pillow-11.3.0 pyparsing-3.2.3\n"
          ]
        },
        {
          "name": "stderr",
          "output_type": "stream",
          "text": [
            "\n",
            "[notice] A new release of pip is available: 24.3.1 -> 25.2\n",
            "[notice] To update, run: python.exe -m pip install --upgrade pip\n"
          ]
        }
      ],
      "source": [
        "# All Libraries required for this lab are listed below. The libraries pre-installed on Skills Network Labs are commented. \n",
        "# If you run this notebook on a different environment, e.g., your desktop, you may need to uncomment and install certain libraries.\n",
        "\n",
        "!pip install numpy\n",
        "!pip install matplotlib"
      ]
    },
    {
      "cell_type": "markdown",
      "metadata": {},
      "source": [
        "## Import Required Libraries\n"
      ]
    },
    {
      "cell_type": "code",
      "execution_count": 2,
      "metadata": {},
      "outputs": [],
      "source": [
        "# Importing the required library\n",
        "import numpy as np\n",
        "import matplotlib.pyplot as plt"
      ]
    },
    {
      "cell_type": "markdown",
      "metadata": {},
      "source": [
        "## Initialize Inputs\n",
        "Define the input and expected output for a XOR gate problem\n"
      ]
    },
    {
      "cell_type": "code",
      "execution_count": 8,
      "metadata": {},
      "outputs": [
        {
          "name": "stdout",
          "output_type": "stream",
          "text": [
            "[[0 0 1 1]\n",
            " [0 1 0 1]] \n",
            "\n",
            " [0 1 1 0]\n"
          ]
        }
      ],
      "source": [
        "# Defining inputs and expected output (XOR truth table)\n",
        "X = np.array([[0, 0], [0, 1], [1, 0], [1, 1]]).T  # 2x4 matrix, each column is a training example\n",
        "d = np.array([0, 1, 1, 0])  # Expected output for XOR\n",
        "print(X,\"\\n\\n\", d)"
      ]
    },
    {
      "cell_type": "markdown",
      "metadata": {},
      "source": [
        "# Declare the network parameters & the weights\n",
        "\n",
        "Define the network parameters such as\n",
        "1. number of input neurons\n",
        "2. hidden layer neurons\n",
        "3. output neurons\n",
        "4. learning rate\n",
        "5. number of epochs\n",
        "\n",
        "Also, Declare the weights for the neurons. The initial weights are taken as random numbers which are then optimized by the backpropagation algorithm inside a function parameter `initialize_network_parameters()`\n"
      ]
    },
    {
      "cell_type": "code",
      "execution_count": 4,
      "metadata": {},
      "outputs": [],
      "source": [
        "def initialize_network_parameters():\n",
        "    # Network parameters\n",
        "    inputSize = 2      # Number of input neurons (x1, x2)\n",
        "    hiddenSize = 2     # Number of hidden neurons\n",
        "    outputSize = 1     # Number of output neurons\n",
        "    lr = 0.1           # Learning rate\n",
        "    epochs = 180000    # Number of training epochs\n",
        "\n",
        "    # Initialize weights and biases randomly within the range [-1, 1]\n",
        "    w1 = np.random.rand(hiddenSize, inputSize) * 2 - 1  # Weights from input to hidden layer\n",
        "    b1 = np.random.rand(hiddenSize, 1) * 2 - 1          # Bias for hidden layer\n",
        "    w2 = np.random.rand(outputSize, hiddenSize) * 2 - 1 # Weights from hidden to output layer\n",
        "    b2 = np.random.rand(outputSize, 1) * 2 - 1          # Bias for output layer\n",
        "\n",
        "    return w1, b1, w2, b2, lr, epochs\n"
      ]
    },
    {
      "cell_type": "markdown",
      "metadata": {},
      "source": [
        "## Training the Neural Network\n",
        "\n",
        "The neural network works in 5 stages: \n",
        "1. Forward pass\n",
        "    * The input **X** is multiplied by the weights **w1** and passed through the first layer, followed by the application of the sigmoid or ReLU activation function. This gives the output for the hidden layer.\n",
        "    * The output of the hidden layer is then passed through the second set of weights **w2** to compute the final output. Again, a sigmoid activation function is used to generate the final output **a2**.\n",
        "    \n",
        "2. Error calculation\n",
        "    * The error is computed as the difference between the expected output **(d)** and the actual output **(a2)**.\n",
        "3. Backward pass\n",
        "    * **Output Layer**: The derivative of the sigmoid activation function is applied to the error, producing the gradient for the output layer **(da2)**. This is used to calculate how much the weights in the output layer need to be adjusted.\n",
        "    * **Hidden Layer**: The error is then propagated backward to the hidden layer. The gradient at the hidden layer **(da1)** is computed by taking the dot product of the transpose of the weights **(w2.T)** and the gradient from the output layer. The derivative of the activation function (sigmoid or ReLU) is used to adjust this error.\n",
        "4. Weights and bias updates\n",
        "    * After computing the **gradients (dz1, dz2)**, the **weights (w1, w2)** and **biases (b1, b2)** are updated using the **learning rate (lr)** and **the gradients**. The updates are done to minimize the error and improve the model’s predictions.\n",
        "5. Training:\n",
        "    * This entire process is repeated over many iterations **(epochs)**. During each epoch, the model adjusts its weights and biases to reduce the error. Over time, the network learns to approximate the XOR function.\n",
        "Forward Pass:\n",
        "\n"
      ]
    },
    {
      "cell_type": "code",
      "execution_count": 5,
      "metadata": {},
      "outputs": [
        {
          "name": "stdout",
          "output_type": "stream",
          "text": [
            "Epoch: 9999, Average error: 0.05184\n",
            "Epoch: 19999, Average error: 0.03025\n",
            "Epoch: 29999, Average error: 0.02325\n",
            "Epoch: 39999, Average error: 0.01951\n",
            "Epoch: 49999, Average error: 0.01712\n",
            "Epoch: 59999, Average error: 0.01542\n",
            "Epoch: 69999, Average error: 0.01414\n",
            "Epoch: 79999, Average error: 0.01312\n",
            "Epoch: 89999, Average error: 0.01229\n",
            "Epoch: 99999, Average error: 0.01160\n",
            "Epoch: 109999, Average error: 0.01102\n",
            "Epoch: 119999, Average error: 0.01051\n",
            "Epoch: 129999, Average error: 0.01006\n",
            "Epoch: 139999, Average error: 0.00967\n",
            "Epoch: 149999, Average error: 0.00932\n",
            "Epoch: 159999, Average error: 0.00900\n",
            "Epoch: 169999, Average error: 0.00872\n",
            "Epoch: 179999, Average error: 0.00846\n"
          ]
        }
      ],
      "source": [
        "# Get initialized parameters\n",
        "w1, b1, w2, b2, lr, epochs = initialize_network_parameters()\n",
        "\n",
        "# Training the network using backpropagation\n",
        "error_list = []\n",
        "for epoch in range(epochs):\n",
        "    # Forward pass\n",
        "    z1 = np.dot(w1, X) + b1  # Weighted sum for hidden layer\n",
        "    a1 = 1 / (1 + np.exp(-z1))  # Sigmoid activation for hidden layer\n",
        "\n",
        "    z2 = np.dot(w2, a1) + b2  # Weighted sum for output layer\n",
        "    a2 = 1 / (1 + np.exp(-z2))  # Sigmoid activation for output layer\n",
        "\n",
        "    # Error calculation and backpropagation\n",
        "    error = d - a2  # Difference between expected and actual output\n",
        "    da2 = error * (a2 * (1 - a2))  # Derivative for output layer\n",
        "    dz2 = da2  # Gradient for output layer\n",
        "\n",
        "    # Propagate error to hidden layer\n",
        "    da1 = np.dot(w2.T, dz2)  # Gradient for hidden layer\n",
        "    dz1 = da1 * (a1 * (1 - a1))  # Derivative for hidden layer\n",
        "\n",
        "    # Update weights and biases\n",
        "    w2 += lr * np.dot(dz2, a1.T)  # Update weights from hidden to output layer\n",
        "    b2 += lr * np.sum(dz2, axis=1, keepdims=True)  # Update bias for output layer\n",
        "\n",
        "    w1 += lr * np.dot(dz1, X.T)  # Update weights from input to hidden layer\n",
        "    b1 += lr * np.sum(dz1, axis=1, keepdims=True)  # Update bias for hidden layer\n",
        "    if (epoch+1)%10000 == 0:\n",
        "        print(\"Epoch: %d, Average error: %0.05f\"%(epoch, np.average(abs(error))))\n",
        "        error_list.append(np.average(abs(error)))"
      ]
    },
    {
      "cell_type": "markdown",
      "metadata": {},
      "source": [
        "## Testing the Network\n",
        "After training, you can now test the neural network to verify that it has learned the XOR function and outputs the correct values close to [0, 1, 1, 0]\n"
      ]
    },
    {
      "cell_type": "code",
      "execution_count": 9,
      "metadata": {},
      "outputs": [
        {
          "name": "stdout",
          "output_type": "stream",
          "text": [
            "Final output after training: [[0.00947811 0.99197122 0.99193234 0.00824966]]\n",
            "Ground truth [0 1 1 0]\n",
            "Error after training: [[-0.00947814  0.00802881  0.00806769 -0.00824969]]\n",
            "Average error: 0.00846\n"
          ]
        }
      ],
      "source": [
        "# Testing the trained network\n",
        "z1 = np.dot(w1, X) + b1  # Weighted sum for hidden layer\n",
        "a1 = 1 / (1 + np.exp(-z1))  # Sigmoid activation for hidden layer\n",
        "\n",
        "z2 = np.dot(w2, a1) + b2  # Weighted sum for output layer\n",
        "a2 = 1 / (1 + np.exp(-z2))  # Sigmoid activation for output layer\n",
        "\n",
        "# Print results\n",
        "print('Final output after training:', a2)\n",
        "print('Ground truth', d)\n",
        "print('Error after training:', error)\n",
        "print('Average error: %0.05f'%np.average(abs(error)))\n",
        "\n"
      ]
    },
    {
      "cell_type": "markdown",
      "metadata": {},
      "source": [
        "## Plot the error\n",
        "Here, we plot the error as a function of epochs. This shows how error changed over multiple iterations of forward and backward passes and how the network learnt over time\n"
      ]
    },
    {
      "cell_type": "code",
      "execution_count": 10,
      "metadata": {},
      "outputs": [
        {
          "data": {
            "image/png": "[encoded data removed]",
            "text/plain": [
              "<Figure size 640x480 with 1 Axes>"
            ]
          },
          "metadata": {},
          "output_type": "display_data"
        }
      ],
      "source": [
        "# Plot error\n",
        "plt.plot(error_list)\n",
        "plt.title('Error')\n",
        "plt.xlabel('Epochs')\n",
        "plt.ylabel('Error')\n",
        "plt.show()"
      ]
    },
    {
      "cell_type": "markdown",
      "metadata": {},
      "source": [
        "# Practice exercise 1\n"
      ]
    },
    {
      "cell_type": "markdown",
      "metadata": {},
      "source": [
        "Implement backpropagation for **AND problem** using similar input as used for XOR problem above and plot the error\n"
      ]
    },
    {
      "cell_type": "code",
      "execution_count": 11,
      "metadata": {},
      "outputs": [
        {
          "name": "stdout",
          "output_type": "stream",
          "text": [
            "Epoch: 9999, Average error: 0.02672\n",
            "Epoch: 19999, Average error: 0.01702\n",
            "Epoch: 29999, Average error: 0.01330\n",
            "Epoch: 39999, Average error: 0.01122\n",
            "Epoch: 49999, Average error: 0.00986\n",
            "Epoch: 59999, Average error: 0.00888\n",
            "Epoch: 69999, Average error: 0.00813\n",
            "Epoch: 79999, Average error: 0.00754\n",
            "Epoch: 89999, Average error: 0.00705\n",
            "Epoch: 99999, Average error: 0.00664\n",
            "Epoch: 109999, Average error: 0.00630\n",
            "Epoch: 119999, Average error: 0.00600\n",
            "Epoch: 129999, Average error: 0.00574\n",
            "Epoch: 139999, Average error: 0.00550\n",
            "Epoch: 149999, Average error: 0.00530\n",
            "Epoch: 159999, Average error: 0.00511\n",
            "Epoch: 169999, Average error: 0.00494\n",
            "Epoch: 179999, Average error: 0.00479\n",
            "\n",
            "Final output after training: [[3.90844473e-04 5.63474637e-03 4.88993628e-03 9.91766705e-01]]\n",
            "Ground truth [0 0 0 1]\n",
            "Error after training: [[-0.00039085 -0.00563476 -0.00488995  0.00823332]]\n",
            "Average error: 0.00479\n"
          ]
        },
        {
          "data": {
            "image/png": "[encoded data removed]",
            "text/plain": [
              "<Figure size 640x480 with 1 Axes>"
            ]
          },
          "metadata": {},
          "output_type": "display_data"
        }
      ],
      "source": [
        "# Write your code here\n",
        "X = np.array([[0, 0], [0, 1], [1, 0], [1, 1]]).T  # 2x4 matrix, each column is a training example\n",
        "d = np.array([0, 0, 0, 1])  # Expected output for AND\n",
        "\n",
        "# Get initialized parameters\n",
        "w1, b1, w2, b2, lr, epochs = initialize_network_parameters()\n",
        "\n",
        "# Training the network using backpropagation\n",
        "error_list = []\n",
        "for epoch in range(epochs):\n",
        "    # Forward pass\n",
        "    z1 = np.dot(w1, X) + b1  # Weighted sum for hidden layer\n",
        "    a1 = 1 / (1 + np.exp(-z1))  # Sigmoid activation for hidden layer\n",
        "\n",
        "    z2 = np.dot(w2, a1) + b2  # Weighted sum for output layer\n",
        "    a2 = 1 / (1 + np.exp(-z2))  # Sigmoid activation for output layer\n",
        "\n",
        "    # Error calculation and backpropagation\n",
        "    error = d - a2  # Difference between expected and actual output\n",
        "    da2 = error * (a2 * (1 - a2))  # Derivative for output layer\n",
        "    dz2 = da2  # Gradient for output layer\n",
        "\n",
        "    # Propagate error to hidden layer\n",
        "    da1 = np.dot(w2.T, dz2)  # Gradient for hidden layer\n",
        "    dz1 = da1 * (a1 * (1 - a1))  # Derivative for hidden layer\n",
        "\n",
        "    # Update weights and biases\n",
        "    w2 += lr * np.dot(dz2, a1.T)  # Update weights from hidden to output layer\n",
        "    b2 += lr * np.sum(dz2, axis=1, keepdims=True)  # Update bias for output layer\n",
        "\n",
        "    w1 += lr * np.dot(dz1, X.T)  # Update weights from input to hidden layer\n",
        "    b1 += lr * np.sum(dz1, axis=1, keepdims=True)  # Update bias for hidden layer\n",
        "    if (epoch+1)%10000 == 0:\n",
        "        print(\"Epoch: %d, Average error: %0.05f\"%(epoch, np.average(abs(error))))\n",
        "        error_list.append(np.average(abs(error)))\n",
        "\n",
        "\n",
        "# Testing the trained network\n",
        "z1 = np.dot(w1, X) + b1  # Weighted sum for hidden layer\n",
        "a1 = 1 / (1 + np.exp(-z1))  # Sigmoid activation for hidden layer\n",
        "\n",
        "z2 = np.dot(w2, a1) + b2  # Weighted sum for output layer\n",
        "a2 = 1 / (1 + np.exp(-z2))  # Sigmoid activation for output layer\n",
        "\n",
        "# Print results\n",
        "print('\\nFinal output after training:', a2)\n",
        "print('Ground truth', d)\n",
        "print('Error after training:', error)\n",
        "print('Average error: %0.05f'%np.average(abs(error)))\n",
        "\n",
        "# Plot error\n",
        "plt.plot(error_list)\n",
        "plt.title('Error')\n",
        "plt.xlabel('Epochs')\n",
        "plt.ylabel('Error')\n",
        "plt.show()"
      ]
    },
    {
      "cell_type": "markdown",
      "metadata": {},
      "source": [
        "Double-click <b>here</b> for the solution.\n",
        "\n",
        "<!-- Your answer is below:\n",
        "\n",
        "\n",
        "X = np.array([[0, 0], [0, 1], [1, 0], [1, 1]]).T  # 2x4 matrix, each column is a training example\n",
        "d = np.array([0, 0, 0, 1])  # Expected output for AND\n",
        "\n",
        "# Get initialized parameters\n",
        "w1, b1, w2, b2, lr, epochs = initialize_network_parameters()\n",
        "\n",
        "# Training the network using backpropagation\n",
        "error_list = []\n",
        "for epoch in range(epochs):\n",
        "    # Forward pass\n",
        "    z1 = np.dot(w1, X) + b1  # Weighted sum for hidden layer\n",
        "    a1 = 1 / (1 + np.exp(-z1))  # Sigmoid activation for hidden layer\n",
        "\n",
        "    z2 = np.dot(w2, a1) + b2  # Weighted sum for output layer\n",
        "    a2 = 1 / (1 + np.exp(-z2))  # Sigmoid activation for output layer\n",
        "\n",
        "    # Error calculation and backpropagation\n",
        "    error = d - a2  # Difference between expected and actual output\n",
        "    da2 = error * (a2 * (1 - a2))  # Derivative for output layer\n",
        "    dz2 = da2  # Gradient for output layer\n",
        "\n",
        "    # Propagate error to hidden layer\n",
        "    da1 = np.dot(w2.T, dz2)  # Gradient for hidden layer\n",
        "    dz1 = da1 * (a1 * (1 - a1))  # Derivative for hidden layer\n",
        "\n",
        "    # Update weights and biases\n",
        "    w2 += lr * np.dot(dz2, a1.T)  # Update weights from hidden to output layer\n",
        "    b2 += lr * np.sum(dz2, axis=1, keepdims=True)  # Update bias for output layer\n",
        "\n",
        "    w1 += lr * np.dot(dz1, X.T)  # Update weights from input to hidden layer\n",
        "    b1 += lr * np.sum(dz1, axis=1, keepdims=True)  # Update bias for hidden layer\n",
        "    if (epoch+1)%10000 == 0:\n",
        "        print(\"Epoch: %d, Average error: %0.05f\"%(epoch, np.average(abs(error))))\n",
        "        error_list.append(np.average(abs(error)))\n",
        "\n",
        "\n",
        "# Testing the trained network\n",
        "z1 = np.dot(w1, X) + b1  # Weighted sum for hidden layer\n",
        "a1 = 1 / (1 + np.exp(-z1))  # Sigmoid activation for hidden layer\n",
        "\n",
        "z2 = np.dot(w2, a1) + b2  # Weighted sum for output layer\n",
        "a2 = 1 / (1 + np.exp(-z2))  # Sigmoid activation for output layer\n",
        "\n",
        "# Print results\n",
        "print('\\nFinal output after training:', a2)\n",
        "print('Ground truth', d)\n",
        "print('Error after training:', error)\n",
        "print('Average error: %0.05f'%np.average(abs(error)))\n",
        "\n",
        "# Plot error\n",
        "plt.plot(error_list)\n",
        "plt.title('Error')\n",
        "plt.xlabel('Epochs')\n",
        "plt.ylabel('Error')\n",
        "plt.show()\n",
        "\n",
        "\n",
        "-->\n"
      ]
    },
    {
      "cell_type": "markdown",
      "metadata": {},
      "source": [
        "# Practice exercise 2\n"
      ]
    },
    {
      "cell_type": "markdown",
      "metadata": {},
      "source": [
        "Now, decrease the learning rate to 0.01 and increase the number of epochs to 1000000 and check the error for XOR gate\n"
      ]
    },
    {
      "cell_type": "code",
      "execution_count": null,
      "metadata": {},
      "outputs": [],
      "source": [
        "# Write your code here\n"
      ]
    },
    {
      "cell_type": "markdown",
      "metadata": {},
      "source": [
        "Double-click <b>here</b> for the solution.\n",
        "\n",
        "<!-- Your answer is below:\n",
        "\n",
        "lr = 0.01         # Learning rate\n",
        "epochs = 1000000   # Number of training epochs\n",
        "\n",
        "\n",
        "# Defining inputs and expected output (XOR truth table)\n",
        "X = np.array([[0, 0], [0, 1], [1, 0], [1, 1]]).T  # 2x4 matrix, each column is a training example\n",
        "d = np.array([0, 1, 1, 0])  # Expected output for XOR\n",
        "\n",
        "# Get initialized parameters\n",
        "w1, b1, w2, b2, lr, epochs = initialize_network_parameters()\n",
        "\n",
        "# Training the network using backpropagation\n",
        "error_list = []\n",
        "for epoch in range(epochs):\n",
        "    # Forward pass\n",
        "    z1 = np.dot(w1, X) + b1  # Weighted sum for hidden layer\n",
        "    a1 = 1 / (1 + np.exp(-z1))  # Sigmoid activation for hidden layer\n",
        "\n",
        "    z2 = np.dot(w2, a1) + b2  # Weighted sum for output layer\n",
        "    a2 = 1 / (1 + np.exp(-z2))  # Sigmoid activation for output layer\n",
        "\n",
        "    # Error calculation and backpropagation\n",
        "    error = d - a2  # Difference between expected and actual output\n",
        "    da2 = error * (a2 * (1 - a2))  # Derivative for output layer\n",
        "    dz2 = da2  # Gradient for output layer\n",
        "\n",
        "    # Propagate error to hidden layer\n",
        "    da1 = np.dot(w2.T, dz2)  # Gradient for hidden layer\n",
        "    dz1 = da1 * (a1 * (1 - a1))  # Derivative for hidden layer\n",
        "\n",
        "    # Update weights and biases\n",
        "    w2 += lr * np.dot(dz2, a1.T)  # Update weights from hidden to output layer\n",
        "    b2 += lr * np.sum(dz2, axis=1, keepdims=True)  # Update bias for output layer\n",
        "\n",
        "    w1 += lr * np.dot(dz1, X.T)  # Update weights from input to hidden layer\n",
        "    b1 += lr * np.sum(dz1, axis=1, keepdims=True)  # Update bias for hidden layer\n",
        "    if (epoch+1)%10000 == 0:\n",
        "        print(\"Epoch: %d, Average error: %0.05f\"%(epoch, np.average(abs(error))))\n",
        "        error_list.append(np.average(abs(error)))\n",
        "\n",
        "\n",
        "# Testing the trained network\n",
        "z1 = np.dot(w1, X) + b1  # Weighted sum for hidden layer\n",
        "a1 = 1 / (1 + np.exp(-z1))  # Sigmoid activation for hidden layer\n",
        "\n",
        "z2 = np.dot(w2, a1) + b2  # Weighted sum for output layer\n",
        "a2 = 1 / (1 + np.exp(-z2))  # Sigmoid activation for output layer\n",
        "\n",
        "# Print results\n",
        "print('\\nFinal output after training:', a2)\n",
        "print('Ground truth', d)\n",
        "print('Error after training:', error)\n",
        "print('Average error: %0.05f'%np.average(abs(error)))\n",
        "\n",
        "\n",
        "# Plot error\n",
        "plt.plot(error_list)\n",
        "plt.title('Error')\n",
        "plt.xlabel('Epochs')\n",
        "plt.ylabel('Error')\n",
        "plt.show()\n",
        "\n",
        "\n",
        "-->\n"
      ]
    },
    {
      "cell_type": "markdown",
      "metadata": {},
      "source": [
        "## Thank you for completing this lab!\n",
        "\n",
        "This notebook was created by [Aman Aggarwal](https://www.linkedin.com/in/aggarwal-aman/). I hope you found this lab interesting and educational. Feel free to contact me if you have any questions!\n"
      ]
    },
    {
      "cell_type": "markdown",
      "metadata": {},
      "source": [
        "\n",
        "<!--\n",
        "## Change Log\n",
        "\n",
        "|  Date (YYYY-MM-DD) |  Version | Changed By  |  Change Description |\n",
        "|---|---|---|---|\n",
        "| 2024-11-20  | 1.0  | Aman  |  Created the lab |\n",
        "<hr>\n",
        "\n",
        "## <h3 align=\"center\"> © IBM Corporation. All rights reserved. <h3/>\n"
      ]
    },
    {
      "cell_type": "markdown",
      "metadata": {},
      "source": [
        "## <h3 align=\"center\"> &#169; IBM Corporation. All rights reserved. <h3/>\n"
      ]
    }
  ],
  "metadata": {
    "kernelspec": {
      "display_name": "Python 3",
      "language": "python",
      "name": "python3"
    },
    "language_info": {
      "codemirror_mode": {
        "name": "ipython",
        "version": 3
      },
      "file_extension": ".py",
      "mimetype": "text/x-python",
      "name": "python",
      "nbconvert_exporter": "python",
      "pygments_lexer": "ipython3",
      "version": "3.13.2"
    },
    "prev_pub_hash": "23c643c8c1aa843c3873f66d020bff9ca5df91f975ec512e5214e2cad5adc399"
  },
  "nbformat": 4,
  "nbformat_minor": 4
}
