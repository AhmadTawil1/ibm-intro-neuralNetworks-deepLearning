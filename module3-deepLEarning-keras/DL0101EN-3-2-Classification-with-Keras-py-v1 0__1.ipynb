{
 "cells": [
  {
   "cell_type": "markdown",
   "id": "c7aa2c85-4e2d-4cbf-bdb2-b8758e146341",
   "metadata": {},
   "source": [
    "<a href=\"https://cognitiveclass.ai\"><img src=\"https://cf-courses-data.s3.us.cloud-object-storage.appdomain.cloud/IBMDeveloperSkillsNetwork-DL0101EN-SkillsNetwork/images/IDSN-logo.png\" width=\"400\"> </a>\n",
    "\n",
    "# Classification Models with Keras\n",
    "\n",
    "Estimated time needed: **30** mins\n"
   ]
  },
  {
   "cell_type": "markdown",
   "id": "d60e2240-e5ce-4f7b-b436-b1126bbc6593",
   "metadata": {},
   "source": [
    "## Introduction\n"
   ]
  },
  {
   "cell_type": "markdown",
   "id": "8557d517-d46f-4aa0-9eaf-be6f58b1a79d",
   "metadata": {},
   "source": [
    "In this lab, we will learn how to use the Keras library to build models for classificaiton problems. We will use the popular MNIST dataset, a dataset of images, for a change. \n",
    "\n",
    "The <strong>MNIST database</strong>, short for Modified National Institute of Standards and Technology database, is a large database of handwritten digits that is commonly used for training various image processing systems. The database is also widely used for training and testing in the field of machine learning.\n",
    "    \n",
    "The MNIST database contains 60,000 training images and 10,000 testing images of digits written by high school students and employees of the United States Census Bureau.\n",
    "\n",
    "Also, this way, you will get to compare how conventional neural networks compare to convolutional neural networks, that we will build in the next module.\n"
   ]
  },
  {
   "cell_type": "markdown",
   "id": "43b909ae-4a8f-4bde-a66b-090afd8151eb",
   "metadata": {},
   "source": [
    "## Objectives for this Notebook    \n",
    "* Use the MNIST database for training various image processing systems\n",
    "* Build a neural network\n",
    "* Train and test the network\n"
   ]
  },
  {
   "cell_type": "markdown",
   "id": "549f5fe3-653b-4e2f-b5fa-0933d7d0b5f0",
   "metadata": {},
   "source": [
    "## Table of Contents\n",
    "\n",
    "<div class=\"alert alert-block alert-info\" style=\"margin-top: 20px\">\n",
    "\n",
    "<font size = 3>\n",
    "\n",
    "1. <a href=\"#Import-Keras-and-Packages\">Import Keras and Packages</a>      \n",
    "2. <a href=\"#Build-a-Neural-Network\">Build a Neural Network</a>     \n",
    "3. <a href=\"#Train-and-Test-the-Network\">Train and Test the Network</a>     \n",
    "\n",
    "</font>\n",
    "</div>\n"
   ]
  },
  {
   "cell_type": "markdown",
   "id": "99aebb57-a565-45b5-9470-803d2f5eefd2",
   "metadata": {},
   "source": [
    "Let's start by installing Keras and other necessary libraries.\n"
   ]
  },
  {
   "cell_type": "markdown",
   "id": "cad2aba1-3b72-4200-b30a-0a0e4f6c191f",
   "metadata": {},
   "source": [
    "The following required libraries are __not__ pre-installed in the Skills Network Labs environment. __You will need to run the following cell__ to install them:\n"
   ]
  },
  {
   "cell_type": "code",
   "execution_count": 4,
   "id": "03bee01a-08f2-448a-9c9a-ad111912c44c",
   "metadata": {},
   "outputs": [
    {
     "name": "stdout",
     "output_type": "stream",
     "text": [
      "Collecting matplotlib\n",
      "  Downloading matplotlib-3.10.6-cp313-cp313-win_amd64.whl.metadata (11 kB)\n",
      "Collecting contourpy>=1.0.1 (from matplotlib)\n",
      "  Using cached contourpy-1.3.3-cp313-cp313-win_amd64.whl.metadata (5.5 kB)\n",
      "Collecting cycler>=0.10 (from matplotlib)\n",
      "  Using cached cycler-0.12.1-py3-none-any.whl.metadata (3.8 kB)\n",
      "Collecting fonttools>=4.22.0 (from matplotlib)\n",
      "  Using cached fonttools-4.59.2-cp313-cp313-win_amd64.whl.metadata (111 kB)\n",
      "Collecting kiwisolver>=1.3.1 (from matplotlib)\n",
      "  Using cached kiwisolver-1.4.9-cp313-cp313-win_amd64.whl.metadata (6.4 kB)\n",
      "Requirement already satisfied: numpy>=1.23 in c:\\users\\tawil\\python\\ibm-ai-engineering\\2-introduction-to-deeplearning-and-neuralnetworks\\module3-deeplearning-keras\\.env3\\lib\\site-packages (from matplotlib) (2.3.2)\n",
      "Requirement already satisfied: packaging>=20.0 in c:\\users\\tawil\\python\\ibm-ai-engineering\\2-introduction-to-deeplearning-and-neuralnetworks\\module3-deeplearning-keras\\.env3\\lib\\site-packages (from matplotlib) (25.0)\n",
      "Requirement already satisfied: pillow>=8 in c:\\users\\tawil\\python\\ibm-ai-engineering\\2-introduction-to-deeplearning-and-neuralnetworks\\module3-deeplearning-keras\\.env3\\lib\\site-packages (from matplotlib) (11.3.0)\n",
      "Collecting pyparsing>=2.3.1 (from matplotlib)\n",
      "  Using cached pyparsing-3.2.3-py3-none-any.whl.metadata (5.0 kB)\n",
      "Requirement already satisfied: python-dateutil>=2.7 in c:\\users\\tawil\\python\\ibm-ai-engineering\\2-introduction-to-deeplearning-and-neuralnetworks\\module3-deeplearning-keras\\.env3\\lib\\site-packages (from matplotlib) (2.9.0.post0)\n",
      "Requirement already satisfied: six>=1.5 in c:\\users\\tawil\\python\\ibm-ai-engineering\\2-introduction-to-deeplearning-and-neuralnetworks\\module3-deeplearning-keras\\.env3\\lib\\site-packages (from python-dateutil>=2.7->matplotlib) (1.17.0)\n",
      "Downloading matplotlib-3.10.6-cp313-cp313-win_amd64.whl (8.1 MB)\n",
      "   ---------------------------------------- 0.0/8.1 MB ? eta -:--:--\n",
      "   ---------------------------------------- 0.0/8.1 MB ? eta -:--:--\n",
      "   - -------------------------------------- 0.3/8.1 MB ? eta -:--:--\n",
      "   --- ------------------------------------ 0.8/8.1 MB 1.6 MB/s eta 0:00:05\n",
      "   --- ------------------------------------ 0.8/8.1 MB 1.6 MB/s eta 0:00:05\n",
      "   ----- ---------------------------------- 1.0/8.1 MB 1.1 MB/s eta 0:00:07\n",
      "   ----- ---------------------------------- 1.0/8.1 MB 1.1 MB/s eta 0:00:07\n",
      "   ------- -------------------------------- 1.6/8.1 MB 1.1 MB/s eta 0:00:06\n",
      "   ---------- ----------------------------- 2.1/8.1 MB 1.3 MB/s eta 0:00:05\n",
      "   ----------- ---------------------------- 2.4/8.1 MB 1.3 MB/s eta 0:00:05\n",
      "   ------------ --------------------------- 2.6/8.1 MB 1.4 MB/s eta 0:00:05\n",
      "   -------------- ------------------------- 2.9/8.1 MB 1.4 MB/s eta 0:00:04\n",
      "   ---------------- ----------------------- 3.4/8.1 MB 1.4 MB/s eta 0:00:04\n",
      "   ------------------- -------------------- 3.9/8.1 MB 1.5 MB/s eta 0:00:03\n",
      "   -------------------- ------------------- 4.2/8.1 MB 1.5 MB/s eta 0:00:03\n",
      "   --------------------- ------------------ 4.5/8.1 MB 1.5 MB/s eta 0:00:03\n",
      "   ------------------------ --------------- 5.0/8.1 MB 1.5 MB/s eta 0:00:03\n",
      "   --------------------------- ------------ 5.5/8.1 MB 1.6 MB/s eta 0:00:02\n",
      "   ---------------------------- ----------- 5.8/8.1 MB 1.6 MB/s eta 0:00:02\n",
      "   ----------------------------- ---------- 6.0/8.1 MB 1.6 MB/s eta 0:00:02\n",
      "   -------------------------------- ------- 6.6/8.1 MB 1.6 MB/s eta 0:00:01\n",
      "   ---------------------------------- ----- 7.1/8.1 MB 1.6 MB/s eta 0:00:01\n",
      "   ------------------------------------ --- 7.3/8.1 MB 1.6 MB/s eta 0:00:01\n",
      "   ------------------------------------- -- 7.6/8.1 MB 1.6 MB/s eta 0:00:01\n",
      "   -------------------------------------- - 7.9/8.1 MB 1.6 MB/s eta 0:00:01\n",
      "   ---------------------------------------- 8.1/8.1 MB 1.6 MB/s eta 0:00:00\n",
      "Using cached contourpy-1.3.3-cp313-cp313-win_amd64.whl (226 kB)\n",
      "Using cached cycler-0.12.1-py3-none-any.whl (8.3 kB)\n",
      "Using cached fonttools-4.59.2-cp313-cp313-win_amd64.whl (2.3 MB)\n",
      "Using cached kiwisolver-1.4.9-cp313-cp313-win_amd64.whl (73 kB)\n",
      "Using cached pyparsing-3.2.3-py3-none-any.whl (111 kB)\n",
      "Installing collected packages: pyparsing, kiwisolver, fonttools, cycler, contourpy, matplotlib\n",
      "Successfully installed contourpy-1.3.3 cycler-0.12.1 fonttools-4.59.2 kiwisolver-1.4.9 matplotlib-3.10.6 pyparsing-3.2.3\n"
     ]
    },
    {
     "name": "stderr",
     "output_type": "stream",
     "text": [
      "\n",
      "[notice] A new release of pip is available: 24.3.1 -> 25.2\n",
      "[notice] To update, run: python.exe -m pip install --upgrade pip\n"
     ]
    }
   ],
   "source": [
    "# !pip install tensorflow_cpu==2.18.0\n",
    "!pip install matplotlib\n",
    "\n",
    "# print(\"==== All required libraries are installed =====\")"
   ]
  },
  {
   "cell_type": "markdown",
   "id": "e34069b6-a5a9-463b-8d90-a77b16901f15",
   "metadata": {},
   "source": [
    "#### Suppress the tensorflow warning messages\n",
    "We use the following code to  suppress the warning messages due to use of CPU architechture for tensoflow.\n",
    "\n",
    "You may want to **comment out** these lines if you are using the GPU architechture\n"
   ]
  },
  {
   "cell_type": "code",
   "execution_count": 2,
   "id": "4e0382f2-f135-4870-9d71-212e59c9f988",
   "metadata": {},
   "outputs": [],
   "source": [
    "import os\n",
    "os.environ['TF_ENABLE_ONEDNN_OPTS'] = '0'\n",
    "os.environ['TF_CPP_MIN_LOG_LEVEL'] = '2'"
   ]
  },
  {
   "cell_type": "markdown",
   "id": "8b413e7b-7155-4227-8c72-9b22fc7ffd49",
   "metadata": {},
   "source": [
    "## Import Keras and Packages\n"
   ]
  },
  {
   "cell_type": "markdown",
   "id": "e4895aa9-8bcb-46e6-a79c-a7a881c670ba",
   "metadata": {},
   "source": [
    "### Import the libraries. \n",
    "There might be some warning messages related to floating point round off errors and lack of GPU and other compiler related options. You can ignore these warnings and proceed.\n"
   ]
  },
  {
   "cell_type": "code",
   "execution_count": 3,
   "id": "19c0174a-5eef-4c5f-8a9c-54c150f90ce2",
   "metadata": {},
   "outputs": [],
   "source": [
    "import keras\n",
    "\n",
    "from keras.models import Sequential\n",
    "from keras.layers import Dense\n",
    "from keras.layers import Input\n",
    "from keras.utils import to_categorical"
   ]
  },
  {
   "cell_type": "markdown",
   "id": "6cf5d38c-7c50-4d4f-a0e3-c6be5a0c9afa",
   "metadata": {},
   "source": [
    "Since we are dealing we images, let's also import the Matplotlib scripting layer in order to view the images.\n"
   ]
  },
  {
   "cell_type": "code",
   "execution_count": 5,
   "id": "958bff1a-07f8-4968-bd16-06ea5897a19b",
   "metadata": {},
   "outputs": [],
   "source": [
    "import matplotlib.pyplot as plt"
   ]
  },
  {
   "cell_type": "markdown",
   "id": "a7fe0e17-5d41-4dfb-8c57-b86293309403",
   "metadata": {},
   "source": [
    "The Keras library conveniently includes the MNIST dataset as part of its API. You can check other datasets within the Keras library [here](https://keras.io/datasets/). \n",
    "\n",
    "So, let's load the MNIST dataset from the Keras library. The dataset is readily divided into a training set and a test set.\n"
   ]
  },
  {
   "cell_type": "code",
   "execution_count": 6,
   "id": "1fb035b3-f6b0-455c-9c43-e7445d3a42d4",
   "metadata": {},
   "outputs": [],
   "source": [
    "# import the data\n",
    "from keras.datasets import mnist\n",
    "\n",
    "# read the data\n",
    "(X_train, y_train), (X_test, y_test) = mnist.load_data()"
   ]
  },
  {
   "cell_type": "markdown",
   "id": "9cca734f-7ccb-4ec6-9dcc-47462d8db865",
   "metadata": {},
   "source": [
    "Let's confirm the number of images in each set. According to the dataset's documentation, we should have 60000 images in X_train and 10000 images in the X_test.\n"
   ]
  },
  {
   "cell_type": "code",
   "execution_count": 7,
   "id": "85c93f66-dac7-4937-ae8f-2f346e6dd258",
   "metadata": {},
   "outputs": [
    {
     "data": {
      "text/plain": [
       "(60000, 28, 28)"
      ]
     },
     "execution_count": 7,
     "metadata": {},
     "output_type": "execute_result"
    }
   ],
   "source": [
    "X_train.shape"
   ]
  },
  {
   "cell_type": "markdown",
   "id": "61c9c1ec-94a1-4545-9205-133bd8476ee0",
   "metadata": {},
   "source": [
    "The first number in the output tuple is the number of images, and the other two numbers are the size of the images in datset. So, each image is 28 pixels by 28 pixels.\n"
   ]
  },
  {
   "cell_type": "markdown",
   "id": "7c0b2825-42a0-4052-b0d5-5ae02dc5e859",
   "metadata": {},
   "source": [
    "Let's visualize the first image in the training set using Matplotlib's scripting layer.\n"
   ]
  },
  {
   "cell_type": "code",
   "execution_count": 8,
   "id": "755619b2-64e3-416d-922b-8e6b8526d05b",
   "metadata": {},
   "outputs": [
    {
     "data": {
      "text/plain": [
       "<matplotlib.image.AxesImage at 0x1ca60e692b0>"
      ]
     },
     "execution_count": 8,
     "metadata": {},
     "output_type": "execute_result"
    },
    {
     "data": {
      "image/png": "[encoded data removed]",
      "text/plain": [
       "<Figure size 640x480 with 1 Axes>"
      ]
     },
     "metadata": {},
     "output_type": "display_data"
    }
   ],
   "source": [
    "plt.imshow(X_train[0])"
   ]
  },
  {
   "cell_type": "markdown",
   "id": "b9f703ea-874d-47dd-9d7a-20c78cc13b36",
   "metadata": {},
   "source": [
    "With conventional neural networks, we cannot feed in the image as input as is. So we need to flatten the images into one-dimensional vectors, each of size 1 x (28 x 28) = 1 x 784.\n"
   ]
  },
  {
   "cell_type": "code",
   "execution_count": 9,
   "id": "f9a137c1-3554-4027-86f0-b1409ba810f4",
   "metadata": {},
   "outputs": [],
   "source": [
    "# flatten images into one-dimensional vector\n",
    "\n",
    "num_pixels = X_train.shape[1] * X_train.shape[2] # find size of one-dimensional vector\n",
    "\n",
    "X_train = X_train.reshape(X_train.shape[0], num_pixels).astype('float32') # flatten training images\n",
    "X_test = X_test.reshape(X_test.shape[0], num_pixels).astype('float32') # flatten test images"
   ]
  },
  {
   "cell_type": "markdown",
   "id": "da865046-1d25-4855-bb8d-3b6bfb15343a",
   "metadata": {},
   "source": [
    "Since pixel values can range from 0 to 255, let's normalize the vectors to be between 0 and 1.\n"
   ]
  },
  {
   "cell_type": "code",
   "execution_count": 10,
   "id": "b2b71bef-dd01-4e76-914e-f97e280b3be1",
   "metadata": {},
   "outputs": [],
   "source": [
    "# normalize inputs from 0-255 to 0-1\n",
    "X_train = X_train / 255\n",
    "X_test = X_test / 255"
   ]
  },
  {
   "cell_type": "markdown",
   "id": "8dba8319-79d1-4079-9afd-047692d9f3e4",
   "metadata": {},
   "source": [
    "Finally, before we start building our model, remember that for classification we need to divide our target variable into categories. We use the to_categorical function from the Keras Utilities package.\n"
   ]
  },
  {
   "cell_type": "code",
   "execution_count": 11,
   "id": "416635d1-1051-4b66-9acb-8dd5b8e68290",
   "metadata": {},
   "outputs": [
    {
     "name": "stdout",
     "output_type": "stream",
     "text": [
      "10\n"
     ]
    }
   ],
   "source": [
    "# one hot encode outputs\n",
    "y_train = to_categorical(y_train)\n",
    "y_test = to_categorical(y_test)\n",
    "\n",
    "num_classes = y_test.shape[1]\n",
    "print(num_classes)"
   ]
  },
  {
   "cell_type": "markdown",
   "id": "b11ce88d-0157-43f2-b64f-5b09fd916c78",
   "metadata": {},
   "source": [
    "## Build a Neural Network\n"
   ]
  },
  {
   "cell_type": "code",
   "execution_count": 12,
   "id": "22f4c784-d600-4b17-b494-3e98ee07af75",
   "metadata": {},
   "outputs": [],
   "source": [
    "# define classification model\n",
    "def classification_model():\n",
    "    # create model\n",
    "    \n",
    "    model = Sequential()\n",
    "    model.add(Input(shape=(num_pixels,)))\n",
    "    model.add(Dense(num_pixels, activation='relu'))\n",
    "    model.add(Dense(100, activation='relu'))\n",
    "    model.add(Dense(num_classes, activation='softmax'))\n",
    "    \n",
    "    \n",
    "    # compile model\n",
    "    model.compile(optimizer='adam', loss='categorical_crossentropy', metrics=['accuracy'])\n",
    "    return model"
   ]
  },
  {
   "cell_type": "markdown",
   "id": "aa0d7bc7-1344-4d0d-857b-4a91c685c232",
   "metadata": {},
   "source": [
    "## Train and Test the Network\n"
   ]
  },
  {
   "cell_type": "code",
   "execution_count": 13,
   "id": "711b258f-73fe-4ace-ae96-e72c71d6af67",
   "metadata": {},
   "outputs": [
    {
     "name": "stdout",
     "output_type": "stream",
     "text": [
      "Epoch 1/10\n",
      "1875/1875 - 12s - 7ms/step - accuracy: 0.9437 - loss: 0.1858 - val_accuracy: 0.9662 - val_loss: 0.1073\n",
      "Epoch 2/10\n",
      "1875/1875 - 12s - 6ms/step - accuracy: 0.9759 - loss: 0.0773 - val_accuracy: 0.9686 - val_loss: 0.0992\n",
      "Epoch 3/10\n",
      "1875/1875 - 11s - 6ms/step - accuracy: 0.9822 - loss: 0.0543 - val_accuracy: 0.9761 - val_loss: 0.0788\n",
      "Epoch 4/10\n",
      "1875/1875 - 11s - 6ms/step - accuracy: 0.9871 - loss: 0.0391 - val_accuracy: 0.9751 - val_loss: 0.0938\n",
      "Epoch 5/10\n",
      "1875/1875 - 11s - 6ms/step - accuracy: 0.9896 - loss: 0.0316 - val_accuracy: 0.9798 - val_loss: 0.0783\n",
      "Epoch 6/10\n",
      "1875/1875 - 11s - 6ms/step - accuracy: 0.9911 - loss: 0.0273 - val_accuracy: 0.9809 - val_loss: 0.0743\n",
      "Epoch 7/10\n",
      "1875/1875 - 12s - 7ms/step - accuracy: 0.9929 - loss: 0.0217 - val_accuracy: 0.9794 - val_loss: 0.0855\n",
      "Epoch 8/10\n",
      "1875/1875 - 13s - 7ms/step - accuracy: 0.9939 - loss: 0.0195 - val_accuracy: 0.9783 - val_loss: 0.0903\n",
      "Epoch 9/10\n",
      "1875/1875 - 13s - 7ms/step - accuracy: 0.9948 - loss: 0.0170 - val_accuracy: 0.9777 - val_loss: 0.1187\n",
      "Epoch 10/10\n",
      "1875/1875 - 13s - 7ms/step - accuracy: 0.9942 - loss: 0.0188 - val_accuracy: 0.9820 - val_loss: 0.0889\n"
     ]
    }
   ],
   "source": [
    "# build the model\n",
    "model = classification_model()\n",
    "\n",
    "# fit the model\n",
    "model.fit(X_train, y_train, validation_data=(X_test, y_test), epochs=10, verbose=2)\n",
    "\n",
    "# evaluate the model\n",
    "scores = model.evaluate(X_test, y_test, verbose=0)"
   ]
  },
  {
   "cell_type": "markdown",
   "id": "d8668581-4e3e-4cae-a0ba-1932c560aa01",
   "metadata": {},
   "source": [
    "Let's print the accuracy and the corresponding error.\n"
   ]
  },
  {
   "cell_type": "code",
   "execution_count": 14,
   "id": "c62635ba-7b96-44d8-85e5-b93101313e45",
   "metadata": {},
   "outputs": [
    {
     "name": "stdout",
     "output_type": "stream",
     "text": [
      "Accuracy: 0.9819999933242798% \n",
      " Error: 0.018000006675720215\n"
     ]
    }
   ],
   "source": [
    "print('Accuracy: {}% \\n Error: {}'.format(scores[1], 1 - scores[1]))        "
   ]
  },
  {
   "cell_type": "markdown",
   "id": "8cb896d9-ac23-49e1-a08d-3e95a12f3baa",
   "metadata": {},
   "source": [
    "Just running 10 epochs could actually take over 20 minutes. But enjoy the results as they are getting generated.\n"
   ]
  },
  {
   "cell_type": "markdown",
   "id": "738fbd92-dfb1-49c5-b8d4-a1c0a60a4b06",
   "metadata": {},
   "source": [
    "Sometimes, you cannot afford to retrain your model everytime you want to use it, especially if you are limited on computational resources and training your model can take a long time. Therefore, with the Keras library, you can save your model after training. To do that, we use the save method.\n"
   ]
  },
  {
   "cell_type": "code",
   "execution_count": 15,
   "id": "26f2fd96-8a5e-4323-9fa2-0102ad9cabab",
   "metadata": {},
   "outputs": [],
   "source": [
    "model.save('classification_model.keras')"
   ]
  },
  {
   "cell_type": "markdown",
   "id": "b3f9a939-77b2-47df-ab3c-fb98d5951f3d",
   "metadata": {},
   "source": [
    "Since our model contains multidimensional arrays of data, then models are usually saved as .keras files.\n"
   ]
  },
  {
   "cell_type": "markdown",
   "id": "87d23cda-d3df-451f-bb71-087284ef482d",
   "metadata": {},
   "source": [
    "When you are ready to use your model again, you use the load_model function from <strong>keras.saving</strong>.\n"
   ]
  },
  {
   "cell_type": "code",
   "execution_count": 16,
   "id": "30487ebb-692c-4cdc-b3ea-ac0df17cfcff",
   "metadata": {},
   "outputs": [],
   "source": [
    "pretrained_model = keras.saving.load_model('classification_model.keras')"
   ]
  },
  {
   "cell_type": "markdown",
   "id": "59a77d59-6abd-4025-ac75-2e890c84a72b",
   "metadata": {},
   "source": [
    "<h3>Practice Exercise 1</h3>\n"
   ]
  },
  {
   "cell_type": "markdown",
   "id": "9b4499a9-fdaa-4c5e-8a44-1332791440a0",
   "metadata": {},
   "source": [
    "Create a neural network model with 6 dense layers and compare its accuracy\n"
   ]
  },
  {
   "cell_type": "code",
   "execution_count": 17,
   "id": "3c920a54-1d95-4f5a-8f3a-95f1f933a775",
   "metadata": {},
   "outputs": [
    {
     "name": "stdout",
     "output_type": "stream",
     "text": [
      "Epoch 1/10\n",
      "1875/1875 - 12s - 6ms/step - accuracy: 0.9336 - loss: 0.2224 - val_accuracy: 0.9603 - val_loss: 0.1372\n",
      "Epoch 2/10\n",
      "1875/1875 - 12s - 6ms/step - accuracy: 0.9714 - loss: 0.0985 - val_accuracy: 0.9636 - val_loss: 0.1234\n",
      "Epoch 3/10\n",
      "1875/1875 - 14s - 7ms/step - accuracy: 0.9790 - loss: 0.0727 - val_accuracy: 0.9691 - val_loss: 0.1033\n",
      "Epoch 4/10\n",
      "1875/1875 - 14s - 7ms/step - accuracy: 0.9830 - loss: 0.0559 - val_accuracy: 0.9738 - val_loss: 0.0942\n",
      "Epoch 5/10\n",
      "1875/1875 - 14s - 7ms/step - accuracy: 0.9859 - loss: 0.0480 - val_accuracy: 0.9767 - val_loss: 0.0840\n",
      "Epoch 6/10\n",
      "1875/1875 - 15s - 8ms/step - accuracy: 0.9877 - loss: 0.0419 - val_accuracy: 0.9760 - val_loss: 0.0928\n",
      "Epoch 7/10\n",
      "1875/1875 - 14s - 8ms/step - accuracy: 0.9898 - loss: 0.0340 - val_accuracy: 0.9786 - val_loss: 0.0853\n",
      "Epoch 8/10\n",
      "1875/1875 - 14s - 8ms/step - accuracy: 0.9913 - loss: 0.0307 - val_accuracy: 0.9780 - val_loss: 0.0849\n",
      "Epoch 9/10\n",
      "1875/1875 - 15s - 8ms/step - accuracy: 0.9924 - loss: 0.0265 - val_accuracy: 0.9807 - val_loss: 0.0772\n",
      "Epoch 10/10\n",
      "1875/1875 - 15s - 8ms/step - accuracy: 0.9923 - loss: 0.0257 - val_accuracy: 0.9745 - val_loss: 0.1061\n",
      "Accuracy_3_layers: 0.9819999933242798% \n",
      " Accuracy_6_layers: 0.9745000004768372\n"
     ]
    }
   ],
   "source": [
    "# Write your code here\n",
    "def classification_model_6layers():\n",
    "    # create model\n",
    "    \n",
    "    model = Sequential()\n",
    "    model.add(Input(shape=(num_pixels,)))\n",
    "    model.add(Dense(num_pixels, activation='relu'))\n",
    "    model.add(Dense(100, activation='relu'))\n",
    "    model.add(Dense(100, activation='relu'))\n",
    "    model.add(Dense(100, activation='relu'))\n",
    "    model.add(Dense(100, activation='relu'))\n",
    "    model.add(Dense(num_classes, activation='softmax'))\n",
    "    \n",
    "    \n",
    "    # compile model\n",
    "    model.compile(optimizer='adam', loss='categorical_crossentropy', metrics=['accuracy'])\n",
    "    return model\n",
    "\n",
    "# build the model\n",
    "model_6layers = classification_model_6layers()\n",
    "\n",
    "# fit the model\n",
    "model_6layers.fit(X_train, y_train, validation_data=(X_test, y_test), epochs=10, verbose=2)\n",
    "\n",
    "# evaluate the model\n",
    "scores_6layers = model_6layers.evaluate(X_test, y_test, verbose=0)\n",
    "\n",
    "print('Accuracy_3_layers: {}% \\n Accuracy_6_layers: {}'.format(scores[1], scores_6layers[1])) \n"
   ]
  },
  {
   "cell_type": "markdown",
   "id": "5ea8cf34-bed0-4c53-84ff-9c5f180c1ca7",
   "metadata": {},
   "source": [
    "Double-click <b>here</b> for the solution.\n",
    "\n",
    "<!-- Your answer is below:\n",
    "def classification_model_6layers():\n",
    "    # create model\n",
    "    \n",
    "    model = Sequential()\n",
    "    model.add(Input(shape=(num_pixels,)))\n",
    "    model.add(Dense(num_pixels, activation='relu'))\n",
    "    model.add(Dense(100, activation='relu'))\n",
    "    model.add(Dense(100, activation='relu'))\n",
    "    model.add(Dense(100, activation='relu'))\n",
    "    model.add(Dense(100, activation='relu'))\n",
    "    model.add(Dense(num_classes, activation='softmax'))\n",
    "    \n",
    "    \n",
    "    # compile model\n",
    "    model.compile(optimizer='adam', loss='categorical_crossentropy', metrics=['accuracy'])\n",
    "    return model\n",
    "\n",
    "# build the model\n",
    "model_6layers = classification_model_6layers()\n",
    "\n",
    "# fit the model\n",
    "model_6layers.fit(X_train, y_train, validation_data=(X_test, y_test), epochs=10, verbose=2)\n",
    "\n",
    "# evaluate the model\n",
    "scores_6layers = model_6layers.evaluate(X_test, y_test, verbose=0)\n",
    "\n",
    "print('Accuracy_3_layers: {}% \\n Accuracy_6_layers: {}'.format(scores[1], scores_6layers[1]))   \n",
    "\n",
    "-->\n"
   ]
  },
  {
   "cell_type": "markdown",
   "id": "06868e1f-5543-4536-8ed3-ebbf3715663f",
   "metadata": {},
   "source": [
    "<h3>Practice Exercise 2</h3>\n"
   ]
  },
  {
   "cell_type": "markdown",
   "id": "c26cca9e-a280-4083-9399-536639edcc00",
   "metadata": {},
   "source": [
    "Now, load the the earlier saved model, train it further for 10 more epochs and check the accuracy\n"
   ]
  },
  {
   "cell_type": "code",
   "execution_count": 18,
   "id": "02fdd930-699f-4483-842e-38f66775fd36",
   "metadata": {},
   "outputs": [
    {
     "name": "stdout",
     "output_type": "stream",
     "text": [
      "Pre-trained model loaded successufully\n",
      "Epoch 1/10\n",
      "1875/1875 - 11s - 6ms/step - accuracy: 0.9953 - loss: 0.0149 - val_accuracy: 0.9800 - val_loss: 0.0902\n",
      "Epoch 2/10\n",
      "1875/1875 - 14s - 8ms/step - accuracy: 0.9957 - loss: 0.0133 - val_accuracy: 0.9803 - val_loss: 0.0922\n",
      "Epoch 3/10\n",
      "1875/1875 - 16s - 9ms/step - accuracy: 0.9958 - loss: 0.0135 - val_accuracy: 0.9778 - val_loss: 0.1133\n",
      "Epoch 4/10\n",
      "1875/1875 - 17s - 9ms/step - accuracy: 0.9969 - loss: 0.0097 - val_accuracy: 0.9836 - val_loss: 0.0890\n",
      "Epoch 5/10\n",
      "1875/1875 - 19s - 10ms/step - accuracy: 0.9956 - loss: 0.0152 - val_accuracy: 0.9819 - val_loss: 0.1099\n",
      "Epoch 6/10\n",
      "1875/1875 - 18s - 9ms/step - accuracy: 0.9969 - loss: 0.0104 - val_accuracy: 0.9840 - val_loss: 0.1076\n",
      "Epoch 7/10\n",
      "1875/1875 - 18s - 10ms/step - accuracy: 0.9968 - loss: 0.0113 - val_accuracy: 0.9806 - val_loss: 0.1235\n",
      "Epoch 8/10\n",
      "1875/1875 - 18s - 10ms/step - accuracy: 0.9967 - loss: 0.0113 - val_accuracy: 0.9841 - val_loss: 0.1054\n",
      "Epoch 9/10\n",
      "1875/1875 - 16s - 9ms/step - accuracy: 0.9969 - loss: 0.0117 - val_accuracy: 0.9800 - val_loss: 0.1378\n",
      "Epoch 10/10\n",
      "1875/1875 - 14s - 8ms/step - accuracy: 0.9977 - loss: 0.0082 - val_accuracy: 0.9819 - val_loss: 0.1308\n",
      "Accuracy_10_epochs: 0.9819999933242798% \n",
      " Accuracy_20_epochs: 0.9818999767303467\n"
     ]
    }
   ],
   "source": [
    "# Write your code here\n",
    "#load the saved model\n",
    "pretrained_model = keras.saving.load_model('classification_model.keras')\n",
    "\n",
    "print(\"Pre-trained model loaded successufully\")\n",
    "\n",
    "# Further train the loaded model\n",
    "pretrained_model.fit(X_train, y_train, validation_data=(X_test, y_test), epochs=10, verbose=2)\n",
    "\n",
    "# evaluate the model\n",
    "scores_20_epochs = pretrained_model.evaluate(X_test, y_test, verbose=0)\n",
    "print('Accuracy_10_epochs: {}% \\n Accuracy_20_epochs: {}'.format(scores[1], scores_20_epochs[1]))  "
   ]
  },
  {
   "cell_type": "markdown",
   "id": "669c6dda-3892-4a90-a700-772e7e690942",
   "metadata": {},
   "source": [
    "Double-click <b>here</b> for the solution.\n",
    "\n",
    "<!-- Your answer is below:\n",
    "\n",
    "#load the saved model\n",
    "pretrained_model = keras.saving.load_model('classification_model.keras')\n",
    "\n",
    "print(\"Pre-trained model loaded successufully\")\n",
    "\n",
    "# Further train the loaded model\n",
    "pretrained_model.fit(X_train, y_train, validation_data=(X_test, y_test), epochs=10, verbose=2)\n",
    "\n",
    "# evaluate the model\n",
    "scores_20_epochs = pretrained_model.evaluate(X_test, y_test, verbose=0)\n",
    "print('Accuracy_10_epochs: {}% \\n Accuracy_20_epochs: {}'.format(scores[1], scores_20_epochs[1]))   \n",
    "\n",
    "-->\n"
   ]
  },
  {
   "cell_type": "markdown",
   "id": "aba414e9-b546-4a17-a341-c43163da57fb",
   "metadata": {},
   "source": [
    "### Thank you for completing this lab!\n",
    "\n",
    "This notebook was created by [Alex Aklson](https://www.linkedin.com/in/aklson/). I hope you found this lab interesting and educational. Feel free to contact me if you have any questions!\n"
   ]
  },
  {
   "cell_type": "markdown",
   "id": "22a30a27-69bc-40b0-9227-7a2cb40dc5ea",
   "metadata": {},
   "source": [
    "<!--\n",
    "## Change Log\n",
    "\n",
    "|  Date (YYYY-MM-DD) |  Version | Changed By  |  Change Description |\n",
    "|---|---|---|---|\n",
    "| 2024-11-20  | 3.0  |   Aman   |  Updated the library versions to current |\n",
    "| 2020-09-21  | 2.0  | Srishti  |  Migrated Lab to Markdown and added to course repo in GitLab |\n",
    "\n",
    "\n",
    "\n",
    "<hr>\n",
    "\n",
    "## <h3 align=\"center\"> © IBM Corporation. All rights reserved. <h3/>\n"
   ]
  },
  {
   "cell_type": "markdown",
   "id": "d1b83917-d21c-453d-8f41-4721aee322ce",
   "metadata": {},
   "source": [
    "## <h3 align=\"center\"> &#169; IBM Corporation. All rights reserved. <h3/>\n",
    "\n"
   ]
  }
 ],
 "metadata": {
  "kernelspec": {
   "display_name": "Python 3",
   "language": "python",
   "name": "python3"
  },
  "language_info": {
   "codemirror_mode": {
    "name": "ipython",
    "version": 3
   },
   "file_extension": ".py",
   "mimetype": "text/x-python",
   "name": "python",
   "nbconvert_exporter": "python",
   "pygments_lexer": "ipython3",
   "version": "3.13.2"
  },
  "prev_pub_hash": "c850b639d611b84ea2eecf5ddb84ea433849e20b6766a84b43a9df0c51e4e9ee"
 },
 "nbformat": 4,
 "nbformat_minor": 4
}
