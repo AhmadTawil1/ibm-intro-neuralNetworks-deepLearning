{
 "cells": [
  {
   "cell_type": "markdown",
   "id": "bd255a8b-83cc-4ca8-99a4-cd263081bcd0",
   "metadata": {},
   "source": [
    "<p style=\"text-align:center\">\n",
    "    <a href=\"https://skills.network\" target=\"_blank\">\n",
    "    <img src=\"https://cf-courses-data.s3.us.cloud-object-storage.appdomain.cloud/assets/logos/SN_web_lightmode.png\" width=\"200\" alt=\"Skills Network Logo\"  />\n",
    "    </a>\n",
    "</p>\n"
   ]
  },
  {
   "cell_type": "markdown",
   "id": "a09deab8-243d-4e10-af9d-b1490625a13c",
   "metadata": {},
   "source": [
    "# Final Project: Classification and Captioning Aircraft Damage Using Pretrained Models\n"
   ]
  },
  {
   "cell_type": "markdown",
   "id": "aca17f62-8229-4cb1-a757-1c69d980c0dd",
   "metadata": {},
   "source": [
    "Estimated time needed: **90** minutes\n"
   ]
  },
  {
   "cell_type": "markdown",
   "id": "6a16bdba-05a9-4ed7-a57c-10e5e90490ae",
   "metadata": {},
   "source": [
    "## **Introduction**\n",
    "\n",
    "In this project, you will classify aircraft damage using a pre-trained VGG16 model and generate captions using a Transformer-based pretrained model.\n",
    "\n",
    "## **Project Overview**\n",
    "\n",
    "Aircraft damage detection is essential for maintaining the safety and longevity of aircraft. Traditional manual inspection methods are time-consuming and prone to human error. This project aims to automate the classification of aircraft damage into two categories: \"dent\" and \"crack.\" For this, we will utilize feature extraction with a pre-trained VGG16 model to classify the damage from aircraft images. Additionally, we will use a pre-trained Transformer model to generate captions and summaries for the images.\n",
    "\n",
    "## **Aim of the Project**\n",
    "\n",
    "The goal of this project is to develop an automated model that accurately classifies aircraft damage from images. By the end of the project, you will have trained and evaluated a model that utilizes feature extraction from VGG16 for damage classification. This model will be applicable in real-world damage detection within the aviation industry. Furthermore, the project will showcase how we can use a Transformer-based model to caption and summarize images, providing a detailed description of the damage.\n",
    "\n",
    "## **Final Output**\n",
    "\n",
    "- A trained model capable of classifying aircraft images into \"dent\" and \"crack\" categories, enabling automated aircraft damage detection.\n",
    "- A Transformer-based model that generates captions and summaries of images\n"
   ]
  },
  {
   "cell_type": "markdown",
   "id": "2485c766-0ca8-4fe8-ac34-e273f710e31f",
   "metadata": {},
   "source": [
    "You will be using the [Aircraft dataset](https://cf-courses-data.s3.us.cloud-object-storage.appdomain.cloud/ZjXM4RKxlBK9__ZjHBLl5A/aircraft-damage-dataset-v1.tar).\n",
    "The dataset is taken from the here (Original Source): [Roboflow Aircraft Dataset](https://universe.roboflow.com/youssef-donia-fhktl/aircraft-damage-detection-1j9qk) Provided by a Roboflow user, License: CC BY 4.\n"
   ]
  },
  {
   "cell_type": "markdown",
   "id": "772587bf-7703-442b-92ce-19f0d2ec7727",
   "metadata": {},
   "source": [
    "<h2>Table of Contents</h2>\n",
    " \n",
    "<div class=\"alert alert-block alert-info\" style=\"margin-top: 20px\">\n",
    "    <p><font size=\"5\">Part 1 - Classification Problem: Classifying the defect on the aircraft as 'dent' or 'crack'</p>\n",
    "<font size=\"3\">\n",
    "        1. <a href=\"#1.1-Dataset-Preparation\">1.1 Dataset Preparation</a><br>\n",
    "        2. <a href=\"#1.2-Data-Preprocessing\">1.2 Data Preprocessing</a><br>\n",
    "        3. <a href=\"#1.3-Model-Definition\">1.3 Model Definition</a><br>\n",
    "        4. <a href=\"#1.4-Model-Training\">1.4 Model Training</a><br>\n",
    "        5. <a href=\"#1.5-Visualizing-Training-Results\">1.5 Visualizing Training Results</a><br>\n",
    "        6. <a href=\"#1.6-Model-Evaluation\">1.6 Model Evaluation</a><br>\n",
    "        7. <a href=\"#1.7-Visualizing-Predictions\">1.7 Visualizing Predictions</a><br>\n",
    "    <br>\n",
    "<p><font size=\"5\">Part 2: Image Captioning and Summarization using BLIP Pretrained Model</p>\n",
    "<font size=\"3\">\n",
    "        1. <a href=\"#2.1-Loading-BLIP-Model\">2.1 Loading BLIP Model</a><br>\n",
    "        2. <a href=\"#2.2-Generating-Captions-and-Summaries\">2.2 Generating Captions and Summaries</a><br>\n",
    "        <br>\n",
    "    \n"
   ]
  },
  {
   "cell_type": "markdown",
   "id": "785e99ac-0960-44a9-a98c-09a93a8e0cfb",
   "metadata": {},
   "source": [
    "# 1.1 Dataset-Preparation\n"
   ]
  },
  {
   "cell_type": "markdown",
   "id": "3666d9e5-90c4-4da7-a4ae-51c45a8203ea",
   "metadata": {},
   "source": [
    "## Objectives\n",
    "\n",
    "After you complete the project, you will be able to:\n",
    "\n",
    "- Use the VGG16 model for image classification.\n",
    "- Prepare and preprocess image data for a machine learning task.\n",
    "- Evaluate the model’s performance using appropriate metrics.\n",
    "- Visualize model predictions on test data.\n",
    "- Use a custom Keras layer. \n",
    "\n",
    "\n",
    " ### Task List\n",
    "To achieve the above objectives, you will complete the following tasks:\n",
    "\n",
    "- Task 1: Create a `valid_generator` using the `valid_datagen` object\n",
    "- Task 2: Create a `test_generator` using the `test_datagen` object\n",
    "- Task 3: Load the VGG16 model\n",
    "- Task 4: Compile the model\n",
    "- Task 5: Train the model\n",
    "- Task 6: Plot accuracy curves for training and validation sets \n",
    "- Task 7: Visualizing the results \n",
    "- Task 8: Implement a Helper Function to Use the Custom Keras Layer\n",
    "- Task 9: Generate a caption for an image using the using BLIP pretrained model\n",
    "- Task 10: Generate a summary of an image using BLIP pretrained model\n",
    "\n",
    "**Note**:.<br>\n",
    "1. For each task, copy and save the code or output as mentioned in the task for final grading.<br>\n",
    "2. Download the file after completion of the final project.The file should have both code and output.This will be used for final grading.\n"
   ]
  },
  {
   "cell_type": "markdown",
   "id": "3e125355-045d-4f89-bebe-1cee4f6bf482",
   "metadata": {},
   "source": [
    "## Setup\n"
   ]
  },
  {
   "cell_type": "code",
   "execution_count": 1,
   "id": "5be021e3-88e2-44bd-b8de-903addc83271",
   "metadata": {},
   "outputs": [],
   "source": [
    "import warnings\n",
    "warnings.filterwarnings('ignore')"
   ]
  },
  {
   "cell_type": "markdown",
   "id": "1c9d5d8a-3f95-4335-a719-30d2bed1e3ea",
   "metadata": {},
   "source": [
    "### Installing Required Libraries\n"
   ]
  },
  {
   "cell_type": "markdown",
   "id": "77d37302-42f9-47e7-bef8-0fdada0f35f4",
   "metadata": {},
   "source": [
    "The following required libraries are __not__ pre-installed in the Skills Network Labs environment. __You will need to run the following cell__ to install them:\n"
   ]
  },
  {
   "cell_type": "code",
   "execution_count": 1,
   "id": "b8104fcc-fdfd-445e-a919-862c1d63c66a",
   "metadata": {},
   "outputs": [
    {
     "name": "stdout",
     "output_type": "stream",
     "text": [
      "Requirement already satisfied: pandas in c:\\users\\tawil\\python\\ibm-ai-engineering\\2-introduction-to-deeplearning-and-neuralnetworks\\module5-final-project\\.env5\\lib\\site-packages (2.2.3)\n",
      "Requirement already satisfied: numpy>=1.26.0 in c:\\users\\tawil\\python\\ibm-ai-engineering\\2-introduction-to-deeplearning-and-neuralnetworks\\module5-final-project\\.env5\\lib\\site-packages (from pandas) (2.3.2)\n",
      "Requirement already satisfied: python-dateutil>=2.8.2 in c:\\users\\tawil\\python\\ibm-ai-engineering\\2-introduction-to-deeplearning-and-neuralnetworks\\module5-final-project\\.env5\\lib\\site-packages (from pandas) (2.9.0.post0)\n",
      "Requirement already satisfied: pytz>=2020.1 in c:\\users\\tawil\\python\\ibm-ai-engineering\\2-introduction-to-deeplearning-and-neuralnetworks\\module5-final-project\\.env5\\lib\\site-packages (from pandas) (2025.2)\n",
      "Requirement already satisfied: tzdata>=2022.7 in c:\\users\\tawil\\python\\ibm-ai-engineering\\2-introduction-to-deeplearning-and-neuralnetworks\\module5-final-project\\.env5\\lib\\site-packages (from pandas) (2025.2)\n",
      "Requirement already satisfied: six>=1.5 in c:\\users\\tawil\\python\\ibm-ai-engineering\\2-introduction-to-deeplearning-and-neuralnetworks\\module5-final-project\\.env5\\lib\\site-packages (from python-dateutil>=2.8.2->pandas) (1.17.0)\n"
     ]
    },
    {
     "name": "stderr",
     "output_type": "stream",
     "text": [
      "\n",
      "[notice] A new release of pip is available: 24.3.1 -> 25.2\n",
      "[notice] To update, run: python.exe -m pip install --upgrade pip\n"
     ]
    },
    {
     "name": "stdout",
     "output_type": "stream",
     "text": [
      "Collecting tensorflow\n",
      "  Using cached tensorflow-2.20.0-cp313-cp313-win_amd64.whl.metadata (4.6 kB)\n",
      "Collecting absl-py>=1.0.0 (from tensorflow)\n",
      "  Using cached absl_py-2.3.1-py3-none-any.whl.metadata (3.3 kB)\n",
      "Collecting astunparse>=1.6.0 (from tensorflow)\n",
      "  Using cached astunparse-1.6.3-py2.py3-none-any.whl.metadata (4.4 kB)\n",
      "Collecting flatbuffers>=24.3.25 (from tensorflow)\n",
      "  Using cached flatbuffers-25.2.10-py2.py3-none-any.whl.metadata (875 bytes)\n",
      "Collecting gast!=0.5.0,!=0.5.1,!=0.5.2,>=0.2.1 (from tensorflow)\n",
      "  Using cached gast-0.6.0-py3-none-any.whl.metadata (1.3 kB)\n",
      "Collecting google_pasta>=0.1.1 (from tensorflow)\n",
      "  Using cached google_pasta-0.2.0-py3-none-any.whl.metadata (814 bytes)\n",
      "Collecting libclang>=13.0.0 (from tensorflow)\n",
      "  Using cached libclang-18.1.1-py2.py3-none-win_amd64.whl.metadata (5.3 kB)\n",
      "Collecting opt_einsum>=2.3.2 (from tensorflow)\n",
      "  Using cached opt_einsum-3.4.0-py3-none-any.whl.metadata (6.3 kB)\n",
      "Requirement already satisfied: packaging in c:\\users\\tawil\\python\\ibm-ai-engineering\\2-introduction-to-deeplearning-and-neuralnetworks\\module5-final-project\\.env5\\lib\\site-packages (from tensorflow) (25.0)\n",
      "Collecting protobuf>=5.28.0 (from tensorflow)\n",
      "  Using cached protobuf-6.32.0-cp310-abi3-win_amd64.whl.metadata (593 bytes)\n",
      "Collecting requests<3,>=2.21.0 (from tensorflow)\n",
      "  Using cached requests-2.32.5-py3-none-any.whl.metadata (4.9 kB)\n",
      "Collecting setuptools (from tensorflow)\n",
      "  Using cached setuptools-80.9.0-py3-none-any.whl.metadata (6.6 kB)\n",
      "Requirement already satisfied: six>=1.12.0 in c:\\users\\tawil\\python\\ibm-ai-engineering\\2-introduction-to-deeplearning-and-neuralnetworks\\module5-final-project\\.env5\\lib\\site-packages (from tensorflow) (1.17.0)\n",
      "Collecting termcolor>=1.1.0 (from tensorflow)\n",
      "  Using cached termcolor-3.1.0-py3-none-any.whl.metadata (6.4 kB)\n",
      "Collecting typing_extensions>=3.6.6 (from tensorflow)\n",
      "  Using cached typing_extensions-4.15.0-py3-none-any.whl.metadata (3.3 kB)\n",
      "Collecting wrapt>=1.11.0 (from tensorflow)\n",
      "  Using cached wrapt-1.17.3-cp313-cp313-win_amd64.whl.metadata (6.5 kB)\n",
      "Collecting grpcio<2.0,>=1.24.3 (from tensorflow)\n",
      "  Using cached grpcio-1.74.0-cp313-cp313-win_amd64.whl.metadata (4.0 kB)\n",
      "Collecting tensorboard~=2.20.0 (from tensorflow)\n",
      "  Using cached tensorboard-2.20.0-py3-none-any.whl.metadata (1.8 kB)\n",
      "Collecting keras>=3.10.0 (from tensorflow)\n",
      "  Using cached keras-3.11.3-py3-none-any.whl.metadata (5.9 kB)\n",
      "Requirement already satisfied: numpy>=1.26.0 in c:\\users\\tawil\\python\\ibm-ai-engineering\\2-introduction-to-deeplearning-and-neuralnetworks\\module5-final-project\\.env5\\lib\\site-packages (from tensorflow) (2.3.2)\n",
      "Collecting h5py>=3.11.0 (from tensorflow)\n",
      "  Using cached h5py-3.14.0-cp313-cp313-win_amd64.whl.metadata (2.7 kB)\n",
      "Collecting ml_dtypes<1.0.0,>=0.5.1 (from tensorflow)\n",
      "  Using cached ml_dtypes-0.5.3-cp313-cp313-win_amd64.whl.metadata (9.2 kB)\n",
      "Collecting wheel<1.0,>=0.23.0 (from astunparse>=1.6.0->tensorflow)\n",
      "  Using cached wheel-0.45.1-py3-none-any.whl.metadata (2.3 kB)\n",
      "Collecting rich (from keras>=3.10.0->tensorflow)\n",
      "  Using cached rich-14.1.0-py3-none-any.whl.metadata (18 kB)\n",
      "Collecting namex (from keras>=3.10.0->tensorflow)\n",
      "  Using cached namex-0.1.0-py3-none-any.whl.metadata (322 bytes)\n",
      "Collecting optree (from keras>=3.10.0->tensorflow)\n",
      "  Using cached optree-0.17.0-cp313-cp313-win_amd64.whl.metadata (34 kB)\n",
      "Collecting charset_normalizer<4,>=2 (from requests<3,>=2.21.0->tensorflow)\n",
      "  Using cached charset_normalizer-3.4.3-cp313-cp313-win_amd64.whl.metadata (37 kB)\n",
      "Collecting idna<4,>=2.5 (from requests<3,>=2.21.0->tensorflow)\n",
      "  Using cached idna-3.10-py3-none-any.whl.metadata (10 kB)\n",
      "Collecting urllib3<3,>=1.21.1 (from requests<3,>=2.21.0->tensorflow)\n",
      "  Using cached urllib3-2.5.0-py3-none-any.whl.metadata (6.5 kB)\n",
      "Collecting certifi>=2017.4.17 (from requests<3,>=2.21.0->tensorflow)\n",
      "  Using cached certifi-2025.8.3-py3-none-any.whl.metadata (2.4 kB)\n",
      "Collecting markdown>=2.6.8 (from tensorboard~=2.20.0->tensorflow)\n",
      "  Downloading markdown-3.9-py3-none-any.whl.metadata (5.1 kB)\n",
      "Requirement already satisfied: pillow in c:\\users\\tawil\\python\\ibm-ai-engineering\\2-introduction-to-deeplearning-and-neuralnetworks\\module5-final-project\\.env5\\lib\\site-packages (from tensorboard~=2.20.0->tensorflow) (11.1.0)\n",
      "Collecting tensorboard-data-server<0.8.0,>=0.7.0 (from tensorboard~=2.20.0->tensorflow)\n",
      "  Using cached tensorboard_data_server-0.7.2-py3-none-any.whl.metadata (1.1 kB)\n",
      "Collecting werkzeug>=1.0.1 (from tensorboard~=2.20.0->tensorflow)\n",
      "  Using cached werkzeug-3.1.3-py3-none-any.whl.metadata (3.7 kB)\n",
      "Collecting MarkupSafe>=2.1.1 (from werkzeug>=1.0.1->tensorboard~=2.20.0->tensorflow)\n",
      "  Using cached MarkupSafe-3.0.2-cp313-cp313-win_amd64.whl.metadata (4.1 kB)\n",
      "Collecting markdown-it-py>=2.2.0 (from rich->keras>=3.10.0->tensorflow)\n",
      "  Using cached markdown_it_py-4.0.0-py3-none-any.whl.metadata (7.3 kB)\n",
      "Requirement already satisfied: pygments<3.0.0,>=2.13.0 in c:\\users\\tawil\\python\\ibm-ai-engineering\\2-introduction-to-deeplearning-and-neuralnetworks\\module5-final-project\\.env5\\lib\\site-packages (from rich->keras>=3.10.0->tensorflow) (2.19.2)\n",
      "Collecting mdurl~=0.1 (from markdown-it-py>=2.2.0->rich->keras>=3.10.0->tensorflow)\n",
      "  Using cached mdurl-0.1.2-py3-none-any.whl.metadata (1.6 kB)\n",
      "Using cached tensorflow-2.20.0-cp313-cp313-win_amd64.whl (332.0 MB)\n",
      "Using cached absl_py-2.3.1-py3-none-any.whl (135 kB)\n",
      "Using cached astunparse-1.6.3-py2.py3-none-any.whl (12 kB)\n",
      "Using cached flatbuffers-25.2.10-py2.py3-none-any.whl (30 kB)\n",
      "Using cached gast-0.6.0-py3-none-any.whl (21 kB)\n",
      "Using cached google_pasta-0.2.0-py3-none-any.whl (57 kB)\n",
      "Using cached grpcio-1.74.0-cp313-cp313-win_amd64.whl (4.5 MB)\n",
      "Using cached h5py-3.14.0-cp313-cp313-win_amd64.whl (2.9 MB)\n",
      "Using cached keras-3.11.3-py3-none-any.whl (1.4 MB)\n",
      "Using cached libclang-18.1.1-py2.py3-none-win_amd64.whl (26.4 MB)\n",
      "Using cached ml_dtypes-0.5.3-cp313-cp313-win_amd64.whl (208 kB)\n",
      "Using cached opt_einsum-3.4.0-py3-none-any.whl (71 kB)\n",
      "Using cached protobuf-6.32.0-cp310-abi3-win_amd64.whl (435 kB)\n",
      "Using cached requests-2.32.5-py3-none-any.whl (64 kB)\n",
      "Using cached tensorboard-2.20.0-py3-none-any.whl (5.5 MB)\n",
      "Using cached setuptools-80.9.0-py3-none-any.whl (1.2 MB)\n",
      "Using cached termcolor-3.1.0-py3-none-any.whl (7.7 kB)\n",
      "Using cached typing_extensions-4.15.0-py3-none-any.whl (44 kB)\n",
      "Using cached wrapt-1.17.3-cp313-cp313-win_amd64.whl (38 kB)\n",
      "Using cached certifi-2025.8.3-py3-none-any.whl (161 kB)\n",
      "Using cached charset_normalizer-3.4.3-cp313-cp313-win_amd64.whl (107 kB)\n",
      "Using cached idna-3.10-py3-none-any.whl (70 kB)\n",
      "Downloading markdown-3.9-py3-none-any.whl (107 kB)\n",
      "Using cached tensorboard_data_server-0.7.2-py3-none-any.whl (2.4 kB)\n",
      "Using cached urllib3-2.5.0-py3-none-any.whl (129 kB)\n",
      "Using cached werkzeug-3.1.3-py3-none-any.whl (224 kB)\n",
      "Using cached wheel-0.45.1-py3-none-any.whl (72 kB)\n",
      "Using cached namex-0.1.0-py3-none-any.whl (5.9 kB)\n",
      "Using cached optree-0.17.0-cp313-cp313-win_amd64.whl (316 kB)\n",
      "Using cached rich-14.1.0-py3-none-any.whl (243 kB)\n",
      "Using cached markdown_it_py-4.0.0-py3-none-any.whl (87 kB)\n",
      "Using cached MarkupSafe-3.0.2-cp313-cp313-win_amd64.whl (15 kB)\n",
      "Using cached mdurl-0.1.2-py3-none-any.whl (10.0 kB)\n",
      "Installing collected packages: namex, libclang, flatbuffers, wrapt, wheel, urllib3, typing_extensions, termcolor, tensorboard-data-server, setuptools, protobuf, opt_einsum, ml_dtypes, mdurl, MarkupSafe, markdown, idna, h5py, grpcio, google_pasta, gast, charset_normalizer, certifi, absl-py, werkzeug, requests, optree, markdown-it-py, astunparse, tensorboard, rich, keras, tensorflow\n",
      "Successfully installed MarkupSafe-3.0.2 absl-py-2.3.1 astunparse-1.6.3 certifi-2025.8.3 charset_normalizer-3.4.3 flatbuffers-25.2.10 gast-0.6.0 google_pasta-0.2.0 grpcio-1.74.0 h5py-3.14.0 idna-3.10 keras-3.11.3 libclang-18.1.1 markdown-3.9 markdown-it-py-4.0.0 mdurl-0.1.2 ml_dtypes-0.5.3 namex-0.1.0 opt_einsum-3.4.0 optree-0.17.0 protobuf-6.32.0 requests-2.32.5 rich-14.1.0 setuptools-80.9.0 tensorboard-2.20.0 tensorboard-data-server-0.7.2 tensorflow-2.20.0 termcolor-3.1.0 typing_extensions-4.15.0 urllib3-2.5.0 werkzeug-3.1.3 wheel-0.45.1 wrapt-1.17.3\n"
     ]
    },
    {
     "name": "stderr",
     "output_type": "stream",
     "text": [
      "\n",
      "[notice] A new release of pip is available: 24.3.1 -> 25.2\n",
      "[notice] To update, run: python.exe -m pip install --upgrade pip\n"
     ]
    },
    {
     "name": "stdout",
     "output_type": "stream",
     "text": [
      "Requirement already satisfied: pillow in c:\\users\\tawil\\python\\ibm-ai-engineering\\2-introduction-to-deeplearning-and-neuralnetworks\\module5-final-project\\.env5\\lib\\site-packages (11.1.0)\n"
     ]
    },
    {
     "name": "stderr",
     "output_type": "stream",
     "text": [
      "\n",
      "[notice] A new release of pip is available: 24.3.1 -> 25.2\n",
      "[notice] To update, run: python.exe -m pip install --upgrade pip\n"
     ]
    },
    {
     "name": "stdout",
     "output_type": "stream",
     "text": [
      "Requirement already satisfied: matplotlib in c:\\users\\tawil\\python\\ibm-ai-engineering\\2-introduction-to-deeplearning-and-neuralnetworks\\module5-final-project\\.env5\\lib\\site-packages (3.9.2)\n",
      "Requirement already satisfied: contourpy>=1.0.1 in c:\\users\\tawil\\python\\ibm-ai-engineering\\2-introduction-to-deeplearning-and-neuralnetworks\\module5-final-project\\.env5\\lib\\site-packages (from matplotlib) (1.3.3)\n",
      "Requirement already satisfied: cycler>=0.10 in c:\\users\\tawil\\python\\ibm-ai-engineering\\2-introduction-to-deeplearning-and-neuralnetworks\\module5-final-project\\.env5\\lib\\site-packages (from matplotlib) (0.12.1)\n",
      "Requirement already satisfied: fonttools>=4.22.0 in c:\\users\\tawil\\python\\ibm-ai-engineering\\2-introduction-to-deeplearning-and-neuralnetworks\\module5-final-project\\.env5\\lib\\site-packages (from matplotlib) (4.59.2)\n",
      "Requirement already satisfied: kiwisolver>=1.3.1 in c:\\users\\tawil\\python\\ibm-ai-engineering\\2-introduction-to-deeplearning-and-neuralnetworks\\module5-final-project\\.env5\\lib\\site-packages (from matplotlib) (1.4.9)\n",
      "Requirement already satisfied: numpy>=1.23 in c:\\users\\tawil\\python\\ibm-ai-engineering\\2-introduction-to-deeplearning-and-neuralnetworks\\module5-final-project\\.env5\\lib\\site-packages (from matplotlib) (2.3.2)\n",
      "Requirement already satisfied: packaging>=20.0 in c:\\users\\tawil\\python\\ibm-ai-engineering\\2-introduction-to-deeplearning-and-neuralnetworks\\module5-final-project\\.env5\\lib\\site-packages (from matplotlib) (25.0)\n",
      "Requirement already satisfied: pillow>=8 in c:\\users\\tawil\\python\\ibm-ai-engineering\\2-introduction-to-deeplearning-and-neuralnetworks\\module5-final-project\\.env5\\lib\\site-packages (from matplotlib) (11.1.0)\n",
      "Requirement already satisfied: pyparsing>=2.3.1 in c:\\users\\tawil\\python\\ibm-ai-engineering\\2-introduction-to-deeplearning-and-neuralnetworks\\module5-final-project\\.env5\\lib\\site-packages (from matplotlib) (3.2.3)\n",
      "Requirement already satisfied: python-dateutil>=2.7 in c:\\users\\tawil\\python\\ibm-ai-engineering\\2-introduction-to-deeplearning-and-neuralnetworks\\module5-final-project\\.env5\\lib\\site-packages (from matplotlib) (2.9.0.post0)\n",
      "Requirement already satisfied: six>=1.5 in c:\\users\\tawil\\python\\ibm-ai-engineering\\2-introduction-to-deeplearning-and-neuralnetworks\\module5-final-project\\.env5\\lib\\site-packages (from python-dateutil>=2.7->matplotlib) (1.17.0)\n"
     ]
    },
    {
     "name": "stderr",
     "output_type": "stream",
     "text": [
      "\n",
      "[notice] A new release of pip is available: 24.3.1 -> 25.2\n",
      "[notice] To update, run: python.exe -m pip install --upgrade pip\n"
     ]
    },
    {
     "name": "stdout",
     "output_type": "stream",
     "text": [
      "Collecting transformers\n",
      "  Downloading transformers-4.56.1-py3-none-any.whl.metadata (42 kB)\n",
      "Collecting filelock (from transformers)\n",
      "  Using cached filelock-3.19.1-py3-none-any.whl.metadata (2.1 kB)\n",
      "Collecting huggingface-hub<1.0,>=0.34.0 (from transformers)\n",
      "  Using cached huggingface_hub-0.34.4-py3-none-any.whl.metadata (14 kB)\n",
      "Requirement already satisfied: numpy>=1.17 in c:\\users\\tawil\\python\\ibm-ai-engineering\\2-introduction-to-deeplearning-and-neuralnetworks\\module5-final-project\\.env5\\lib\\site-packages (from transformers) (2.3.2)\n",
      "Requirement already satisfied: packaging>=20.0 in c:\\users\\tawil\\python\\ibm-ai-engineering\\2-introduction-to-deeplearning-and-neuralnetworks\\module5-final-project\\.env5\\lib\\site-packages (from transformers) (25.0)\n",
      "Collecting pyyaml>=5.1 (from transformers)\n",
      "  Using cached PyYAML-6.0.2-cp313-cp313-win_amd64.whl.metadata (2.1 kB)\n",
      "Collecting regex!=2019.12.17 (from transformers)\n",
      "  Using cached regex-2025.9.1-cp313-cp313-win_amd64.whl.metadata (41 kB)\n",
      "Requirement already satisfied: requests in c:\\users\\tawil\\python\\ibm-ai-engineering\\2-introduction-to-deeplearning-and-neuralnetworks\\module5-final-project\\.env5\\lib\\site-packages (from transformers) (2.32.5)\n",
      "Collecting tokenizers<=0.23.0,>=0.22.0 (from transformers)\n",
      "  Downloading tokenizers-0.22.0-cp39-abi3-win_amd64.whl.metadata (6.9 kB)\n",
      "Collecting safetensors>=0.4.3 (from transformers)\n",
      "  Downloading safetensors-0.6.2-cp38-abi3-win_amd64.whl.metadata (4.1 kB)\n",
      "Collecting tqdm>=4.27 (from transformers)\n",
      "  Using cached tqdm-4.67.1-py3-none-any.whl.metadata (57 kB)\n",
      "Collecting fsspec>=2023.5.0 (from huggingface-hub<1.0,>=0.34.0->transformers)\n",
      "  Downloading fsspec-2025.9.0-py3-none-any.whl.metadata (10 kB)\n",
      "Requirement already satisfied: typing-extensions>=3.7.4.3 in c:\\users\\tawil\\python\\ibm-ai-engineering\\2-introduction-to-deeplearning-and-neuralnetworks\\module5-final-project\\.env5\\lib\\site-packages (from huggingface-hub<1.0,>=0.34.0->transformers) (4.15.0)\n",
      "Requirement already satisfied: colorama in c:\\users\\tawil\\python\\ibm-ai-engineering\\2-introduction-to-deeplearning-and-neuralnetworks\\module5-final-project\\.env5\\lib\\site-packages (from tqdm>=4.27->transformers) (0.4.6)\n",
      "Requirement already satisfied: charset_normalizer<4,>=2 in c:\\users\\tawil\\python\\ibm-ai-engineering\\2-introduction-to-deeplearning-and-neuralnetworks\\module5-final-project\\.env5\\lib\\site-packages (from requests->transformers) (3.4.3)\n",
      "Requirement already satisfied: idna<4,>=2.5 in c:\\users\\tawil\\python\\ibm-ai-engineering\\2-introduction-to-deeplearning-and-neuralnetworks\\module5-final-project\\.env5\\lib\\site-packages (from requests->transformers) (3.10)\n",
      "Requirement already satisfied: urllib3<3,>=1.21.1 in c:\\users\\tawil\\python\\ibm-ai-engineering\\2-introduction-to-deeplearning-and-neuralnetworks\\module5-final-project\\.env5\\lib\\site-packages (from requests->transformers) (2.5.0)\n",
      "Requirement already satisfied: certifi>=2017.4.17 in c:\\users\\tawil\\python\\ibm-ai-engineering\\2-introduction-to-deeplearning-and-neuralnetworks\\module5-final-project\\.env5\\lib\\site-packages (from requests->transformers) (2025.8.3)\n",
      "Downloading transformers-4.56.1-py3-none-any.whl (11.6 MB)\n",
      "   ---------------------------------------- 0.0/11.6 MB ? eta -:--:--\n",
      "   ---------------------------------------- 0.0/11.6 MB ? eta -:--:--\n",
      "    --------------------------------------- 0.3/11.6 MB ? eta -:--:--\n",
      "   - -------------------------------------- 0.5/11.6 MB 1.1 MB/s eta 0:00:10\n",
      "   -- ------------------------------------- 0.8/11.6 MB 1.3 MB/s eta 0:00:09\n",
      "   ---- ----------------------------------- 1.3/11.6 MB 1.4 MB/s eta 0:00:08\n",
      "   ----- ---------------------------------- 1.6/11.6 MB 1.4 MB/s eta 0:00:08\n",
      "   ------ --------------------------------- 1.8/11.6 MB 1.5 MB/s eta 0:00:07\n",
      "   -------- ------------------------------- 2.4/11.6 MB 1.5 MB/s eta 0:00:07\n",
      "   --------- ------------------------------ 2.6/11.6 MB 1.5 MB/s eta 0:00:06\n",
      "   ---------- ----------------------------- 3.1/11.6 MB 1.6 MB/s eta 0:00:06\n",
      "   ----------- ---------------------------- 3.4/11.6 MB 1.6 MB/s eta 0:00:06\n",
      "   ------------- -------------------------- 3.9/11.6 MB 1.6 MB/s eta 0:00:05\n",
      "   -------------- ------------------------- 4.2/11.6 MB 1.7 MB/s eta 0:00:05\n",
      "   ---------------- ----------------------- 4.7/11.6 MB 1.7 MB/s eta 0:00:05\n",
      "   ----------------- ---------------------- 5.0/11.6 MB 1.7 MB/s eta 0:00:04\n",
      "   ------------------ --------------------- 5.2/11.6 MB 1.7 MB/s eta 0:00:04\n",
      "   ------------------- -------------------- 5.8/11.6 MB 1.7 MB/s eta 0:00:04\n",
      "   --------------------- ------------------ 6.3/11.6 MB 1.8 MB/s eta 0:00:04\n",
      "   ----------------------- ---------------- 6.8/11.6 MB 1.8 MB/s eta 0:00:03\n",
      "   ------------------------ --------------- 7.1/11.6 MB 1.8 MB/s eta 0:00:03\n",
      "   ------------------------- -------------- 7.3/11.6 MB 1.8 MB/s eta 0:00:03\n",
      "   --------------------------- ------------ 7.9/11.6 MB 1.8 MB/s eta 0:00:03\n",
      "   ---------------------------- ----------- 8.1/11.6 MB 1.8 MB/s eta 0:00:02\n",
      "   ----------------------------- ---------- 8.7/11.6 MB 1.8 MB/s eta 0:00:02\n",
      "   ------------------------------ --------- 8.9/11.6 MB 1.8 MB/s eta 0:00:02\n",
      "   ------------------------------- -------- 9.2/11.6 MB 1.8 MB/s eta 0:00:02\n",
      "   --------------------------------- ------ 9.7/11.6 MB 1.8 MB/s eta 0:00:02\n",
      "   ----------------------------------- ---- 10.2/11.6 MB 1.8 MB/s eta 0:00:01\n",
      "   ------------------------------------ --- 10.5/11.6 MB 1.8 MB/s eta 0:00:01\n",
      "   ------------------------------------- -- 10.7/11.6 MB 1.8 MB/s eta 0:00:01\n",
      "   -------------------------------------- - 11.3/11.6 MB 1.8 MB/s eta 0:00:01\n",
      "   ---------------------------------------- 11.6/11.6 MB 1.8 MB/s eta 0:00:00\n",
      "Downloading huggingface_hub-0.34.4-py3-none-any.whl (561 kB)\n",
      "   ---------------------------------------- 0.0/561.5 kB ? eta -:--:--\n",
      "   ------------------ --------------------- 262.1/561.5 kB ? eta -:--:--\n",
      "   ---------------------------------------- 561.5/561.5 kB 2.4 MB/s eta 0:00:00\n",
      "Using cached PyYAML-6.0.2-cp313-cp313-win_amd64.whl (156 kB)\n",
      "Downloading regex-2025.9.1-cp313-cp313-win_amd64.whl (275 kB)\n",
      "Downloading safetensors-0.6.2-cp38-abi3-win_amd64.whl (320 kB)\n",
      "Downloading tokenizers-0.22.0-cp39-abi3-win_amd64.whl (2.7 MB)\n",
      "   ---------------------------------------- 0.0/2.7 MB ? eta -:--:--\n",
      "   --- ------------------------------------ 0.3/2.7 MB ? eta -:--:--\n",
      "   ----------- ---------------------------- 0.8/2.7 MB 2.4 MB/s eta 0:00:01\n",
      "   ------------------- -------------------- 1.3/2.7 MB 2.2 MB/s eta 0:00:01\n",
      "   ----------------------- ---------------- 1.6/2.7 MB 2.0 MB/s eta 0:00:01\n",
      "   ------------------------------- -------- 2.1/2.7 MB 2.1 MB/s eta 0:00:01\n",
      "   ---------------------------------------- 2.7/2.7 MB 2.1 MB/s eta 0:00:00\n",
      "Using cached tqdm-4.67.1-py3-none-any.whl (78 kB)\n",
      "Downloading filelock-3.19.1-py3-none-any.whl (15 kB)\n",
      "Downloading fsspec-2025.9.0-py3-none-any.whl (199 kB)\n",
      "Installing collected packages: tqdm, safetensors, regex, pyyaml, fsspec, filelock, huggingface-hub, tokenizers, transformers\n",
      "Successfully installed filelock-3.19.1 fsspec-2025.9.0 huggingface-hub-0.34.4 pyyaml-6.0.2 regex-2025.9.1 safetensors-0.6.2 tokenizers-0.22.0 tqdm-4.67.1 transformers-4.56.1\n"
     ]
    },
    {
     "name": "stderr",
     "output_type": "stream",
     "text": [
      "\n",
      "[notice] A new release of pip is available: 24.3.1 -> 25.2\n",
      "[notice] To update, run: python.exe -m pip install --upgrade pip\n"
     ]
    },
    {
     "name": "stdout",
     "output_type": "stream",
     "text": [
      "Collecting torch\n",
      "  Downloading torch-2.8.0-cp313-cp313-win_amd64.whl.metadata (30 kB)\n",
      "Requirement already satisfied: filelock in c:\\users\\tawil\\python\\ibm-ai-engineering\\2-introduction-to-deeplearning-and-neuralnetworks\\module5-final-project\\.env5\\lib\\site-packages (from torch) (3.19.1)\n",
      "Requirement already satisfied: typing-extensions>=4.10.0 in c:\\users\\tawil\\python\\ibm-ai-engineering\\2-introduction-to-deeplearning-and-neuralnetworks\\module5-final-project\\.env5\\lib\\site-packages (from torch) (4.15.0)\n",
      "Collecting sympy>=1.13.3 (from torch)\n",
      "  Using cached sympy-1.14.0-py3-none-any.whl.metadata (12 kB)\n",
      "Collecting networkx (from torch)\n",
      "  Downloading networkx-3.5-py3-none-any.whl.metadata (6.3 kB)\n",
      "Collecting jinja2 (from torch)\n",
      "  Using cached jinja2-3.1.6-py3-none-any.whl.metadata (2.9 kB)\n",
      "Requirement already satisfied: fsspec in c:\\users\\tawil\\python\\ibm-ai-engineering\\2-introduction-to-deeplearning-and-neuralnetworks\\module5-final-project\\.env5\\lib\\site-packages (from torch) (2025.9.0)\n",
      "Requirement already satisfied: setuptools in c:\\users\\tawil\\python\\ibm-ai-engineering\\2-introduction-to-deeplearning-and-neuralnetworks\\module5-final-project\\.env5\\lib\\site-packages (from torch) (80.9.0)\n",
      "Collecting mpmath<1.4,>=1.1.0 (from sympy>=1.13.3->torch)\n",
      "  Using cached mpmath-1.3.0-py3-none-any.whl.metadata (8.6 kB)\n",
      "Requirement already satisfied: MarkupSafe>=2.0 in c:\\users\\tawil\\python\\ibm-ai-engineering\\2-introduction-to-deeplearning-and-neuralnetworks\\module5-final-project\\.env5\\lib\\site-packages (from jinja2->torch) (3.0.2)\n",
      "Downloading torch-2.8.0-cp313-cp313-win_amd64.whl (241.3 MB)\n",
      "   ---------------------------------------- 0.0/241.3 MB ? eta -:--:--\n",
      "   ---------------------------------------- 0.0/241.3 MB ? eta -:--:--\n",
      "   ---------------------------------------- 0.3/241.3 MB ? eta -:--:--\n",
      "   ---------------------------------------- 0.5/241.3 MB 1.1 MB/s eta 0:03:34\n",
      "   ---------------------------------------- 0.5/241.3 MB 1.1 MB/s eta 0:03:34\n",
      "   ---------------------------------------- 0.8/241.3 MB 747.0 kB/s eta 0:05:23\n",
      "   ---------------------------------------- 0.8/241.3 MB 747.0 kB/s eta 0:05:23\n",
      "   ---------------------------------------- 1.0/241.3 MB 741.7 kB/s eta 0:05:24\n",
      "   ---------------------------------------- 1.3/241.3 MB 788.0 kB/s eta 0:05:05\n",
      "   ---------------------------------------- 1.8/241.3 MB 968.6 kB/s eta 0:04:08\n",
      "   ---------------------------------------- 2.1/241.3 MB 1.0 MB/s eta 0:03:59\n",
      "   ---------------------------------------- 2.1/241.3 MB 1.0 MB/s eta 0:03:59\n",
      "   ---------------------------------------- 2.4/241.3 MB 960.8 kB/s eta 0:04:09\n",
      "   ---------------------------------------- 2.6/241.3 MB 966.0 kB/s eta 0:04:08\n",
      "   ---------------------------------------- 2.9/241.3 MB 1.0 MB/s eta 0:03:56\n",
      "    --------------------------------------- 3.1/241.3 MB 1.0 MB/s eta 0:03:49\n",
      "    --------------------------------------- 3.7/241.3 MB 1.1 MB/s eta 0:03:38\n",
      "    --------------------------------------- 3.7/241.3 MB 1.1 MB/s eta 0:03:38\n",
      "    --------------------------------------- 3.9/241.3 MB 1.1 MB/s eta 0:03:41\n",
      "    --------------------------------------- 4.2/241.3 MB 1.1 MB/s eta 0:03:39\n",
      "    --------------------------------------- 4.7/241.3 MB 1.1 MB/s eta 0:03:28\n",
      "    --------------------------------------- 5.0/241.3 MB 1.2 MB/s eta 0:03:26\n",
      "    --------------------------------------- 5.5/241.3 MB 1.2 MB/s eta 0:03:17\n",
      "    --------------------------------------- 6.0/241.3 MB 1.2 MB/s eta 0:03:09\n",
      "   - -------------------------------------- 6.3/241.3 MB 1.3 MB/s eta 0:03:06\n",
      "   - -------------------------------------- 6.8/241.3 MB 1.3 MB/s eta 0:02:58\n",
      "   - -------------------------------------- 7.1/241.3 MB 1.3 MB/s eta 0:02:54\n",
      "   - -------------------------------------- 7.3/241.3 MB 1.3 MB/s eta 0:02:55\n",
      "   - -------------------------------------- 7.6/241.3 MB 1.3 MB/s eta 0:02:57\n",
      "   - -------------------------------------- 7.9/241.3 MB 1.3 MB/s eta 0:02:58\n",
      "   - -------------------------------------- 8.1/241.3 MB 1.3 MB/s eta 0:02:59\n",
      "   - -------------------------------------- 8.4/241.3 MB 1.3 MB/s eta 0:03:00\n",
      "   - -------------------------------------- 8.9/241.3 MB 1.3 MB/s eta 0:02:55\n",
      "   - -------------------------------------- 9.2/241.3 MB 1.4 MB/s eta 0:02:52\n",
      "   - -------------------------------------- 10.0/241.3 MB 1.4 MB/s eta 0:02:45\n",
      "   - -------------------------------------- 10.5/241.3 MB 1.4 MB/s eta 0:02:40\n",
      "   - -------------------------------------- 11.0/241.3 MB 1.5 MB/s eta 0:02:37\n",
      "   - -------------------------------------- 11.5/241.3 MB 1.5 MB/s eta 0:02:33\n",
      "   - -------------------------------------- 12.1/241.3 MB 1.5 MB/s eta 0:02:31\n",
      "   -- ------------------------------------- 12.6/241.3 MB 1.6 MB/s eta 0:02:28\n",
      "   -- ------------------------------------- 13.1/241.3 MB 1.6 MB/s eta 0:02:26\n",
      "   -- ------------------------------------- 13.6/241.3 MB 1.6 MB/s eta 0:02:23\n",
      "   -- ------------------------------------- 14.2/241.3 MB 1.6 MB/s eta 0:02:21\n",
      "   -- ------------------------------------- 14.7/241.3 MB 1.6 MB/s eta 0:02:19\n",
      "   -- ------------------------------------- 14.9/241.3 MB 1.6 MB/s eta 0:02:18\n",
      "   -- ------------------------------------- 15.5/241.3 MB 1.6 MB/s eta 0:02:18\n",
      "   -- ------------------------------------- 15.7/241.3 MB 1.6 MB/s eta 0:02:18\n",
      "   -- ------------------------------------- 16.0/241.3 MB 1.6 MB/s eta 0:02:18\n",
      "   -- ------------------------------------- 16.3/241.3 MB 1.6 MB/s eta 0:02:20\n",
      "   -- ------------------------------------- 16.3/241.3 MB 1.6 MB/s eta 0:02:20\n",
      "   -- ------------------------------------- 16.5/241.3 MB 1.6 MB/s eta 0:02:22\n",
      "   -- ------------------------------------- 16.8/241.3 MB 1.6 MB/s eta 0:02:24\n",
      "   -- ------------------------------------- 17.0/241.3 MB 1.6 MB/s eta 0:02:24\n",
      "   -- ------------------------------------- 17.6/241.3 MB 1.6 MB/s eta 0:02:22\n",
      "   -- ------------------------------------- 18.1/241.3 MB 1.6 MB/s eta 0:02:20\n",
      "   --- ------------------------------------ 18.6/241.3 MB 1.6 MB/s eta 0:02:18\n",
      "   --- ------------------------------------ 19.1/241.3 MB 1.6 MB/s eta 0:02:17\n",
      "   --- ------------------------------------ 19.7/241.3 MB 1.6 MB/s eta 0:02:15\n",
      "   --- ------------------------------------ 19.9/241.3 MB 1.7 MB/s eta 0:02:14\n",
      "   --- ------------------------------------ 20.2/241.3 MB 1.6 MB/s eta 0:02:16\n",
      "   --- ------------------------------------ 20.4/241.3 MB 1.6 MB/s eta 0:02:16\n",
      "   --- ------------------------------------ 21.2/241.3 MB 1.7 MB/s eta 0:02:14\n",
      "   --- ------------------------------------ 21.8/241.3 MB 1.7 MB/s eta 0:02:12\n",
      "   --- ------------------------------------ 22.5/241.3 MB 1.7 MB/s eta 0:02:09\n",
      "   --- ------------------------------------ 23.1/241.3 MB 1.7 MB/s eta 0:02:08\n",
      "   --- ------------------------------------ 23.6/241.3 MB 1.7 MB/s eta 0:02:06\n",
      "   --- ------------------------------------ 24.1/241.3 MB 1.7 MB/s eta 0:02:06\n",
      "   ---- ----------------------------------- 24.6/241.3 MB 1.8 MB/s eta 0:02:04\n",
      "   ---- ----------------------------------- 25.2/241.3 MB 1.8 MB/s eta 0:02:03\n",
      "   ---- ----------------------------------- 26.0/241.3 MB 1.8 MB/s eta 0:02:01\n",
      "   ---- ----------------------------------- 26.7/241.3 MB 1.8 MB/s eta 0:01:59\n",
      "   ---- ----------------------------------- 27.3/241.3 MB 1.8 MB/s eta 0:01:58\n",
      "   ---- ----------------------------------- 27.8/241.3 MB 1.8 MB/s eta 0:01:56\n",
      "   ---- ----------------------------------- 28.3/241.3 MB 1.8 MB/s eta 0:01:56\n",
      "   ---- ----------------------------------- 28.6/241.3 MB 1.8 MB/s eta 0:01:56\n",
      "   ---- ----------------------------------- 28.8/241.3 MB 1.8 MB/s eta 0:01:56\n",
      "   ---- ----------------------------------- 29.1/241.3 MB 1.8 MB/s eta 0:01:57\n",
      "   ---- ----------------------------------- 29.4/241.3 MB 1.8 MB/s eta 0:01:57\n",
      "   ---- ----------------------------------- 29.6/241.3 MB 1.8 MB/s eta 0:01:58\n",
      "   ---- ----------------------------------- 29.9/241.3 MB 1.8 MB/s eta 0:01:58\n",
      "   ----- ---------------------------------- 30.4/241.3 MB 1.8 MB/s eta 0:01:57\n",
      "   ----- ---------------------------------- 30.9/241.3 MB 1.8 MB/s eta 0:01:57\n",
      "   ----- ---------------------------------- 31.2/241.3 MB 1.8 MB/s eta 0:01:56\n",
      "   ----- ---------------------------------- 31.5/241.3 MB 1.8 MB/s eta 0:01:56\n",
      "   ----- ---------------------------------- 31.7/241.3 MB 1.8 MB/s eta 0:01:57\n",
      "   ----- ---------------------------------- 32.2/241.3 MB 1.8 MB/s eta 0:01:56\n",
      "   ----- ---------------------------------- 32.8/241.3 MB 1.8 MB/s eta 0:01:56\n",
      "   ----- ---------------------------------- 33.3/241.3 MB 1.8 MB/s eta 0:01:55\n",
      "   ----- ---------------------------------- 33.8/241.3 MB 1.8 MB/s eta 0:01:54\n",
      "   ----- ---------------------------------- 34.3/241.3 MB 1.8 MB/s eta 0:01:54\n",
      "   ----- ---------------------------------- 34.6/241.3 MB 1.8 MB/s eta 0:01:53\n",
      "   ----- ---------------------------------- 35.1/241.3 MB 1.8 MB/s eta 0:01:53\n",
      "   ----- ---------------------------------- 35.4/241.3 MB 1.8 MB/s eta 0:01:53\n",
      "   ----- ---------------------------------- 35.9/241.3 MB 1.8 MB/s eta 0:01:52\n",
      "   ----- ---------------------------------- 36.2/241.3 MB 1.8 MB/s eta 0:01:52\n",
      "   ------ --------------------------------- 36.7/241.3 MB 1.8 MB/s eta 0:01:52\n",
      "   ------ --------------------------------- 37.0/241.3 MB 1.8 MB/s eta 0:01:52\n",
      "   ------ --------------------------------- 37.5/241.3 MB 1.8 MB/s eta 0:01:52\n",
      "   ------ --------------------------------- 37.7/241.3 MB 1.8 MB/s eta 0:01:52\n",
      "   ------ --------------------------------- 38.0/241.3 MB 1.8 MB/s eta 0:01:52\n",
      "   ------ --------------------------------- 38.5/241.3 MB 1.8 MB/s eta 0:01:51\n",
      "   ------ --------------------------------- 39.1/241.3 MB 1.8 MB/s eta 0:01:51\n",
      "   ------ --------------------------------- 39.6/241.3 MB 1.8 MB/s eta 0:01:50\n",
      "   ------ --------------------------------- 39.8/241.3 MB 1.8 MB/s eta 0:01:50\n",
      "   ------ --------------------------------- 40.4/241.3 MB 1.8 MB/s eta 0:01:50\n",
      "   ------ --------------------------------- 40.6/241.3 MB 1.8 MB/s eta 0:01:49\n",
      "   ------ --------------------------------- 41.2/241.3 MB 1.8 MB/s eta 0:01:49\n",
      "   ------ --------------------------------- 41.4/241.3 MB 1.9 MB/s eta 0:01:49\n",
      "   ------ --------------------------------- 41.9/241.3 MB 1.8 MB/s eta 0:01:49\n",
      "   ------- -------------------------------- 42.5/241.3 MB 1.9 MB/s eta 0:01:48\n",
      "   ------- -------------------------------- 43.0/241.3 MB 1.9 MB/s eta 0:01:47\n",
      "   ------- -------------------------------- 43.5/241.3 MB 1.9 MB/s eta 0:01:47\n",
      "   ------- -------------------------------- 43.8/241.3 MB 1.9 MB/s eta 0:01:47\n",
      "   ------- -------------------------------- 43.8/241.3 MB 1.9 MB/s eta 0:01:47\n",
      "   ------- -------------------------------- 44.3/241.3 MB 1.8 MB/s eta 0:01:47\n",
      "   ------- -------------------------------- 44.3/241.3 MB 1.8 MB/s eta 0:01:47\n",
      "   ------- -------------------------------- 44.8/241.3 MB 1.8 MB/s eta 0:01:47\n",
      "   ------- -------------------------------- 45.1/241.3 MB 1.8 MB/s eta 0:01:47\n",
      "   ------- -------------------------------- 45.4/241.3 MB 1.8 MB/s eta 0:01:47\n",
      "   ------- -------------------------------- 45.9/241.3 MB 1.8 MB/s eta 0:01:47\n",
      "   ------- -------------------------------- 46.4/241.3 MB 1.8 MB/s eta 0:01:47\n",
      "   ------- -------------------------------- 46.9/241.3 MB 1.8 MB/s eta 0:01:46\n",
      "   ------- -------------------------------- 47.2/241.3 MB 1.8 MB/s eta 0:01:46\n",
      "   ------- -------------------------------- 47.4/241.3 MB 1.8 MB/s eta 0:01:46\n",
      "   ------- -------------------------------- 48.0/241.3 MB 1.8 MB/s eta 0:01:46\n",
      "   ------- -------------------------------- 48.2/241.3 MB 1.8 MB/s eta 0:01:46\n",
      "   -------- ------------------------------- 48.8/241.3 MB 1.8 MB/s eta 0:01:45\n",
      "   -------- ------------------------------- 49.0/241.3 MB 1.8 MB/s eta 0:01:45\n",
      "   -------- ------------------------------- 49.5/241.3 MB 1.8 MB/s eta 0:01:45\n",
      "   -------- ------------------------------- 50.1/241.3 MB 1.8 MB/s eta 0:01:44\n",
      "   -------- ------------------------------- 50.6/241.3 MB 1.8 MB/s eta 0:01:44\n",
      "   -------- ------------------------------- 50.9/241.3 MB 1.9 MB/s eta 0:01:43\n",
      "   -------- ------------------------------- 51.4/241.3 MB 1.9 MB/s eta 0:01:43\n",
      "   -------- ------------------------------- 51.9/241.3 MB 1.9 MB/s eta 0:01:43\n",
      "   -------- ------------------------------- 52.4/241.3 MB 1.9 MB/s eta 0:01:42\n",
      "   -------- ------------------------------- 52.7/241.3 MB 1.9 MB/s eta 0:01:42\n",
      "   -------- ------------------------------- 53.2/241.3 MB 1.9 MB/s eta 0:01:42\n",
      "   -------- ------------------------------- 53.7/241.3 MB 1.9 MB/s eta 0:01:41\n",
      "   -------- ------------------------------- 54.3/241.3 MB 1.9 MB/s eta 0:01:41\n",
      "   --------- ------------------------------ 54.8/241.3 MB 1.9 MB/s eta 0:01:40\n",
      "   --------- ------------------------------ 55.3/241.3 MB 1.9 MB/s eta 0:01:40\n",
      "   --------- ------------------------------ 55.8/241.3 MB 1.9 MB/s eta 0:01:39\n",
      "   --------- ------------------------------ 56.1/241.3 MB 1.9 MB/s eta 0:01:39\n",
      "   --------- ------------------------------ 56.6/241.3 MB 1.9 MB/s eta 0:01:39\n",
      "   --------- ------------------------------ 57.1/241.3 MB 1.9 MB/s eta 0:01:38\n",
      "   --------- ------------------------------ 57.7/241.3 MB 1.9 MB/s eta 0:01:36\n",
      "   --------- ------------------------------ 58.5/241.3 MB 1.9 MB/s eta 0:01:35\n",
      "   --------- ------------------------------ 58.7/241.3 MB 1.9 MB/s eta 0:01:35\n",
      "   --------- ------------------------------ 59.2/241.3 MB 1.9 MB/s eta 0:01:34\n",
      "   --------- ------------------------------ 59.8/241.3 MB 2.0 MB/s eta 0:01:33\n",
      "   --------- ------------------------------ 60.0/241.3 MB 2.0 MB/s eta 0:01:33\n",
      "   --------- ------------------------------ 60.3/241.3 MB 2.0 MB/s eta 0:01:33\n",
      "   ---------- ----------------------------- 60.8/241.3 MB 2.0 MB/s eta 0:01:33\n",
      "   ---------- ----------------------------- 61.3/241.3 MB 2.0 MB/s eta 0:01:32\n",
      "   ---------- ----------------------------- 61.9/241.3 MB 2.0 MB/s eta 0:01:31\n",
      "   ---------- ----------------------------- 62.4/241.3 MB 2.0 MB/s eta 0:01:30\n",
      "   ---------- ----------------------------- 62.7/241.3 MB 2.0 MB/s eta 0:01:30\n",
      "   ---------- ----------------------------- 62.9/241.3 MB 2.0 MB/s eta 0:01:30\n",
      "   ---------- ----------------------------- 63.2/241.3 MB 2.0 MB/s eta 0:01:30\n",
      "   ---------- ----------------------------- 63.7/241.3 MB 2.0 MB/s eta 0:01:29\n",
      "   ---------- ----------------------------- 64.0/241.3 MB 2.0 MB/s eta 0:01:29\n",
      "   ---------- ----------------------------- 64.7/241.3 MB 2.0 MB/s eta 0:01:28\n",
      "   ---------- ----------------------------- 65.3/241.3 MB 2.0 MB/s eta 0:01:28\n",
      "   ---------- ----------------------------- 65.8/241.3 MB 2.0 MB/s eta 0:01:27\n",
      "   ---------- ----------------------------- 66.3/241.3 MB 2.0 MB/s eta 0:01:27\n",
      "   ----------- ---------------------------- 66.8/241.3 MB 2.0 MB/s eta 0:01:26\n",
      "   ----------- ---------------------------- 67.6/241.3 MB 2.0 MB/s eta 0:01:26\n",
      "   ----------- ---------------------------- 68.2/241.3 MB 2.0 MB/s eta 0:01:25\n",
      "   ----------- ---------------------------- 68.4/241.3 MB 2.0 MB/s eta 0:01:25\n",
      "   ----------- ---------------------------- 68.9/241.3 MB 2.1 MB/s eta 0:01:24\n",
      "   ----------- ---------------------------- 69.7/241.3 MB 2.1 MB/s eta 0:01:23\n",
      "   ----------- ---------------------------- 70.3/241.3 MB 2.1 MB/s eta 0:01:23\n",
      "   ----------- ---------------------------- 70.8/241.3 MB 2.1 MB/s eta 0:01:22\n",
      "   ----------- ---------------------------- 71.3/241.3 MB 2.1 MB/s eta 0:01:22\n",
      "   ----------- ---------------------------- 71.6/241.3 MB 2.1 MB/s eta 0:01:22\n",
      "   ----------- ---------------------------- 72.1/241.3 MB 2.1 MB/s eta 0:01:21\n",
      "   ------------ --------------------------- 72.6/241.3 MB 2.1 MB/s eta 0:01:21\n",
      "   ------------ --------------------------- 73.4/241.3 MB 2.1 MB/s eta 0:01:21\n",
      "   ------------ --------------------------- 73.7/241.3 MB 2.1 MB/s eta 0:01:21\n",
      "   ------------ --------------------------- 73.9/241.3 MB 2.1 MB/s eta 0:01:21\n",
      "   ------------ --------------------------- 74.2/241.3 MB 2.1 MB/s eta 0:01:21\n",
      "   ------------ --------------------------- 74.4/241.3 MB 2.1 MB/s eta 0:01:21\n",
      "   ------------ --------------------------- 74.7/241.3 MB 2.1 MB/s eta 0:01:22\n",
      "   ------------ --------------------------- 75.0/241.3 MB 2.0 MB/s eta 0:01:22\n",
      "   ------------ --------------------------- 75.0/241.3 MB 2.0 MB/s eta 0:01:22\n",
      "   ------------ --------------------------- 75.2/241.3 MB 2.0 MB/s eta 0:01:22\n",
      "   ------------ --------------------------- 75.5/241.3 MB 2.0 MB/s eta 0:01:23\n",
      "   ------------ --------------------------- 75.8/241.3 MB 2.0 MB/s eta 0:01:23\n",
      "   ------------ --------------------------- 76.0/241.3 MB 2.0 MB/s eta 0:01:23\n",
      "   ------------ --------------------------- 76.5/241.3 MB 2.0 MB/s eta 0:01:22\n",
      "   ------------ --------------------------- 76.8/241.3 MB 2.0 MB/s eta 0:01:22\n",
      "   ------------ --------------------------- 77.1/241.3 MB 2.0 MB/s eta 0:01:21\n",
      "   ------------ --------------------------- 77.3/241.3 MB 2.0 MB/s eta 0:01:21\n",
      "   ------------ --------------------------- 77.6/241.3 MB 2.0 MB/s eta 0:01:21\n",
      "   ------------ --------------------------- 77.9/241.3 MB 2.0 MB/s eta 0:01:21\n",
      "   ------------ --------------------------- 77.9/241.3 MB 2.0 MB/s eta 0:01:21\n",
      "   ------------ --------------------------- 78.1/241.3 MB 2.0 MB/s eta 0:01:21\n",
      "   ------------ --------------------------- 78.4/241.3 MB 2.0 MB/s eta 0:01:22\n",
      "   ------------- -------------------------- 78.6/241.3 MB 2.0 MB/s eta 0:01:22\n",
      "   ------------- -------------------------- 78.9/241.3 MB 2.0 MB/s eta 0:01:22\n",
      "   ------------- -------------------------- 79.2/241.3 MB 2.0 MB/s eta 0:01:22\n",
      "   ------------- -------------------------- 79.2/241.3 MB 2.0 MB/s eta 0:01:22\n",
      "   ------------- -------------------------- 79.4/241.3 MB 2.0 MB/s eta 0:01:22\n",
      "   ------------- -------------------------- 79.7/241.3 MB 2.0 MB/s eta 0:01:23\n",
      "   ------------- -------------------------- 80.0/241.3 MB 2.0 MB/s eta 0:01:23\n",
      "   ------------- -------------------------- 80.2/241.3 MB 1.9 MB/s eta 0:01:23\n",
      "   ------------- -------------------------- 80.2/241.3 MB 1.9 MB/s eta 0:01:23\n",
      "   ------------- -------------------------- 80.7/241.3 MB 1.9 MB/s eta 0:01:24\n",
      "   ------------- -------------------------- 80.7/241.3 MB 1.9 MB/s eta 0:01:24\n",
      "   ------------- -------------------------- 81.3/241.3 MB 1.9 MB/s eta 0:01:25\n",
      "   ------------- -------------------------- 81.5/241.3 MB 1.9 MB/s eta 0:01:25\n",
      "   ------------- -------------------------- 81.8/241.3 MB 1.9 MB/s eta 0:01:25\n",
      "   ------------- -------------------------- 82.1/241.3 MB 1.9 MB/s eta 0:01:25\n",
      "   ------------- -------------------------- 82.6/241.3 MB 1.9 MB/s eta 0:01:26\n",
      "   ------------- -------------------------- 82.8/241.3 MB 1.8 MB/s eta 0:01:26\n",
      "   ------------- -------------------------- 83.1/241.3 MB 1.8 MB/s eta 0:01:27\n",
      "   ------------- -------------------------- 83.4/241.3 MB 1.8 MB/s eta 0:01:27\n",
      "   ------------- -------------------------- 83.6/241.3 MB 1.8 MB/s eta 0:01:26\n",
      "   ------------- -------------------------- 83.6/241.3 MB 1.8 MB/s eta 0:01:26\n",
      "   ------------- -------------------------- 83.9/241.3 MB 1.8 MB/s eta 0:01:26\n",
      "   ------------- -------------------------- 84.1/241.3 MB 1.8 MB/s eta 0:01:26\n",
      "   ------------- -------------------------- 84.4/241.3 MB 1.8 MB/s eta 0:01:27\n",
      "   ------------- -------------------------- 84.4/241.3 MB 1.8 MB/s eta 0:01:27\n",
      "   -------------- ------------------------- 84.7/241.3 MB 1.8 MB/s eta 0:01:27\n",
      "   -------------- ------------------------- 84.7/241.3 MB 1.8 MB/s eta 0:01:27\n",
      "   -------------- ------------------------- 84.9/241.3 MB 1.8 MB/s eta 0:01:28\n",
      "   -------------- ------------------------- 84.9/241.3 MB 1.8 MB/s eta 0:01:28\n",
      "   -------------- ------------------------- 85.2/241.3 MB 1.8 MB/s eta 0:01:28\n",
      "   -------------- ------------------------- 85.2/241.3 MB 1.8 MB/s eta 0:01:28\n",
      "   -------------- ------------------------- 85.5/241.3 MB 1.8 MB/s eta 0:01:29\n",
      "   -------------- ------------------------- 85.5/241.3 MB 1.8 MB/s eta 0:01:29\n",
      "   -------------- ------------------------- 85.7/241.3 MB 1.7 MB/s eta 0:01:30\n",
      "   -------------- ------------------------- 86.0/241.3 MB 1.7 MB/s eta 0:01:31\n",
      "   -------------- ------------------------- 86.2/241.3 MB 1.7 MB/s eta 0:01:31\n",
      "   -------------- ------------------------- 86.2/241.3 MB 1.7 MB/s eta 0:01:31\n",
      "   -------------- ------------------------- 86.5/241.3 MB 1.7 MB/s eta 0:01:31\n",
      "   -------------- ------------------------- 86.8/241.3 MB 1.7 MB/s eta 0:01:32\n",
      "   -------------- ------------------------- 86.8/241.3 MB 1.7 MB/s eta 0:01:32\n",
      "   -------------- ------------------------- 87.0/241.3 MB 1.7 MB/s eta 0:01:32\n",
      "   -------------- ------------------------- 87.3/241.3 MB 1.7 MB/s eta 0:01:32\n",
      "   -------------- ------------------------- 87.3/241.3 MB 1.7 MB/s eta 0:01:32\n",
      "   -------------- ------------------------- 87.6/241.3 MB 1.7 MB/s eta 0:01:33\n",
      "   -------------- ------------------------- 87.8/241.3 MB 1.7 MB/s eta 0:01:33\n",
      "   -------------- ------------------------- 87.8/241.3 MB 1.7 MB/s eta 0:01:33\n",
      "   -------------- ------------------------- 88.1/241.3 MB 1.6 MB/s eta 0:01:34\n",
      "   -------------- ------------------------- 88.3/241.3 MB 1.6 MB/s eta 0:01:35\n",
      "   -------------- ------------------------- 88.3/241.3 MB 1.6 MB/s eta 0:01:35\n",
      "   -------------- ------------------------- 88.6/241.3 MB 1.6 MB/s eta 0:01:35\n",
      "   -------------- ------------------------- 88.9/241.3 MB 1.6 MB/s eta 0:01:35\n",
      "   -------------- ------------------------- 88.9/241.3 MB 1.6 MB/s eta 0:01:35\n",
      "   -------------- ------------------------- 89.1/241.3 MB 1.6 MB/s eta 0:01:36\n",
      "   -------------- ------------------------- 89.4/241.3 MB 1.6 MB/s eta 0:01:37\n",
      "   -------------- ------------------------- 89.4/241.3 MB 1.6 MB/s eta 0:01:37\n",
      "   -------------- ------------------------- 89.7/241.3 MB 1.6 MB/s eta 0:01:38\n",
      "   -------------- ------------------------- 89.7/241.3 MB 1.6 MB/s eta 0:01:38\n",
      "   -------------- ------------------------- 89.9/241.3 MB 1.5 MB/s eta 0:01:39\n",
      "   -------------- ------------------------- 89.9/241.3 MB 1.5 MB/s eta 0:01:39\n",
      "   -------------- ------------------------- 90.2/241.3 MB 1.5 MB/s eta 0:01:39\n",
      "   -------------- ------------------------- 90.4/241.3 MB 1.5 MB/s eta 0:01:39\n",
      "   -------------- ------------------------- 90.4/241.3 MB 1.5 MB/s eta 0:01:39\n",
      "   --------------- ------------------------ 90.7/241.3 MB 1.5 MB/s eta 0:01:39\n",
      "   --------------- ------------------------ 90.7/241.3 MB 1.5 MB/s eta 0:01:39\n",
      "   --------------- ------------------------ 90.7/241.3 MB 1.5 MB/s eta 0:01:39\n",
      "   --------------- ------------------------ 90.7/241.3 MB 1.5 MB/s eta 0:01:39\n",
      "   --------------- ------------------------ 90.7/241.3 MB 1.5 MB/s eta 0:01:39\n",
      "   --------------- ------------------------ 90.7/241.3 MB 1.5 MB/s eta 0:01:39\n",
      "   --------------- ------------------------ 90.7/241.3 MB 1.5 MB/s eta 0:01:39\n",
      "   --------------- ------------------------ 90.7/241.3 MB 1.5 MB/s eta 0:01:39\n",
      "   --------------- ------------------------ 90.7/241.3 MB 1.5 MB/s eta 0:01:39\n",
      "   --------------- ------------------------ 90.7/241.3 MB 1.5 MB/s eta 0:01:39\n",
      "   --------------- ------------------------ 90.7/241.3 MB 1.5 MB/s eta 0:01:39\n",
      "   --------------- ------------------------ 90.7/241.3 MB 1.5 MB/s eta 0:01:39\n",
      "   --------------- ------------------------ 90.7/241.3 MB 1.5 MB/s eta 0:01:39\n",
      "   --------------- ------------------------ 90.7/241.3 MB 1.5 MB/s eta 0:01:39\n",
      "   --------------- ------------------------ 90.7/241.3 MB 1.5 MB/s eta 0:01:39\n",
      "   --------------- ------------------------ 90.7/241.3 MB 1.5 MB/s eta 0:01:39\n",
      "   --------------- ------------------------ 90.7/241.3 MB 1.5 MB/s eta 0:01:39\n",
      "   --------------- ------------------------ 90.7/241.3 MB 1.5 MB/s eta 0:01:39\n",
      "   --------------- ------------------------ 90.7/241.3 MB 1.5 MB/s eta 0:01:39\n",
      "   --------------- ------------------------ 90.7/241.3 MB 1.5 MB/s eta 0:01:39\n",
      "   --------------- ------------------------ 90.7/241.3 MB 1.5 MB/s eta 0:01:39\n",
      "   --------------- ------------------------ 90.7/241.3 MB 1.5 MB/s eta 0:01:39\n",
      "   --------------- ------------------------ 90.7/241.3 MB 1.5 MB/s eta 0:01:39\n",
      "   --------------- ------------------------ 90.7/241.3 MB 1.5 MB/s eta 0:01:39\n",
      "   --------------- ------------------------ 91.0/241.3 MB 1.2 MB/s eta 0:02:08\n",
      "   --------------- ------------------------ 91.0/241.3 MB 1.2 MB/s eta 0:02:08\n",
      "   --------------- ------------------------ 91.0/241.3 MB 1.2 MB/s eta 0:02:08\n",
      "   --------------- ------------------------ 91.0/241.3 MB 1.2 MB/s eta 0:02:08\n",
      "   --------------- ------------------------ 91.0/241.3 MB 1.2 MB/s eta 0:02:08\n",
      "   --------------- ------------------------ 91.0/241.3 MB 1.2 MB/s eta 0:02:08\n",
      "   --------------- ------------------------ 91.0/241.3 MB 1.2 MB/s eta 0:02:08\n",
      "   --------------- ------------------------ 91.0/241.3 MB 1.2 MB/s eta 0:02:08\n",
      "   --------------- ------------------------ 91.0/241.3 MB 1.2 MB/s eta 0:02:08\n",
      "   --------------- ------------------------ 91.0/241.3 MB 1.2 MB/s eta 0:02:08\n",
      "   --------------- ------------------------ 91.0/241.3 MB 1.2 MB/s eta 0:02:08\n",
      "   --------------- ------------------------ 91.0/241.3 MB 1.2 MB/s eta 0:02:08\n",
      "   --------------- ------------------------ 91.0/241.3 MB 1.2 MB/s eta 0:02:08\n",
      "   --------------- ------------------------ 91.0/241.3 MB 1.2 MB/s eta 0:02:08\n",
      "   --------------- ------------------------ 91.0/241.3 MB 1.2 MB/s eta 0:02:08\n",
      "   --------------- ------------------------ 91.0/241.3 MB 1.2 MB/s eta 0:02:08\n",
      "   --------------- ------------------------ 91.0/241.3 MB 1.2 MB/s eta 0:02:08\n",
      "   --------------- ------------------------ 91.0/241.3 MB 1.2 MB/s eta 0:02:08\n",
      "   --------------- ------------------------ 91.0/241.3 MB 1.2 MB/s eta 0:02:08\n",
      "   --------------- ------------------------ 91.0/241.3 MB 1.2 MB/s eta 0:02:08\n",
      "   --------------- ------------------------ 91.0/241.3 MB 1.2 MB/s eta 0:02:08\n",
      "   --------------- ------------------------ 91.0/241.3 MB 1.2 MB/s eta 0:02:08\n",
      "   --------------- ------------------------ 91.0/241.3 MB 1.2 MB/s eta 0:02:08\n",
      "   --------------- ------------------------ 91.0/241.3 MB 1.2 MB/s eta 0:02:08\n",
      "   --------------- ------------------------ 91.0/241.3 MB 1.2 MB/s eta 0:02:08\n",
      "   --------------- ------------------------ 91.0/241.3 MB 1.2 MB/s eta 0:02:08\n",
      "   --------------- ------------------------ 91.0/241.3 MB 1.2 MB/s eta 0:02:08\n",
      "   -------------- ------------------------ 91.2/241.3 MB 753.9 kB/s eta 0:03:20\n",
      "   -------------- ------------------------ 91.2/241.3 MB 753.9 kB/s eta 0:03:20\n",
      "   -------------- ------------------------ 91.2/241.3 MB 753.9 kB/s eta 0:03:20\n",
      "   -------------- ------------------------ 91.2/241.3 MB 753.9 kB/s eta 0:03:20\n",
      "   -------------- ------------------------ 91.2/241.3 MB 753.9 kB/s eta 0:03:20\n",
      "   -------------- ------------------------ 91.2/241.3 MB 753.9 kB/s eta 0:03:20\n",
      "   -------------- ------------------------ 91.2/241.3 MB 753.9 kB/s eta 0:03:20\n",
      "   -------------- ------------------------ 91.2/241.3 MB 753.9 kB/s eta 0:03:20\n",
      "   -------------- ------------------------ 91.2/241.3 MB 753.9 kB/s eta 0:03:20\n",
      "   -------------- ------------------------ 91.2/241.3 MB 753.9 kB/s eta 0:03:20\n",
      "   -------------- ------------------------ 91.2/241.3 MB 753.9 kB/s eta 0:03:20\n",
      "   -------------- ------------------------ 91.2/241.3 MB 753.9 kB/s eta 0:03:20\n",
      "   -------------- ------------------------ 91.2/241.3 MB 753.9 kB/s eta 0:03:20\n",
      "   -------------- ------------------------ 91.2/241.3 MB 753.9 kB/s eta 0:03:20\n",
      "   -------------- ------------------------ 91.2/241.3 MB 753.9 kB/s eta 0:03:20\n",
      "   -------------- ------------------------ 91.2/241.3 MB 753.9 kB/s eta 0:03:20\n",
      "   -------------- ------------------------ 91.2/241.3 MB 753.9 kB/s eta 0:03:20\n",
      "   -------------- ------------------------ 91.2/241.3 MB 753.9 kB/s eta 0:03:20\n",
      "   -------------- ------------------------ 91.5/241.3 MB 534.2 kB/s eta 0:04:41\n",
      "   -------------- ------------------------ 92.0/241.3 MB 536.2 kB/s eta 0:04:39\n",
      "   -------------- ------------------------ 92.3/241.3 MB 541.9 kB/s eta 0:04:36\n",
      "   -------------- ------------------------ 92.8/241.3 MB 534.5 kB/s eta 0:04:38\n",
      "   --------------- ----------------------- 93.1/241.3 MB 528.3 kB/s eta 0:04:41\n",
      "   --------------- ----------------------- 93.1/241.3 MB 528.3 kB/s eta 0:04:41\n",
      "   --------------- ----------------------- 93.3/241.3 MB 528.1 kB/s eta 0:04:41\n",
      "   --------------- ----------------------- 93.6/241.3 MB 527.1 kB/s eta 0:04:41\n",
      "   --------------- ----------------------- 93.8/241.3 MB 529.6 kB/s eta 0:04:39\n",
      "   --------------- ----------------------- 94.6/241.3 MB 550.8 kB/s eta 0:04:27\n",
      "   --------------- ----------------------- 95.2/241.3 MB 559.4 kB/s eta 0:04:22\n",
      "   --------------- ----------------------- 95.7/241.3 MB 569.1 kB/s eta 0:04:16\n",
      "   --------------- ----------------------- 96.2/241.3 MB 578.7 kB/s eta 0:04:11\n",
      "   --------------- ----------------------- 97.0/241.3 MB 596.3 kB/s eta 0:04:03\n",
      "   --------------- ----------------------- 97.5/241.3 MB 608.8 kB/s eta 0:03:57\n",
      "   --------------- ----------------------- 97.8/241.3 MB 615.2 kB/s eta 0:03:54\n",
      "   --------------- ----------------------- 98.0/241.3 MB 615.5 kB/s eta 0:03:53\n",
      "   --------------- ----------------------- 98.6/241.3 MB 623.0 kB/s eta 0:03:50\n",
      "   ---------------- ---------------------- 99.1/241.3 MB 632.4 kB/s eta 0:03:45\n",
      "   ---------------- ---------------------- 99.6/241.3 MB 641.8 kB/s eta 0:03:41\n",
      "   --------------- ---------------------- 100.1/241.3 MB 649.4 kB/s eta 0:03:38\n",
      "   --------------- ---------------------- 100.4/241.3 MB 651.7 kB/s eta 0:03:37\n",
      "   --------------- ---------------------- 100.7/241.3 MB 655.4 kB/s eta 0:03:35\n",
      "   --------------- ---------------------- 100.7/241.3 MB 655.4 kB/s eta 0:03:35\n",
      "   --------------- ---------------------- 100.9/241.3 MB 647.2 kB/s eta 0:03:37\n",
      "   --------------- ---------------------- 101.2/241.3 MB 640.1 kB/s eta 0:03:39\n",
      "   ---------------- --------------------- 101.7/241.3 MB 641.6 kB/s eta 0:03:38\n",
      "   ---------------- --------------------- 102.0/241.3 MB 641.6 kB/s eta 0:03:38\n",
      "   ---------------- --------------------- 102.2/241.3 MB 648.0 kB/s eta 0:03:35\n",
      "   ---------------- --------------------- 102.8/241.3 MB 650.9 kB/s eta 0:03:33\n",
      "   ---------------- --------------------- 103.3/241.3 MB 659.7 kB/s eta 0:03:30\n",
      "   ---------------- --------------------- 103.5/241.3 MB 664.6 kB/s eta 0:03:28\n",
      "   ---------------- --------------------- 103.5/241.3 MB 664.6 kB/s eta 0:03:28\n",
      "   ---------------- --------------------- 104.3/241.3 MB 671.9 kB/s eta 0:03:24\n",
      "   ---------------- --------------------- 104.3/241.3 MB 671.9 kB/s eta 0:03:24\n",
      "   ---------------- --------------------- 104.6/241.3 MB 674.3 kB/s eta 0:03:23\n",
      "   ---------------- --------------------- 104.9/241.3 MB 675.2 kB/s eta 0:03:23\n",
      "   ---------------- --------------------- 105.1/241.3 MB 680.4 kB/s eta 0:03:21\n",
      "   ---------------- --------------------- 105.4/241.3 MB 686.7 kB/s eta 0:03:18\n",
      "   ---------------- --------------------- 105.9/241.3 MB 698.8 kB/s eta 0:03:14\n",
      "   ---------------- --------------------- 106.2/241.3 MB 704.8 kB/s eta 0:03:12\n",
      "   ---------------- --------------------- 106.4/241.3 MB 708.8 kB/s eta 0:03:11\n",
      "   ---------------- --------------------- 106.7/241.3 MB 713.7 kB/s eta 0:03:09\n",
      "   ---------------- --------------------- 107.0/241.3 MB 715.8 kB/s eta 0:03:08\n",
      "   ---------------- --------------------- 107.5/241.3 MB 725.9 kB/s eta 0:03:05\n",
      "   ---------------- --------------------- 107.7/241.3 MB 731.1 kB/s eta 0:03:03\n",
      "   ----------------- -------------------- 108.3/241.3 MB 738.9 kB/s eta 0:03:01\n",
      "   ----------------- -------------------- 108.5/241.3 MB 743.1 kB/s eta 0:02:59\n",
      "   ----------------- -------------------- 108.5/241.3 MB 743.1 kB/s eta 0:02:59\n",
      "   ----------------- -------------------- 108.8/241.3 MB 743.6 kB/s eta 0:02:59\n",
      "   ----------------- -------------------- 109.1/241.3 MB 743.4 kB/s eta 0:02:58\n",
      "   ----------------- -------------------- 109.1/241.3 MB 743.4 kB/s eta 0:02:58\n",
      "   ----------------- -------------------- 109.3/241.3 MB 743.2 kB/s eta 0:02:58\n",
      "   ----------------- -------------------- 109.6/241.3 MB 744.5 kB/s eta 0:02:57\n",
      "   ----------------- -------------------- 110.1/241.3 MB 752.0 kB/s eta 0:02:55\n",
      "   ----------------- -------------------- 110.4/241.3 MB 757.3 kB/s eta 0:02:53\n",
      "   ----------------- -------------------- 110.9/241.3 MB 767.0 kB/s eta 0:02:51\n",
      "   ----------------- -------------------- 111.1/241.3 MB 771.9 kB/s eta 0:02:49\n",
      "   ----------------- -------------------- 111.7/241.3 MB 781.0 kB/s eta 0:02:47\n",
      "   ----------------- -------------------- 111.9/241.3 MB 783.1 kB/s eta 0:02:46\n",
      "   ----------------- -------------------- 112.2/241.3 MB 788.4 kB/s eta 0:02:44\n",
      "   ----------------- -------------------- 112.7/241.3 MB 798.3 kB/s eta 0:02:42\n",
      "   ----------------- -------------------- 113.0/241.3 MB 803.3 kB/s eta 0:02:40\n",
      "   ----------------- -------------------- 113.2/241.3 MB 807.8 kB/s eta 0:02:39\n",
      "   ----------------- -------------------- 113.5/241.3 MB 810.7 kB/s eta 0:02:38\n",
      "   ----------------- -------------------- 113.8/241.3 MB 813.5 kB/s eta 0:02:37\n",
      "   ----------------- -------------------- 114.3/241.3 MB 824.0 kB/s eta 0:02:35\n",
      "   ------------------ ------------------- 114.6/241.3 MB 832.2 kB/s eta 0:02:33\n",
      "   ------------------ ------------------- 114.8/241.3 MB 837.0 kB/s eta 0:02:32\n",
      "   ------------------ ------------------- 115.1/241.3 MB 839.9 kB/s eta 0:02:31\n",
      "   ------------------ ------------------- 115.6/241.3 MB 850.0 kB/s eta 0:02:28\n",
      "   ------------------ ------------------- 115.9/241.3 MB 851.8 kB/s eta 0:02:28\n",
      "   ------------------ ------------------- 116.1/241.3 MB 856.6 kB/s eta 0:02:27\n",
      "   ------------------ ------------------- 116.4/241.3 MB 860.6 kB/s eta 0:02:26\n",
      "   ------------------- -------------------- 116.9/241.3 MB 1.0 MB/s eta 0:02:01\n",
      "   ------------------- -------------------- 117.2/241.3 MB 1.0 MB/s eta 0:02:00\n",
      "   ------------------- -------------------- 117.4/241.3 MB 1.0 MB/s eta 0:01:59\n",
      "   ------------------- -------------------- 117.7/241.3 MB 1.0 MB/s eta 0:01:59\n",
      "   ------------------- -------------------- 117.7/241.3 MB 1.0 MB/s eta 0:01:59\n",
      "   ------------------- -------------------- 118.0/241.3 MB 1.0 MB/s eta 0:01:59\n",
      "   ------------------- -------------------- 118.2/241.3 MB 1.0 MB/s eta 0:01:59\n",
      "   ------------------- -------------------- 118.8/241.3 MB 1.0 MB/s eta 0:01:57\n",
      "   ------------------- -------------------- 119.0/241.3 MB 1.1 MB/s eta 0:01:57\n",
      "   ------------------- -------------------- 119.3/241.3 MB 1.1 MB/s eta 0:01:56\n",
      "   ------------------- -------------------- 119.5/241.3 MB 1.1 MB/s eta 0:01:56\n",
      "   ------------------- -------------------- 120.1/241.3 MB 1.1 MB/s eta 0:01:55\n",
      "   ------------------- -------------------- 120.3/241.3 MB 1.1 MB/s eta 0:01:54\n",
      "   ------------------- -------------------- 120.6/241.3 MB 1.1 MB/s eta 0:01:54\n",
      "   -------------------- ------------------- 120.8/241.3 MB 1.1 MB/s eta 0:01:53\n",
      "   -------------------- ------------------- 121.1/241.3 MB 1.1 MB/s eta 0:01:52\n",
      "   -------------------- ------------------- 121.4/241.3 MB 1.1 MB/s eta 0:01:52\n",
      "   -------------------- ------------------- 121.6/241.3 MB 1.1 MB/s eta 0:01:52\n",
      "   -------------------- ------------------- 122.2/241.3 MB 1.1 MB/s eta 0:01:51\n",
      "   -------------------- ------------------- 122.7/241.3 MB 1.1 MB/s eta 0:01:49\n",
      "   -------------------- ------------------- 122.9/241.3 MB 1.1 MB/s eta 0:01:49\n",
      "   -------------------- ------------------- 123.2/241.3 MB 1.1 MB/s eta 0:01:48\n",
      "   -------------------- ------------------- 123.7/241.3 MB 1.1 MB/s eta 0:01:47\n",
      "   -------------------- ------------------- 124.0/241.3 MB 1.1 MB/s eta 0:01:47\n",
      "   -------------------- ------------------- 124.3/241.3 MB 1.4 MB/s eta 0:01:27\n",
      "   -------------------- ------------------- 124.5/241.3 MB 1.4 MB/s eta 0:01:27\n",
      "   -------------------- ------------------- 124.8/241.3 MB 1.4 MB/s eta 0:01:27\n",
      "   -------------------- ------------------- 125.3/241.3 MB 1.4 MB/s eta 0:01:26\n",
      "   -------------------- ------------------- 125.6/241.3 MB 1.4 MB/s eta 0:01:25\n",
      "   -------------------- ------------------- 126.1/241.3 MB 1.4 MB/s eta 0:01:25\n",
      "   -------------------- ------------------- 126.6/241.3 MB 1.4 MB/s eta 0:01:24\n",
      "   --------------------- ------------------ 127.1/241.3 MB 1.4 MB/s eta 0:01:23\n",
      "   --------------------- ------------------ 127.4/241.3 MB 1.4 MB/s eta 0:01:23\n",
      "   --------------------- ------------------ 127.9/241.3 MB 1.4 MB/s eta 0:01:22\n",
      "   --------------------- ------------------ 128.2/241.3 MB 1.4 MB/s eta 0:01:22\n",
      "   --------------------- ------------------ 128.5/241.3 MB 1.4 MB/s eta 0:01:21\n",
      "   --------------------- ------------------ 129.0/241.3 MB 1.4 MB/s eta 0:01:21\n",
      "   --------------------- ------------------ 129.2/241.3 MB 1.4 MB/s eta 0:01:20\n",
      "   --------------------- ------------------ 129.5/241.3 MB 1.4 MB/s eta 0:01:20\n",
      "   --------------------- ------------------ 130.0/241.3 MB 1.4 MB/s eta 0:01:20\n",
      "   --------------------- ------------------ 130.5/241.3 MB 1.4 MB/s eta 0:01:19\n",
      "   --------------------- ------------------ 130.8/241.3 MB 1.4 MB/s eta 0:01:19\n",
      "   --------------------- ------------------ 131.3/241.3 MB 1.4 MB/s eta 0:01:18\n",
      "   --------------------- ------------------ 131.6/241.3 MB 1.4 MB/s eta 0:01:18\n",
      "   --------------------- ------------------ 131.9/241.3 MB 1.4 MB/s eta 0:01:17\n",
      "   --------------------- ------------------ 132.1/241.3 MB 1.4 MB/s eta 0:01:17\n",
      "   --------------------- ------------------ 132.6/241.3 MB 1.4 MB/s eta 0:01:17\n",
      "   ---------------------- ----------------- 132.9/241.3 MB 1.4 MB/s eta 0:01:17\n",
      "   ---------------------- ----------------- 133.2/241.3 MB 1.4 MB/s eta 0:01:17\n",
      "   ---------------------- ----------------- 133.4/241.3 MB 1.4 MB/s eta 0:01:16\n",
      "   ---------------------- ----------------- 134.0/241.3 MB 1.4 MB/s eta 0:01:16\n",
      "   ---------------------- ----------------- 134.2/241.3 MB 1.6 MB/s eta 0:01:07\n",
      "   ---------------------- ----------------- 134.5/241.3 MB 1.6 MB/s eta 0:01:07\n",
      "   ---------------------- ----------------- 135.0/241.3 MB 1.6 MB/s eta 0:01:06\n",
      "   ---------------------- ----------------- 135.3/241.3 MB 1.6 MB/s eta 0:01:06\n",
      "   ---------------------- ----------------- 135.5/241.3 MB 1.6 MB/s eta 0:01:06\n",
      "   ---------------------- ----------------- 136.1/241.3 MB 1.6 MB/s eta 0:01:05\n",
      "   ---------------------- ----------------- 136.3/241.3 MB 1.6 MB/s eta 0:01:05\n",
      "   ---------------------- ----------------- 136.8/241.3 MB 1.6 MB/s eta 0:01:05\n",
      "   ---------------------- ----------------- 137.1/241.3 MB 1.6 MB/s eta 0:01:05\n",
      "   ---------------------- ----------------- 137.4/241.3 MB 1.6 MB/s eta 0:01:04\n",
      "   ---------------------- ----------------- 137.6/241.3 MB 1.6 MB/s eta 0:01:04\n",
      "   ---------------------- ----------------- 137.9/241.3 MB 1.6 MB/s eta 0:01:04\n",
      "   ---------------------- ----------------- 138.1/241.3 MB 1.6 MB/s eta 0:01:04\n",
      "   ---------------------- ----------------- 138.4/241.3 MB 1.6 MB/s eta 0:01:04\n",
      "   ---------------------- ----------------- 138.7/241.3 MB 1.6 MB/s eta 0:01:04\n",
      "   ----------------------- ---------------- 139.2/241.3 MB 1.6 MB/s eta 0:01:04\n",
      "   ----------------------- ---------------- 139.7/241.3 MB 1.6 MB/s eta 0:01:03\n",
      "   ----------------------- ---------------- 140.2/241.3 MB 1.6 MB/s eta 0:01:03\n",
      "   ----------------------- ---------------- 140.5/241.3 MB 1.6 MB/s eta 0:01:02\n",
      "   ----------------------- ---------------- 141.0/241.3 MB 1.6 MB/s eta 0:01:02\n",
      "   ----------------------- ---------------- 141.3/241.3 MB 1.6 MB/s eta 0:01:02\n",
      "   ----------------------- ---------------- 141.6/241.3 MB 1.6 MB/s eta 0:01:02\n",
      "   ----------------------- ---------------- 142.1/241.3 MB 1.6 MB/s eta 0:01:01\n",
      "   ----------------------- ---------------- 142.6/241.3 MB 1.6 MB/s eta 0:01:00\n",
      "   ----------------------- ---------------- 142.9/241.3 MB 1.7 MB/s eta 0:01:00\n",
      "   ----------------------- ---------------- 143.4/241.3 MB 1.7 MB/s eta 0:01:00\n",
      "   ----------------------- ---------------- 143.7/241.3 MB 1.7 MB/s eta 0:01:00\n",
      "   ----------------------- ---------------- 143.9/241.3 MB 1.6 MB/s eta 0:01:00\n",
      "   ----------------------- ---------------- 144.2/241.3 MB 1.6 MB/s eta 0:01:00\n",
      "   ----------------------- ---------------- 144.7/241.3 MB 1.6 MB/s eta 0:01:00\n",
      "   ------------------------ --------------- 145.0/241.3 MB 1.6 MB/s eta 0:00:59\n",
      "   ------------------------ --------------- 145.5/241.3 MB 1.6 MB/s eta 0:01:00\n",
      "   ------------------------ --------------- 145.8/241.3 MB 1.6 MB/s eta 0:01:00\n",
      "   ------------------------ --------------- 146.0/241.3 MB 1.6 MB/s eta 0:01:00\n",
      "   ------------------------ --------------- 146.3/241.3 MB 1.6 MB/s eta 0:01:00\n",
      "   ------------------------ --------------- 146.5/241.3 MB 1.6 MB/s eta 0:01:00\n",
      "   ------------------------ --------------- 146.8/241.3 MB 1.6 MB/s eta 0:01:00\n",
      "   ------------------------ --------------- 147.1/241.3 MB 1.6 MB/s eta 0:01:00\n",
      "   ------------------------ --------------- 147.6/241.3 MB 1.6 MB/s eta 0:01:00\n",
      "   ------------------------ --------------- 147.8/241.3 MB 1.6 MB/s eta 0:00:59\n",
      "   ------------------------ --------------- 148.1/241.3 MB 1.6 MB/s eta 0:00:59\n",
      "   ------------------------ --------------- 148.4/241.3 MB 1.6 MB/s eta 0:00:59\n",
      "   ------------------------ --------------- 148.9/241.3 MB 1.6 MB/s eta 0:00:58\n",
      "   ------------------------ --------------- 149.2/241.3 MB 1.6 MB/s eta 0:00:58\n",
      "   ------------------------ --------------- 149.4/241.3 MB 1.6 MB/s eta 0:00:58\n",
      "   ------------------------ --------------- 149.9/241.3 MB 1.6 MB/s eta 0:00:58\n",
      "   ------------------------ --------------- 150.2/241.3 MB 1.6 MB/s eta 0:00:58\n",
      "   ------------------------ --------------- 150.7/241.3 MB 1.6 MB/s eta 0:00:57\n",
      "   ------------------------- -------------- 151.0/241.3 MB 1.6 MB/s eta 0:00:57\n",
      "   ------------------------- -------------- 151.3/241.3 MB 1.6 MB/s eta 0:00:57\n",
      "   ------------------------- -------------- 151.5/241.3 MB 1.6 MB/s eta 0:00:57\n",
      "   ------------------------- -------------- 152.0/241.3 MB 1.6 MB/s eta 0:00:56\n",
      "   ------------------------- -------------- 152.3/241.3 MB 1.6 MB/s eta 0:00:56\n",
      "   ------------------------- -------------- 152.6/241.3 MB 1.6 MB/s eta 0:00:56\n",
      "   ------------------------- -------------- 153.1/241.3 MB 1.6 MB/s eta 0:00:55\n",
      "   ------------------------- -------------- 153.4/241.3 MB 1.6 MB/s eta 0:00:55\n",
      "   ------------------------- -------------- 153.6/241.3 MB 1.6 MB/s eta 0:00:55\n",
      "   ------------------------- -------------- 153.9/241.3 MB 1.6 MB/s eta 0:00:55\n",
      "   ------------------------- -------------- 154.1/241.3 MB 1.6 MB/s eta 0:00:55\n",
      "   ------------------------- -------------- 154.4/241.3 MB 1.6 MB/s eta 0:00:55\n",
      "   ------------------------- -------------- 154.7/241.3 MB 1.6 MB/s eta 0:00:55\n",
      "   ------------------------- -------------- 154.9/241.3 MB 1.6 MB/s eta 0:00:55\n",
      "   ------------------------- -------------- 155.2/241.3 MB 1.6 MB/s eta 0:00:54\n",
      "   ------------------------- -------------- 155.5/241.3 MB 1.6 MB/s eta 0:00:54\n",
      "   ------------------------- -------------- 155.7/241.3 MB 1.6 MB/s eta 0:00:54\n",
      "   ------------------------- -------------- 156.2/241.3 MB 1.6 MB/s eta 0:00:54\n",
      "   ------------------------- -------------- 156.2/241.3 MB 1.6 MB/s eta 0:00:54\n",
      "   ------------------------- -------------- 156.5/241.3 MB 1.6 MB/s eta 0:00:54\n",
      "   ------------------------- -------------- 156.8/241.3 MB 1.6 MB/s eta 0:00:54\n",
      "   -------------------------- ------------- 157.0/241.3 MB 1.6 MB/s eta 0:00:53\n",
      "   -------------------------- ------------- 157.0/241.3 MB 1.6 MB/s eta 0:00:53\n",
      "   -------------------------- ------------- 157.3/241.3 MB 1.6 MB/s eta 0:00:53\n",
      "   -------------------------- ------------- 157.5/241.3 MB 1.6 MB/s eta 0:00:53\n",
      "   -------------------------- ------------- 157.8/241.3 MB 1.6 MB/s eta 0:00:53\n",
      "   -------------------------- ------------- 158.1/241.3 MB 1.6 MB/s eta 0:00:53\n",
      "   -------------------------- ------------- 158.6/241.3 MB 1.6 MB/s eta 0:00:53\n",
      "   -------------------------- ------------- 158.9/241.3 MB 1.6 MB/s eta 0:00:53\n",
      "   -------------------------- ------------- 159.1/241.3 MB 1.6 MB/s eta 0:00:53\n",
      "   -------------------------- ------------- 159.4/241.3 MB 1.6 MB/s eta 0:00:53\n",
      "   -------------------------- ------------- 159.6/241.3 MB 1.6 MB/s eta 0:00:53\n",
      "   -------------------------- ------------- 159.9/241.3 MB 1.6 MB/s eta 0:00:52\n",
      "   -------------------------- ------------- 160.2/241.3 MB 1.6 MB/s eta 0:00:52\n",
      "   -------------------------- ------------- 160.4/241.3 MB 1.6 MB/s eta 0:00:52\n",
      "   -------------------------- ------------- 160.7/241.3 MB 1.6 MB/s eta 0:00:52\n",
      "   -------------------------- ------------- 160.7/241.3 MB 1.6 MB/s eta 0:00:52\n",
      "   -------------------------- ------------- 161.0/241.3 MB 1.5 MB/s eta 0:00:52\n",
      "   -------------------------- ------------- 161.2/241.3 MB 1.5 MB/s eta 0:00:52\n",
      "   -------------------------- ------------- 161.2/241.3 MB 1.5 MB/s eta 0:00:52\n",
      "   -------------------------- ------------- 161.5/241.3 MB 1.5 MB/s eta 0:00:53\n",
      "   -------------------------- ------------- 161.7/241.3 MB 1.5 MB/s eta 0:00:53\n",
      "   -------------------------- ------------- 161.7/241.3 MB 1.5 MB/s eta 0:00:53\n",
      "   -------------------------- ------------- 162.0/241.3 MB 1.5 MB/s eta 0:00:53\n",
      "   -------------------------- ------------- 162.3/241.3 MB 1.5 MB/s eta 0:00:52\n",
      "   -------------------------- ------------- 162.5/241.3 MB 1.5 MB/s eta 0:00:53\n",
      "   --------------------------- ------------ 163.1/241.3 MB 1.5 MB/s eta 0:00:52\n",
      "   --------------------------- ------------ 163.6/241.3 MB 1.5 MB/s eta 0:00:51\n",
      "   --------------------------- ------------ 163.8/241.3 MB 1.5 MB/s eta 0:00:51\n",
      "   --------------------------- ------------ 164.4/241.3 MB 1.5 MB/s eta 0:00:50\n",
      "   --------------------------- ------------ 164.6/241.3 MB 1.5 MB/s eta 0:00:50\n",
      "   --------------------------- ------------ 165.2/241.3 MB 1.5 MB/s eta 0:00:50\n",
      "   --------------------------- ------------ 165.4/241.3 MB 1.5 MB/s eta 0:00:50\n",
      "   --------------------------- ------------ 165.9/241.3 MB 1.6 MB/s eta 0:00:49\n",
      "   --------------------------- ------------ 166.5/241.3 MB 1.6 MB/s eta 0:00:49\n",
      "   --------------------------- ------------ 166.7/241.3 MB 1.6 MB/s eta 0:00:48\n",
      "   --------------------------- ------------ 167.2/241.3 MB 1.6 MB/s eta 0:00:48\n",
      "   --------------------------- ------------ 167.5/241.3 MB 1.6 MB/s eta 0:00:48\n",
      "   --------------------------- ------------ 167.8/241.3 MB 1.6 MB/s eta 0:00:48\n",
      "   --------------------------- ------------ 168.0/241.3 MB 1.6 MB/s eta 0:00:47\n",
      "   --------------------------- ------------ 168.3/241.3 MB 1.6 MB/s eta 0:00:47\n",
      "   --------------------------- ------------ 168.6/241.3 MB 1.6 MB/s eta 0:00:47\n",
      "   --------------------------- ------------ 168.8/241.3 MB 1.6 MB/s eta 0:00:47\n",
      "   ---------------------------- ----------- 169.3/241.3 MB 1.6 MB/s eta 0:00:47\n",
      "   ---------------------------- ----------- 169.6/241.3 MB 1.6 MB/s eta 0:00:47\n",
      "   ---------------------------- ----------- 169.9/241.3 MB 1.6 MB/s eta 0:00:47\n",
      "   ---------------------------- ----------- 170.4/241.3 MB 1.6 MB/s eta 0:00:46\n",
      "   ---------------------------- ----------- 170.7/241.3 MB 1.6 MB/s eta 0:00:46\n",
      "   ---------------------------- ----------- 171.2/241.3 MB 1.6 MB/s eta 0:00:45\n",
      "   ---------------------------- ----------- 171.2/241.3 MB 1.6 MB/s eta 0:00:45\n",
      "   ---------------------------- ----------- 171.4/241.3 MB 1.6 MB/s eta 0:00:45\n",
      "   ---------------------------- ----------- 172.0/241.3 MB 1.6 MB/s eta 0:00:45\n",
      "   ---------------------------- ----------- 172.2/241.3 MB 1.6 MB/s eta 0:00:45\n",
      "   ---------------------------- ----------- 172.5/241.3 MB 1.6 MB/s eta 0:00:45\n",
      "   ---------------------------- ----------- 172.5/241.3 MB 1.6 MB/s eta 0:00:45\n",
      "   ---------------------------- ----------- 173.3/241.3 MB 1.5 MB/s eta 0:00:44\n",
      "   ---------------------------- ----------- 173.5/241.3 MB 1.5 MB/s eta 0:00:44\n",
      "   ---------------------------- ----------- 174.1/241.3 MB 1.5 MB/s eta 0:00:44\n",
      "   ---------------------------- ----------- 174.6/241.3 MB 1.5 MB/s eta 0:00:44\n",
      "   ---------------------------- ----------- 174.9/241.3 MB 1.5 MB/s eta 0:00:43\n",
      "   ----------------------------- ---------- 175.1/241.3 MB 1.5 MB/s eta 0:00:43\n",
      "   ----------------------------- ---------- 175.6/241.3 MB 1.5 MB/s eta 0:00:43\n",
      "   ----------------------------- ---------- 175.9/241.3 MB 1.5 MB/s eta 0:00:43\n",
      "   ----------------------------- ---------- 176.2/241.3 MB 1.5 MB/s eta 0:00:43\n",
      "   ----------------------------- ---------- 176.7/241.3 MB 1.5 MB/s eta 0:00:42\n",
      "   ----------------------------- ---------- 176.9/241.3 MB 1.5 MB/s eta 0:00:42\n",
      "   ----------------------------- ---------- 177.2/241.3 MB 1.5 MB/s eta 0:00:42\n",
      "   ----------------------------- ---------- 177.7/241.3 MB 1.5 MB/s eta 0:00:42\n",
      "   ----------------------------- ---------- 178.0/241.3 MB 1.5 MB/s eta 0:00:42\n",
      "   ----------------------------- ---------- 178.3/241.3 MB 1.5 MB/s eta 0:00:41\n",
      "   ----------------------------- ---------- 178.8/241.3 MB 1.5 MB/s eta 0:00:41\n",
      "   ----------------------------- ---------- 179.0/241.3 MB 1.5 MB/s eta 0:00:41\n",
      "   ----------------------------- ---------- 179.3/241.3 MB 1.5 MB/s eta 0:00:41\n",
      "   ----------------------------- ---------- 179.8/241.3 MB 1.5 MB/s eta 0:00:40\n",
      "   ----------------------------- ---------- 180.1/241.3 MB 1.6 MB/s eta 0:00:40\n",
      "   ----------------------------- ---------- 180.4/241.3 MB 1.5 MB/s eta 0:00:40\n",
      "   ----------------------------- ---------- 180.9/241.3 MB 1.5 MB/s eta 0:00:40\n",
      "   ------------------------------ --------- 181.1/241.3 MB 1.5 MB/s eta 0:00:39\n",
      "   ------------------------------ --------- 181.7/241.3 MB 1.5 MB/s eta 0:00:39\n",
      "   ------------------------------ --------- 182.2/241.3 MB 1.6 MB/s eta 0:00:39\n",
      "   ------------------------------ --------- 182.5/241.3 MB 1.6 MB/s eta 0:00:38\n",
      "   ------------------------------ --------- 182.7/241.3 MB 1.6 MB/s eta 0:00:38\n",
      "   ------------------------------ --------- 183.2/241.3 MB 1.6 MB/s eta 0:00:38\n",
      "   ------------------------------ --------- 183.5/241.3 MB 1.5 MB/s eta 0:00:38\n",
      "   ------------------------------ --------- 183.8/241.3 MB 1.6 MB/s eta 0:00:38\n",
      "   ------------------------------ --------- 184.3/241.3 MB 1.6 MB/s eta 0:00:37\n",
      "   ------------------------------ --------- 184.5/241.3 MB 1.6 MB/s eta 0:00:37\n",
      "   ------------------------------ --------- 184.8/241.3 MB 1.6 MB/s eta 0:00:37\n",
      "   ------------------------------ --------- 185.3/241.3 MB 1.6 MB/s eta 0:00:36\n",
      "   ------------------------------ --------- 185.6/241.3 MB 1.6 MB/s eta 0:00:36\n",
      "   ------------------------------ --------- 185.9/241.3 MB 1.6 MB/s eta 0:00:36\n",
      "   ------------------------------ --------- 186.1/241.3 MB 1.6 MB/s eta 0:00:36\n",
      "   ------------------------------ --------- 186.4/241.3 MB 1.5 MB/s eta 0:00:36\n",
      "   ------------------------------ --------- 186.6/241.3 MB 1.5 MB/s eta 0:00:36\n",
      "   ------------------------------- -------- 187.2/241.3 MB 1.5 MB/s eta 0:00:36\n",
      "   ------------------------------- -------- 187.4/241.3 MB 1.5 MB/s eta 0:00:36\n",
      "   ------------------------------- -------- 188.0/241.3 MB 1.5 MB/s eta 0:00:35\n",
      "   ------------------------------- -------- 188.2/241.3 MB 1.5 MB/s eta 0:00:35\n",
      "   ------------------------------- -------- 188.7/241.3 MB 1.5 MB/s eta 0:00:35\n",
      "   ------------------------------- -------- 189.3/241.3 MB 1.5 MB/s eta 0:00:34\n",
      "   ------------------------------- -------- 189.5/241.3 MB 1.5 MB/s eta 0:00:34\n",
      "   ------------------------------- -------- 189.8/241.3 MB 1.5 MB/s eta 0:00:34\n",
      "   ------------------------------- -------- 190.3/241.3 MB 1.5 MB/s eta 0:00:33\n",
      "   ------------------------------- -------- 190.6/241.3 MB 1.5 MB/s eta 0:00:33\n",
      "   ------------------------------- -------- 191.1/241.3 MB 1.5 MB/s eta 0:00:33\n",
      "   ------------------------------- -------- 191.4/241.3 MB 1.5 MB/s eta 0:00:33\n",
      "   ------------------------------- -------- 191.9/241.3 MB 1.5 MB/s eta 0:00:32\n",
      "   ------------------------------- -------- 192.4/241.3 MB 1.6 MB/s eta 0:00:32\n",
      "   ------------------------------- -------- 192.7/241.3 MB 1.6 MB/s eta 0:00:32\n",
      "   -------------------------------- ------- 193.2/241.3 MB 1.6 MB/s eta 0:00:31\n",
      "   -------------------------------- ------- 193.7/241.3 MB 1.6 MB/s eta 0:00:31\n",
      "   -------------------------------- ------- 193.7/241.3 MB 1.6 MB/s eta 0:00:31\n",
      "   -------------------------------- ------- 194.0/241.3 MB 1.6 MB/s eta 0:00:31\n",
      "   -------------------------------- ------- 194.2/241.3 MB 1.6 MB/s eta 0:00:31\n",
      "   -------------------------------- ------- 194.5/241.3 MB 1.6 MB/s eta 0:00:30\n",
      "   -------------------------------- ------- 194.8/241.3 MB 1.6 MB/s eta 0:00:30\n",
      "   -------------------------------- ------- 195.0/241.3 MB 1.6 MB/s eta 0:00:30\n",
      "   -------------------------------- ------- 195.0/241.3 MB 1.6 MB/s eta 0:00:30\n",
      "   -------------------------------- ------- 195.6/241.3 MB 1.5 MB/s eta 0:00:30\n",
      "   -------------------------------- ------- 195.8/241.3 MB 1.5 MB/s eta 0:00:30\n",
      "   -------------------------------- ------- 196.1/241.3 MB 1.5 MB/s eta 0:00:30\n",
      "   -------------------------------- ------- 196.3/241.3 MB 1.5 MB/s eta 0:00:30\n",
      "   -------------------------------- ------- 196.9/241.3 MB 1.5 MB/s eta 0:00:29\n",
      "   -------------------------------- ------- 196.9/241.3 MB 1.5 MB/s eta 0:00:29\n",
      "   -------------------------------- ------- 197.1/241.3 MB 1.5 MB/s eta 0:00:29\n",
      "   -------------------------------- ------- 197.4/241.3 MB 1.5 MB/s eta 0:00:29\n",
      "   -------------------------------- ------- 197.7/241.3 MB 1.5 MB/s eta 0:00:29\n",
      "   -------------------------------- ------- 197.9/241.3 MB 1.5 MB/s eta 0:00:29\n",
      "   -------------------------------- ------- 198.4/241.3 MB 1.5 MB/s eta 0:00:29\n",
      "   -------------------------------- ------- 198.7/241.3 MB 1.5 MB/s eta 0:00:28\n",
      "   --------------------------------- ------ 199.2/241.3 MB 1.5 MB/s eta 0:00:28\n",
      "   --------------------------------- ------ 199.5/241.3 MB 1.5 MB/s eta 0:00:28\n",
      "   --------------------------------- ------ 199.8/241.3 MB 1.5 MB/s eta 0:00:28\n",
      "   --------------------------------- ------ 200.3/241.3 MB 1.5 MB/s eta 0:00:27\n",
      "   --------------------------------- ------ 200.8/241.3 MB 1.5 MB/s eta 0:00:27\n",
      "   --------------------------------- ------ 201.1/241.3 MB 1.6 MB/s eta 0:00:26\n",
      "   --------------------------------- ------ 201.6/241.3 MB 1.6 MB/s eta 0:00:26\n",
      "   --------------------------------- ------ 202.1/241.3 MB 1.6 MB/s eta 0:00:26\n",
      "   --------------------------------- ------ 202.4/241.3 MB 1.6 MB/s eta 0:00:25\n",
      "   --------------------------------- ------ 202.9/241.3 MB 1.6 MB/s eta 0:00:25\n",
      "   --------------------------------- ------ 203.2/241.3 MB 1.6 MB/s eta 0:00:25\n",
      "   --------------------------------- ------ 203.4/241.3 MB 1.6 MB/s eta 0:00:25\n",
      "   --------------------------------- ------ 203.7/241.3 MB 1.6 MB/s eta 0:00:24\n",
      "   --------------------------------- ------ 203.9/241.3 MB 1.6 MB/s eta 0:00:24\n",
      "   --------------------------------- ------ 204.5/241.3 MB 1.6 MB/s eta 0:00:24\n",
      "   --------------------------------- ------ 204.7/241.3 MB 1.6 MB/s eta 0:00:23\n",
      "   --------------------------------- ------ 205.0/241.3 MB 1.6 MB/s eta 0:00:23\n",
      "   ---------------------------------- ----- 205.3/241.3 MB 1.6 MB/s eta 0:00:23\n",
      "   ---------------------------------- ----- 205.5/241.3 MB 1.6 MB/s eta 0:00:23\n",
      "   ---------------------------------- ----- 205.8/241.3 MB 1.6 MB/s eta 0:00:23\n",
      "   ---------------------------------- ----- 206.0/241.3 MB 1.6 MB/s eta 0:00:23\n",
      "   ---------------------------------- ----- 206.6/241.3 MB 1.6 MB/s eta 0:00:22\n",
      "   ---------------------------------- ----- 206.8/241.3 MB 1.6 MB/s eta 0:00:22\n",
      "   ---------------------------------- ----- 207.4/241.3 MB 1.6 MB/s eta 0:00:22\n",
      "   ---------------------------------- ----- 207.9/241.3 MB 1.6 MB/s eta 0:00:21\n",
      "   ---------------------------------- ----- 208.1/241.3 MB 1.6 MB/s eta 0:00:21\n",
      "   ---------------------------------- ----- 208.7/241.3 MB 1.6 MB/s eta 0:00:21\n",
      "   ---------------------------------- ----- 209.2/241.3 MB 1.6 MB/s eta 0:00:20\n",
      "   ---------------------------------- ----- 209.5/241.3 MB 1.6 MB/s eta 0:00:20\n",
      "   ---------------------------------- ----- 210.0/241.3 MB 1.6 MB/s eta 0:00:20\n",
      "   ---------------------------------- ----- 210.2/241.3 MB 1.7 MB/s eta 0:00:19\n",
      "   ---------------------------------- ----- 210.8/241.3 MB 1.7 MB/s eta 0:00:19\n",
      "   ----------------------------------- ---- 211.3/241.3 MB 1.7 MB/s eta 0:00:18\n",
      "   ----------------------------------- ---- 211.6/241.3 MB 1.7 MB/s eta 0:00:18\n",
      "   ----------------------------------- ---- 211.8/241.3 MB 1.7 MB/s eta 0:00:18\n",
      "   ----------------------------------- ---- 212.3/241.3 MB 1.7 MB/s eta 0:00:18\n",
      "   ----------------------------------- ---- 212.9/241.3 MB 1.7 MB/s eta 0:00:17\n",
      "   ----------------------------------- ---- 212.9/241.3 MB 1.7 MB/s eta 0:00:17\n",
      "   ----------------------------------- ---- 213.1/241.3 MB 1.7 MB/s eta 0:00:17\n",
      "   ----------------------------------- ---- 213.6/241.3 MB 1.7 MB/s eta 0:00:17\n",
      "   ----------------------------------- ---- 213.9/241.3 MB 1.7 MB/s eta 0:00:17\n",
      "   ----------------------------------- ---- 214.4/241.3 MB 1.7 MB/s eta 0:00:16\n",
      "   ----------------------------------- ---- 214.7/241.3 MB 1.7 MB/s eta 0:00:16\n",
      "   ----------------------------------- ---- 215.2/241.3 MB 1.7 MB/s eta 0:00:16\n",
      "   ----------------------------------- ---- 215.5/241.3 MB 1.7 MB/s eta 0:00:16\n",
      "   ----------------------------------- ---- 215.7/241.3 MB 1.7 MB/s eta 0:00:16\n",
      "   ----------------------------------- ---- 216.0/241.3 MB 1.7 MB/s eta 0:00:16\n",
      "   ----------------------------------- ---- 216.3/241.3 MB 1.7 MB/s eta 0:00:16\n",
      "   ----------------------------------- ---- 216.5/241.3 MB 1.7 MB/s eta 0:00:15\n",
      "   ----------------------------------- ---- 216.5/241.3 MB 1.7 MB/s eta 0:00:15\n",
      "   ----------------------------------- ---- 217.1/241.3 MB 1.7 MB/s eta 0:00:15\n",
      "   ------------------------------------ --- 217.3/241.3 MB 1.7 MB/s eta 0:00:15\n",
      "   ------------------------------------ --- 217.8/241.3 MB 1.7 MB/s eta 0:00:15\n",
      "   ------------------------------------ --- 218.1/241.3 MB 1.7 MB/s eta 0:00:14\n",
      "   ------------------------------------ --- 218.4/241.3 MB 1.7 MB/s eta 0:00:14\n",
      "   ------------------------------------ --- 218.9/241.3 MB 1.7 MB/s eta 0:00:14\n",
      "   ------------------------------------ --- 219.2/241.3 MB 1.7 MB/s eta 0:00:14\n",
      "   ------------------------------------ --- 219.4/241.3 MB 1.7 MB/s eta 0:00:14\n",
      "   ------------------------------------ --- 219.9/241.3 MB 1.7 MB/s eta 0:00:13\n",
      "   ------------------------------------ --- 220.5/241.3 MB 1.7 MB/s eta 0:00:13\n",
      "   ------------------------------------ --- 220.7/241.3 MB 1.7 MB/s eta 0:00:13\n",
      "   ------------------------------------ --- 221.0/241.3 MB 1.7 MB/s eta 0:00:13\n",
      "   ------------------------------------ --- 221.0/241.3 MB 1.7 MB/s eta 0:00:13\n",
      "   ------------------------------------ --- 221.5/241.3 MB 1.7 MB/s eta 0:00:12\n",
      "   ------------------------------------ --- 221.8/241.3 MB 1.7 MB/s eta 0:00:12\n",
      "   ------------------------------------ --- 222.3/241.3 MB 1.7 MB/s eta 0:00:12\n",
      "   ------------------------------------ --- 222.6/241.3 MB 1.7 MB/s eta 0:00:12\n",
      "   ------------------------------------ --- 223.1/241.3 MB 1.7 MB/s eta 0:00:11\n",
      "   ------------------------------------- -- 223.6/241.3 MB 1.7 MB/s eta 0:00:11\n",
      "   ------------------------------------- -- 223.9/241.3 MB 1.7 MB/s eta 0:00:11\n",
      "   ------------------------------------- -- 224.1/241.3 MB 1.7 MB/s eta 0:00:11\n",
      "   ------------------------------------- -- 224.7/241.3 MB 1.7 MB/s eta 0:00:10\n",
      "   ------------------------------------- -- 224.9/241.3 MB 1.7 MB/s eta 0:00:10\n",
      "   ------------------------------------- -- 225.4/241.3 MB 1.7 MB/s eta 0:00:10\n",
      "   ------------------------------------- -- 225.7/241.3 MB 1.7 MB/s eta 0:00:10\n",
      "   ------------------------------------- -- 226.2/241.3 MB 1.7 MB/s eta 0:00:09\n",
      "   ------------------------------------- -- 226.5/241.3 MB 1.7 MB/s eta 0:00:09\n",
      "   ------------------------------------- -- 227.0/241.3 MB 1.7 MB/s eta 0:00:09\n",
      "   ------------------------------------- -- 227.0/241.3 MB 1.7 MB/s eta 0:00:09\n",
      "   ------------------------------------- -- 227.5/241.3 MB 1.7 MB/s eta 0:00:09\n",
      "   ------------------------------------- -- 227.5/241.3 MB 1.7 MB/s eta 0:00:09\n",
      "   ------------------------------------- -- 228.1/241.3 MB 1.7 MB/s eta 0:00:08\n",
      "   ------------------------------------- -- 228.3/241.3 MB 1.7 MB/s eta 0:00:08\n",
      "   ------------------------------------- -- 228.6/241.3 MB 1.7 MB/s eta 0:00:08\n",
      "   ------------------------------------- -- 229.1/241.3 MB 1.7 MB/s eta 0:00:08\n",
      "   -------------------------------------- - 229.4/241.3 MB 1.7 MB/s eta 0:00:08\n",
      "   -------------------------------------- - 229.9/241.3 MB 1.7 MB/s eta 0:00:07\n",
      "   -------------------------------------- - 230.2/241.3 MB 1.7 MB/s eta 0:00:07\n",
      "   -------------------------------------- - 230.4/241.3 MB 1.7 MB/s eta 0:00:07\n",
      "   -------------------------------------- - 230.7/241.3 MB 1.7 MB/s eta 0:00:07\n",
      "   -------------------------------------- - 230.9/241.3 MB 1.7 MB/s eta 0:00:07\n",
      "   -------------------------------------- - 231.5/241.3 MB 1.7 MB/s eta 0:00:06\n",
      "   -------------------------------------- - 231.7/241.3 MB 1.7 MB/s eta 0:00:06\n",
      "   -------------------------------------- - 232.3/241.3 MB 1.7 MB/s eta 0:00:06\n",
      "   -------------------------------------- - 232.8/241.3 MB 1.7 MB/s eta 0:00:06\n",
      "   -------------------------------------- - 233.0/241.3 MB 1.7 MB/s eta 0:00:05\n",
      "   -------------------------------------- - 233.6/241.3 MB 1.7 MB/s eta 0:00:05\n",
      "   -------------------------------------- - 234.1/241.3 MB 1.7 MB/s eta 0:00:05\n",
      "   -------------------------------------- - 234.4/241.3 MB 1.7 MB/s eta 0:00:05\n",
      "   -------------------------------------- - 234.6/241.3 MB 1.7 MB/s eta 0:00:05\n",
      "   -------------------------------------- - 234.9/241.3 MB 1.7 MB/s eta 0:00:04\n",
      "   ---------------------------------------  235.4/241.3 MB 1.7 MB/s eta 0:00:04\n",
      "   ---------------------------------------  235.7/241.3 MB 1.7 MB/s eta 0:00:04\n",
      "   ---------------------------------------  235.9/241.3 MB 1.7 MB/s eta 0:00:04\n",
      "   ---------------------------------------  236.2/241.3 MB 1.7 MB/s eta 0:00:04\n",
      "   ---------------------------------------  236.5/241.3 MB 1.7 MB/s eta 0:00:03\n",
      "   ---------------------------------------  236.7/241.3 MB 1.7 MB/s eta 0:00:03\n",
      "   ---------------------------------------  237.2/241.3 MB 1.7 MB/s eta 0:00:03\n",
      "   ---------------------------------------  237.5/241.3 MB 1.7 MB/s eta 0:00:03\n",
      "   ---------------------------------------  237.5/241.3 MB 1.7 MB/s eta 0:00:03\n",
      "   ---------------------------------------  237.8/241.3 MB 1.7 MB/s eta 0:00:03\n",
      "   ---------------------------------------  238.3/241.3 MB 1.7 MB/s eta 0:00:02\n",
      "   ---------------------------------------  238.8/241.3 MB 1.7 MB/s eta 0:00:02\n",
      "   ---------------------------------------  239.1/241.3 MB 1.7 MB/s eta 0:00:02\n",
      "   ---------------------------------------  239.6/241.3 MB 1.7 MB/s eta 0:00:02\n",
      "   ---------------------------------------  239.9/241.3 MB 1.7 MB/s eta 0:00:01\n",
      "   ---------------------------------------  240.4/241.3 MB 1.7 MB/s eta 0:00:01\n",
      "   ---------------------------------------  240.6/241.3 MB 1.7 MB/s eta 0:00:01\n",
      "   ---------------------------------------  241.2/241.3 MB 1.7 MB/s eta 0:00:01\n",
      "   ---------------------------------------  241.2/241.3 MB 1.7 MB/s eta 0:00:01\n",
      "   ---------------------------------------  241.2/241.3 MB 1.7 MB/s eta 0:00:01\n",
      "   ---------------------------------------- 241.3/241.3 MB 1.6 MB/s eta 0:00:00\n",
      "Using cached sympy-1.14.0-py3-none-any.whl (6.3 MB)\n",
      "Using cached jinja2-3.1.6-py3-none-any.whl (134 kB)\n",
      "Downloading networkx-3.5-py3-none-any.whl (2.0 MB)\n",
      "   ---------------------------------------- 0.0/2.0 MB ? eta -:--:--\n",
      "   ----- ---------------------------------- 0.3/2.0 MB ? eta -:--:--\n",
      "   --------------- ------------------------ 0.8/2.0 MB 2.1 MB/s eta 0:00:01\n",
      "   -------------------- ------------------- 1.0/2.0 MB 2.0 MB/s eta 0:00:01\n",
      "   ------------------------------ --------- 1.6/2.0 MB 2.0 MB/s eta 0:00:01\n",
      "   ------------------------------------ --- 1.8/2.0 MB 1.9 MB/s eta 0:00:01\n",
      "   ---------------------------------------- 2.0/2.0 MB 2.0 MB/s eta 0:00:00\n",
      "Using cached mpmath-1.3.0-py3-none-any.whl (536 kB)\n",
      "Installing collected packages: mpmath, sympy, networkx, jinja2, torch\n",
      "Successfully installed jinja2-3.1.6 mpmath-1.3.0 networkx-3.5 sympy-1.14.0 torch-2.8.0\n"
     ]
    },
    {
     "name": "stderr",
     "output_type": "stream",
     "text": [
      "\n",
      "[notice] A new release of pip is available: 24.3.1 -> 25.2\n",
      "[notice] To update, run: python.exe -m pip install --upgrade pip\n"
     ]
    }
   ],
   "source": [
    "!pip install pandas\n",
    "!pip install tensorflow\n",
    "!pip install pillow\n",
    "!pip install matplotlib\n",
    "!pip install transformers\n",
    "!pip install torch"
   ]
  },
  {
   "cell_type": "markdown",
   "id": "26406dd5-ccf2-4e33-9a0e-244d9fd8343b",
   "metadata": {},
   "source": [
    "#### Suppress the tensorflow warning messages\n",
    "We use the following code to  suppress the warning messages due to use of CPU architechture for tensoflow.\n",
    "\n",
    "You may want to **comment out** these lines if you are using the GPU architechture\n"
   ]
  },
  {
   "cell_type": "code",
   "execution_count": 2,
   "id": "98112db6-d4b6-4c69-b348-3f4fc534867d",
   "metadata": {},
   "outputs": [],
   "source": [
    "import os\n",
    "os.environ['TF_ENABLE_ONEDNN_OPTS'] = '0'\n",
    "os.environ['TF_CPP_MIN_LOG_LEVEL'] = '2'"
   ]
  },
  {
   "cell_type": "markdown",
   "id": "307729e8-8a3d-4196-be2d-61f542234332",
   "metadata": {},
   "source": [
    "### Importing Required Libraries\n"
   ]
  },
  {
   "cell_type": "code",
   "execution_count": 3,
   "id": "e13bcd0f-c9e8-4919-9537-b879bb99489b",
   "metadata": {},
   "outputs": [],
   "source": [
    "import zipfile\n",
    "import keras\n",
    "from keras.models import Sequential, Model\n",
    "from keras.layers import Dense, Dropout, Flatten\n",
    "from keras.applications import VGG16\n",
    "from keras.optimizers import Adam\n",
    "import tensorflow as tf\n",
    "from tensorflow.keras.preprocessing.image import ImageDataGenerator\n",
    "import matplotlib.pyplot as plt\n",
    "import numpy as np\n",
    "from keras.preprocessing import image\n",
    "import random"
   ]
  },
  {
   "cell_type": "code",
   "execution_count": 4,
   "id": "cb41ca5e-c55b-4f14-94f7-0e8ab508ecd9",
   "metadata": {},
   "outputs": [],
   "source": [
    "# Set seed for reproducibility\n",
    "seed_value = 42\n",
    "random.seed(seed_value)\n",
    "np.random.seed(seed_value)\n",
    "tf.random.set_seed(seed_value)"
   ]
  },
  {
   "cell_type": "markdown",
   "id": "1b0eeb8b-7366-4312-b170-4b33be9922cc",
   "metadata": {},
   "source": [
    "#### Pretrained Model\n",
    "\n",
    "A pretrained model refers to a machine learning model that has already been trained on a large dataset, typically for a specific task, and is ready for use or fine-tuning on a new task or dataset. The key idea behind a pretrained model is that it has already learned useful patterns or features from the data it was trained on, so you don’t need to start from scratch.\n",
    "\n",
    "- **ResNet, VGG (Image Classification):** These are pretrained models commonly used for image classification tasks. They have learned from millions of images and can be fine-tuned for specific image-related tasks.\n",
    "\n",
    "- **BLIP (Image Captioning and Summarization):** BLIP is a pretrained model that can generate captions and summaries for images. It has already been trained on image-text pairs, so it can easily generate descriptive captions for new images.\n"
   ]
  },
  {
   "cell_type": "markdown",
   "id": "d68e2c8a-72cc-453e-b2d6-897310515e06",
   "metadata": {},
   "source": [
    "## <a id='toc1_'> </a> [Part 1 - Classification Problem: Classifying the defect on the aircraft as 'dent' or 'crack'](#toc1_) \n",
    "\n",
    "### <a id='toc1_1_'></a> [1.1 Dataset Preparation](#toc1_) \n",
    "\n",
    "The first step is to load and prepare the dataset of aircraft images. These images are labeled either as 'dent' or 'crack'. We will also split the dataset into training, validation, and test sets.\n",
    "\n",
    "Your goal is to train an algorithm on these images and to predict the labels for images in your test set.\n",
    "\n",
    "\n"
   ]
  },
  {
   "cell_type": "markdown",
   "id": "40069677-2a92-44eb-aef7-1f87dae5e51e",
   "metadata": {},
   "source": [
    "**Define configuration options**\n",
    "\n",
    "It's time to define some model configuration options.\n",
    "\n",
    "*  Set the **batch size** is set to 32.\n",
    "*  Set the **number of epcohs** is 5.\n"
   ]
  },
  {
   "cell_type": "code",
   "execution_count": 5,
   "id": "c19c43ef-8ce1-4b88-abda-e9cdf7317467",
   "metadata": {},
   "outputs": [],
   "source": [
    "#Set the batch size,epochs\n",
    "batch_size = 32\n",
    "n_epochs = 5\n",
    "img_rows, img_cols = 224, 224\n",
    "input_shape = (img_rows, img_cols, 3)"
   ]
  },
  {
   "cell_type": "markdown",
   "id": "81b68bba-365b-403d-accc-ce29931f2a98",
   "metadata": {},
   "source": [
    "Extract the Dataset:\n",
    "Unzip the dataset to the current directory, creating directories for training, testing, and validation splits.\n"
   ]
  },
  {
   "cell_type": "code",
   "execution_count": 6,
   "id": "8ad77074-bd80-4bd3-9f57-d5e386b03713",
   "metadata": {},
   "outputs": [
    {
     "name": "stdout",
     "output_type": "stream",
     "text": [
      "Downloaded aircraft_damage_dataset_v1.tar. Extraction will begin now.\n"
     ]
    },
    {
     "name": "stderr",
     "output_type": "stream",
     "text": [
      "C:\\Users\\tawil\\AppData\\Local\\Temp\\ipykernel_20888\\2111111657.py:27: DeprecationWarning: Python 3.14 will, by default, filter extracted tar archives and reject files or modify their metadata. Use the filter argument to control this behavior.\n",
      "  tar_ref.extractall()  # This will extract to the current directory\n"
     ]
    },
    {
     "name": "stdout",
     "output_type": "stream",
     "text": [
      "Extracted aircraft_damage_dataset_v1.tar successfully.\n"
     ]
    }
   ],
   "source": [
    "import tarfile\n",
    "import urllib.request\n",
    "import os\n",
    "import shutil\n",
    "\n",
    "# URL of the tar file\n",
    "url = \"https://cf-courses-data.s3.us.cloud-object-storage.appdomain.cloud/ZjXM4RKxlBK9__ZjHBLl5A/aircraft-damage-dataset-v1.tar\"\n",
    "\n",
    "# Define the path to save the file\n",
    "tar_filename = \"aircraft_damage_dataset_v1.tar\"\n",
    "extracted_folder = \"aircraft_damage_dataset_v1\"  # Folder where contents will be extracted\n",
    "\n",
    "# Download the tar file\n",
    "urllib.request.urlretrieve(url, tar_filename)\n",
    "print(f\"Downloaded {tar_filename}. Extraction will begin now.\")\n",
    "\n",
    "# Check if the folder already exists\n",
    "if os.path.exists(extracted_folder):\n",
    "    print(f\"The folder '{extracted_folder}' already exists. Removing the existing folder.\")\n",
    "    \n",
    "    # Remove the existing folder to avoid overwriting or duplication\n",
    "    shutil.rmtree(extracted_folder)\n",
    "    print(f\"Removed the existing folder: {extracted_folder}\")\n",
    "\n",
    "# Extract the contents of the tar file\n",
    "with tarfile.open(tar_filename, \"r\") as tar_ref:\n",
    "    tar_ref.extractall()  # This will extract to the current directory\n",
    "    print(f\"Extracted {tar_filename} successfully.\")\n"
   ]
  },
  {
   "cell_type": "markdown",
   "id": "fd20c128-0937-4922-a79d-c8e8baed7e2a",
   "metadata": {},
   "source": [
    "The folder structure looks as follows:\n",
    "\n",
    "```python\n",
    "aircraft_damage_dataset_v1/\n",
    "├── train/\n",
    "│   ├── dent/\n",
    "│   └── crack/\n",
    "├── valid/\n",
    "│   ├── dent/\n",
    "│   └── crack/\n",
    "└── test/\n",
    "    ├── dent/\n",
    "    └── crack/\n",
    "\n",
    "```\n",
    "\n"
   ]
  },
  {
   "cell_type": "code",
   "execution_count": 7,
   "id": "1d931d76-5f78-4dd1-aaa8-6ec9c0ba1219",
   "metadata": {},
   "outputs": [],
   "source": [
    "# Define directories for train, test, and validation splits\n",
    "extract_path = \"aircraft_damage_dataset_v1\"\n",
    "train_dir = os.path.join(extract_path, 'train')\n",
    "test_dir = os.path.join(extract_path, 'test')\n",
    "valid_dir = os.path.join(extract_path, 'valid')"
   ]
  },
  {
   "cell_type": "markdown",
   "id": "8d2e6f35-a2ba-4716-8ffe-e8965c31df98",
   "metadata": {},
   "source": [
    "## 1.2 Data Preprocessing\n",
    "\n",
    "Create data generators for training, validation, and testing datasets.\n",
    "\n",
    "First,we will create ImageDataGenerators used for training, validation and testing.\n",
    "The ImageDataGenerator class is part of Keras. It is a powerful utility for real-time image data augmentation, preprocessing, and feeding data into deep learning models during training. This class is particularly useful when working with image datasets that are too large to fit into memory all at once, or when you want to augment your dataset  to improve model generalization. \n",
    "\n",
    "We will create instances of the ImageDataGenerator class. Each instance corresponds to one of the datasets: training, validation, and testing.\n"
   ]
  },
  {
   "cell_type": "code",
   "execution_count": 8,
   "id": "bdb8eb4c-8ec0-4dca-bbb0-27846f005e15",
   "metadata": {},
   "outputs": [],
   "source": [
    "# Create ImageDataGenerators to preprocess the data\n",
    "train_datagen = ImageDataGenerator(rescale=1./255)\n",
    "valid_datagen = ImageDataGenerator(rescale=1./255)\n",
    "test_datagen = ImageDataGenerator(rescale=1./255)"
   ]
  },
  {
   "cell_type": "markdown",
   "id": "b951e3e5-1104-402e-b954-25c53ceb3f12",
   "metadata": {},
   "source": [
    "Next, we use flow_from_directory() method to load the images from directory and generate the training dataset. The flow_from_directory() method is part of the ImageDataGenerator class in Keras, and it plays a crucial role in automating the process of loading, preprocessing, and batching images for training, validation, and testing.\n",
    "We use the train_datagen object to load and preprocess the training images. Specifically, the flow_from_directory() function is used to read images directly from the directory and generate batches of data that will be fed into the model for training.\n"
   ]
  },
  {
   "cell_type": "code",
   "execution_count": 9,
   "id": "deb9eba3-f4cf-408a-83f2-0557d890c85b",
   "metadata": {},
   "outputs": [
    {
     "name": "stdout",
     "output_type": "stream",
     "text": [
      "Found 300 images belonging to 2 classes.\n"
     ]
    }
   ],
   "source": [
    "train_generator = train_datagen.flow_from_directory(\n",
    "    train_dir,\n",
    "    target_size=(img_rows, img_cols),   # Resize images to the size VGG16 expects\n",
    "    batch_size=batch_size,\n",
    "    seed = seed_value,\n",
    "    class_mode='binary',\n",
    "    shuffle=True # Binary classification: dent vs crack\n",
    ")"
   ]
  },
  {
   "cell_type": "markdown",
   "id": "9eb4df51-0e7a-4a61-bac6-a88c14fb4ac1",
   "metadata": {},
   "source": [
    "## **Task 1: Create a `valid_generator` using the `valid_datagen` object**\n",
    "\n",
    "\n",
    "Please use the following parameters:\n",
    "\n",
    "*   **directory** should be set to `valid_dir`.\n",
    "*   **class_mode** should be set to `'binary'`.\n",
    "*   **seed** should be set to `seed_value`.\n",
    "*   **batch_size** should be set to `batch_size`.\n",
    "*   **shuffle** should be set to `False`.\n",
    "*   **target_size** should be set to `(img_rows, img_cols)`.\n",
    "\n",
    "Hint: the format should be like:\n",
    "\n",
    "```python\n",
    "valid_generator =  valid_datagen.flow_from_directory(\n",
    "    directory=,\n",
    "    class_mode=,\n",
    "    seed=,\n",
    "    batch_size=,\n",
    "    shuffle=,\n",
    "    target_size=\n",
    ")\n",
    "```\n",
    "**Note: Please copy and save the code of the task as it will be required for submission in the final project. Ensure to submit the response as part of your project submission**\n"
   ]
  },
  {
   "cell_type": "code",
   "execution_count": 10,
   "id": "c669ff97-1604-4412-8cdb-2bab25096dac",
   "metadata": {},
   "outputs": [
    {
     "name": "stdout",
     "output_type": "stream",
     "text": [
      "Found 96 images belonging to 2 classes.\n"
     ]
    }
   ],
   "source": [
    "#Write your code here\n",
    "valid_generator = valid_datagen.flow_from_directory(\n",
    "    directory=valid_dir,\n",
    "    class_mode='binary',\n",
    "    seed = seed_value,\n",
    "    batch_size=batch_size,\n",
    "    shuffle=False,\n",
    "    target_size=(img_rows, img_cols)\n",
    ")"
   ]
  },
  {
   "cell_type": "markdown",
   "id": "12688259-711b-483e-902b-8ef24eb646bd",
   "metadata": {},
   "source": [
    "## **Task 2: Create a `test_generator` using the `test_datagen` object**\n",
    "\n",
    "Please use the following parameters:\n",
    "\n",
    "*   **directory** should be set to `test_dir`.\n",
    "*   **class_mode** should be set to `'binary'`.\n",
    "*   **seed** should be set to `seed_value`.\n",
    "*   **batch_size** should be set to `batch_size`.\n",
    "*   **shuffle** should be set to `False`.\n",
    "*   **target_size** should be set to `(img_rows, img_cols)`.\n",
    "\n",
    "Hint: The format should be like:\n",
    "\n",
    "```python\n",
    "test_generator = test_datagen.flow_from_directory(\n",
    "    directory=,\n",
    "    class_mode=,\n",
    "    seed=,\n",
    "    batch_size=,\n",
    "    shuffle=,\n",
    "    target_size=\n",
    ")\n",
    "```\n",
    "**Note: Please copy and save the code of the task as it will be required for submission in the final project. Ensure to submit the response as part of your project submission**\n"
   ]
  },
  {
   "cell_type": "code",
   "execution_count": 11,
   "id": "26b5607a-d6c8-441b-9bfa-49b198b40599",
   "metadata": {},
   "outputs": [
    {
     "name": "stdout",
     "output_type": "stream",
     "text": [
      "Found 50 images belonging to 2 classes.\n"
     ]
    }
   ],
   "source": [
    "#Write your code here\n",
    "test_generator = test_datagen.flow_from_directory(\n",
    "    directory=test_dir,\n",
    "    class_mode='binary',\n",
    "    seed = seed_value,\n",
    "    batch_size=batch_size,\n",
    "    shuffle=False,\n",
    "    target_size=(img_rows, img_cols)\n",
    ")"
   ]
  },
  {
   "cell_type": "markdown",
   "id": "f1ebb5a9-ff79-4438-a93c-8c2199a0f5df",
   "metadata": {},
   "source": [
    "## 1.3 Model Definition\n",
    "\n",
    "Here, we define the model architecture by using a pre-trained VGG16 model as the base, adding custom layers on top for binary classification of 'dent' and 'crack' types of damage.\n"
   ]
  },
  {
   "cell_type": "markdown",
   "id": "7a222bc8-6577-4cf6-9916-eb595d0b88ef",
   "metadata": {},
   "source": [
    "## **Task 3: Load the pre-trained model VGG16**\n",
    "\n",
    "Set <code>weights='imagenet'</code>,<code>include_top=False</code>,<code>input_shape=(img_rows, img_cols, 3)</code>\n",
    "\n",
    "Hint: The format should be like:\n",
    "\n",
    "base_model = VGG16(weights= , include_top= , input_shape=)\n",
    "\n",
    "****Note: Please copy and save the code of the task as it will be required for submission in the final project. Ensure to submit the response as part of your project submission****\n"
   ]
  },
  {
   "cell_type": "code",
   "execution_count": 19,
   "id": "54a3b4dd-1bd2-4d28-a76e-41a36fb4bd5c",
   "metadata": {},
   "outputs": [
    {
     "data": {
      "text/html": [
       "<pre style=\"white-space:pre;overflow-x:auto;line-height:normal;font-family:Menlo,'DejaVu Sans Mono',consolas,'Courier New',monospace\"><span style=\"font-weight: bold\">Model: \"vgg16\"</span>\n",
       "</pre>\n"
      ],
      "text/plain": [
       "\u001b[1mModel: \"vgg16\"\u001b[0m\n"
      ]
     },
     "metadata": {},
     "output_type": "display_data"
    },
    {
     "data": {
      "text/html": [
       "<pre style=\"white-space:pre;overflow-x:auto;line-height:normal;font-family:Menlo,'DejaVu Sans Mono',consolas,'Courier New',monospace\">┏━━━━━━━━━━━━━━━━━━━━━━━━━━━━━━━━━┳━━━━━━━━━━━━━━━━━━━━━━━━┳━━━━━━━━━━━━━━━┓\n",
       "┃<span style=\"font-weight: bold\"> Layer (type)                    </span>┃<span style=\"font-weight: bold\"> Output Shape           </span>┃<span style=\"font-weight: bold\">       Param # </span>┃\n",
       "┡━━━━━━━━━━━━━━━━━━━━━━━━━━━━━━━━━╇━━━━━━━━━━━━━━━━━━━━━━━━╇━━━━━━━━━━━━━━━┩\n",
       "│ input_layer_3 (<span style=\"color: #0087ff; text-decoration-color: #0087ff\">InputLayer</span>)      │ (<span style=\"color: #00d7ff; text-decoration-color: #00d7ff\">None</span>, <span style=\"color: #00af00; text-decoration-color: #00af00\">224</span>, <span style=\"color: #00af00; text-decoration-color: #00af00\">224</span>, <span style=\"color: #00af00; text-decoration-color: #00af00\">3</span>)    │             <span style=\"color: #00af00; text-decoration-color: #00af00\">0</span> │\n",
       "├─────────────────────────────────┼────────────────────────┼───────────────┤\n",
       "│ block1_conv1 (<span style=\"color: #0087ff; text-decoration-color: #0087ff\">Conv2D</span>)           │ (<span style=\"color: #00d7ff; text-decoration-color: #00d7ff\">None</span>, <span style=\"color: #00af00; text-decoration-color: #00af00\">224</span>, <span style=\"color: #00af00; text-decoration-color: #00af00\">224</span>, <span style=\"color: #00af00; text-decoration-color: #00af00\">64</span>)   │         <span style=\"color: #00af00; text-decoration-color: #00af00\">1,792</span> │\n",
       "├─────────────────────────────────┼────────────────────────┼───────────────┤\n",
       "│ block1_conv2 (<span style=\"color: #0087ff; text-decoration-color: #0087ff\">Conv2D</span>)           │ (<span style=\"color: #00d7ff; text-decoration-color: #00d7ff\">None</span>, <span style=\"color: #00af00; text-decoration-color: #00af00\">224</span>, <span style=\"color: #00af00; text-decoration-color: #00af00\">224</span>, <span style=\"color: #00af00; text-decoration-color: #00af00\">64</span>)   │        <span style=\"color: #00af00; text-decoration-color: #00af00\">36,928</span> │\n",
       "├─────────────────────────────────┼────────────────────────┼───────────────┤\n",
       "│ block1_pool (<span style=\"color: #0087ff; text-decoration-color: #0087ff\">MaxPooling2D</span>)      │ (<span style=\"color: #00d7ff; text-decoration-color: #00d7ff\">None</span>, <span style=\"color: #00af00; text-decoration-color: #00af00\">112</span>, <span style=\"color: #00af00; text-decoration-color: #00af00\">112</span>, <span style=\"color: #00af00; text-decoration-color: #00af00\">64</span>)   │             <span style=\"color: #00af00; text-decoration-color: #00af00\">0</span> │\n",
       "├─────────────────────────────────┼────────────────────────┼───────────────┤\n",
       "│ block2_conv1 (<span style=\"color: #0087ff; text-decoration-color: #0087ff\">Conv2D</span>)           │ (<span style=\"color: #00d7ff; text-decoration-color: #00d7ff\">None</span>, <span style=\"color: #00af00; text-decoration-color: #00af00\">112</span>, <span style=\"color: #00af00; text-decoration-color: #00af00\">112</span>, <span style=\"color: #00af00; text-decoration-color: #00af00\">128</span>)  │        <span style=\"color: #00af00; text-decoration-color: #00af00\">73,856</span> │\n",
       "├─────────────────────────────────┼────────────────────────┼───────────────┤\n",
       "│ block2_conv2 (<span style=\"color: #0087ff; text-decoration-color: #0087ff\">Conv2D</span>)           │ (<span style=\"color: #00d7ff; text-decoration-color: #00d7ff\">None</span>, <span style=\"color: #00af00; text-decoration-color: #00af00\">112</span>, <span style=\"color: #00af00; text-decoration-color: #00af00\">112</span>, <span style=\"color: #00af00; text-decoration-color: #00af00\">128</span>)  │       <span style=\"color: #00af00; text-decoration-color: #00af00\">147,584</span> │\n",
       "├─────────────────────────────────┼────────────────────────┼───────────────┤\n",
       "│ block2_pool (<span style=\"color: #0087ff; text-decoration-color: #0087ff\">MaxPooling2D</span>)      │ (<span style=\"color: #00d7ff; text-decoration-color: #00d7ff\">None</span>, <span style=\"color: #00af00; text-decoration-color: #00af00\">56</span>, <span style=\"color: #00af00; text-decoration-color: #00af00\">56</span>, <span style=\"color: #00af00; text-decoration-color: #00af00\">128</span>)    │             <span style=\"color: #00af00; text-decoration-color: #00af00\">0</span> │\n",
       "├─────────────────────────────────┼────────────────────────┼───────────────┤\n",
       "│ block3_conv1 (<span style=\"color: #0087ff; text-decoration-color: #0087ff\">Conv2D</span>)           │ (<span style=\"color: #00d7ff; text-decoration-color: #00d7ff\">None</span>, <span style=\"color: #00af00; text-decoration-color: #00af00\">56</span>, <span style=\"color: #00af00; text-decoration-color: #00af00\">56</span>, <span style=\"color: #00af00; text-decoration-color: #00af00\">256</span>)    │       <span style=\"color: #00af00; text-decoration-color: #00af00\">295,168</span> │\n",
       "├─────────────────────────────────┼────────────────────────┼───────────────┤\n",
       "│ block3_conv2 (<span style=\"color: #0087ff; text-decoration-color: #0087ff\">Conv2D</span>)           │ (<span style=\"color: #00d7ff; text-decoration-color: #00d7ff\">None</span>, <span style=\"color: #00af00; text-decoration-color: #00af00\">56</span>, <span style=\"color: #00af00; text-decoration-color: #00af00\">56</span>, <span style=\"color: #00af00; text-decoration-color: #00af00\">256</span>)    │       <span style=\"color: #00af00; text-decoration-color: #00af00\">590,080</span> │\n",
       "├─────────────────────────────────┼────────────────────────┼───────────────┤\n",
       "│ block3_conv3 (<span style=\"color: #0087ff; text-decoration-color: #0087ff\">Conv2D</span>)           │ (<span style=\"color: #00d7ff; text-decoration-color: #00d7ff\">None</span>, <span style=\"color: #00af00; text-decoration-color: #00af00\">56</span>, <span style=\"color: #00af00; text-decoration-color: #00af00\">56</span>, <span style=\"color: #00af00; text-decoration-color: #00af00\">256</span>)    │       <span style=\"color: #00af00; text-decoration-color: #00af00\">590,080</span> │\n",
       "├─────────────────────────────────┼────────────────────────┼───────────────┤\n",
       "│ block3_pool (<span style=\"color: #0087ff; text-decoration-color: #0087ff\">MaxPooling2D</span>)      │ (<span style=\"color: #00d7ff; text-decoration-color: #00d7ff\">None</span>, <span style=\"color: #00af00; text-decoration-color: #00af00\">28</span>, <span style=\"color: #00af00; text-decoration-color: #00af00\">28</span>, <span style=\"color: #00af00; text-decoration-color: #00af00\">256</span>)    │             <span style=\"color: #00af00; text-decoration-color: #00af00\">0</span> │\n",
       "├─────────────────────────────────┼────────────────────────┼───────────────┤\n",
       "│ block4_conv1 (<span style=\"color: #0087ff; text-decoration-color: #0087ff\">Conv2D</span>)           │ (<span style=\"color: #00d7ff; text-decoration-color: #00d7ff\">None</span>, <span style=\"color: #00af00; text-decoration-color: #00af00\">28</span>, <span style=\"color: #00af00; text-decoration-color: #00af00\">28</span>, <span style=\"color: #00af00; text-decoration-color: #00af00\">512</span>)    │     <span style=\"color: #00af00; text-decoration-color: #00af00\">1,180,160</span> │\n",
       "├─────────────────────────────────┼────────────────────────┼───────────────┤\n",
       "│ block4_conv2 (<span style=\"color: #0087ff; text-decoration-color: #0087ff\">Conv2D</span>)           │ (<span style=\"color: #00d7ff; text-decoration-color: #00d7ff\">None</span>, <span style=\"color: #00af00; text-decoration-color: #00af00\">28</span>, <span style=\"color: #00af00; text-decoration-color: #00af00\">28</span>, <span style=\"color: #00af00; text-decoration-color: #00af00\">512</span>)    │     <span style=\"color: #00af00; text-decoration-color: #00af00\">2,359,808</span> │\n",
       "├─────────────────────────────────┼────────────────────────┼───────────────┤\n",
       "│ block4_conv3 (<span style=\"color: #0087ff; text-decoration-color: #0087ff\">Conv2D</span>)           │ (<span style=\"color: #00d7ff; text-decoration-color: #00d7ff\">None</span>, <span style=\"color: #00af00; text-decoration-color: #00af00\">28</span>, <span style=\"color: #00af00; text-decoration-color: #00af00\">28</span>, <span style=\"color: #00af00; text-decoration-color: #00af00\">512</span>)    │     <span style=\"color: #00af00; text-decoration-color: #00af00\">2,359,808</span> │\n",
       "├─────────────────────────────────┼────────────────────────┼───────────────┤\n",
       "│ block4_pool (<span style=\"color: #0087ff; text-decoration-color: #0087ff\">MaxPooling2D</span>)      │ (<span style=\"color: #00d7ff; text-decoration-color: #00d7ff\">None</span>, <span style=\"color: #00af00; text-decoration-color: #00af00\">14</span>, <span style=\"color: #00af00; text-decoration-color: #00af00\">14</span>, <span style=\"color: #00af00; text-decoration-color: #00af00\">512</span>)    │             <span style=\"color: #00af00; text-decoration-color: #00af00\">0</span> │\n",
       "├─────────────────────────────────┼────────────────────────┼───────────────┤\n",
       "│ block5_conv1 (<span style=\"color: #0087ff; text-decoration-color: #0087ff\">Conv2D</span>)           │ (<span style=\"color: #00d7ff; text-decoration-color: #00d7ff\">None</span>, <span style=\"color: #00af00; text-decoration-color: #00af00\">14</span>, <span style=\"color: #00af00; text-decoration-color: #00af00\">14</span>, <span style=\"color: #00af00; text-decoration-color: #00af00\">512</span>)    │     <span style=\"color: #00af00; text-decoration-color: #00af00\">2,359,808</span> │\n",
       "├─────────────────────────────────┼────────────────────────┼───────────────┤\n",
       "│ block5_conv2 (<span style=\"color: #0087ff; text-decoration-color: #0087ff\">Conv2D</span>)           │ (<span style=\"color: #00d7ff; text-decoration-color: #00d7ff\">None</span>, <span style=\"color: #00af00; text-decoration-color: #00af00\">14</span>, <span style=\"color: #00af00; text-decoration-color: #00af00\">14</span>, <span style=\"color: #00af00; text-decoration-color: #00af00\">512</span>)    │     <span style=\"color: #00af00; text-decoration-color: #00af00\">2,359,808</span> │\n",
       "├─────────────────────────────────┼────────────────────────┼───────────────┤\n",
       "│ block5_conv3 (<span style=\"color: #0087ff; text-decoration-color: #0087ff\">Conv2D</span>)           │ (<span style=\"color: #00d7ff; text-decoration-color: #00d7ff\">None</span>, <span style=\"color: #00af00; text-decoration-color: #00af00\">14</span>, <span style=\"color: #00af00; text-decoration-color: #00af00\">14</span>, <span style=\"color: #00af00; text-decoration-color: #00af00\">512</span>)    │     <span style=\"color: #00af00; text-decoration-color: #00af00\">2,359,808</span> │\n",
       "├─────────────────────────────────┼────────────────────────┼───────────────┤\n",
       "│ block5_pool (<span style=\"color: #0087ff; text-decoration-color: #0087ff\">MaxPooling2D</span>)      │ (<span style=\"color: #00d7ff; text-decoration-color: #00d7ff\">None</span>, <span style=\"color: #00af00; text-decoration-color: #00af00\">7</span>, <span style=\"color: #00af00; text-decoration-color: #00af00\">7</span>, <span style=\"color: #00af00; text-decoration-color: #00af00\">512</span>)      │             <span style=\"color: #00af00; text-decoration-color: #00af00\">0</span> │\n",
       "└─────────────────────────────────┴────────────────────────┴───────────────┘\n",
       "</pre>\n"
      ],
      "text/plain": [
       "┏━━━━━━━━━━━━━━━━━━━━━━━━━━━━━━━━━┳━━━━━━━━━━━━━━━━━━━━━━━━┳━━━━━━━━━━━━━━━┓\n",
       "┃\u001b[1m \u001b[0m\u001b[1mLayer (type)                   \u001b[0m\u001b[1m \u001b[0m┃\u001b[1m \u001b[0m\u001b[1mOutput Shape          \u001b[0m\u001b[1m \u001b[0m┃\u001b[1m \u001b[0m\u001b[1m      Param #\u001b[0m\u001b[1m \u001b[0m┃\n",
       "┡━━━━━━━━━━━━━━━━━━━━━━━━━━━━━━━━━╇━━━━━━━━━━━━━━━━━━━━━━━━╇━━━━━━━━━━━━━━━┩\n",
       "│ input_layer_3 (\u001b[38;5;33mInputLayer\u001b[0m)      │ (\u001b[38;5;45mNone\u001b[0m, \u001b[38;5;34m224\u001b[0m, \u001b[38;5;34m224\u001b[0m, \u001b[38;5;34m3\u001b[0m)    │             \u001b[38;5;34m0\u001b[0m │\n",
       "├─────────────────────────────────┼────────────────────────┼───────────────┤\n",
       "│ block1_conv1 (\u001b[38;5;33mConv2D\u001b[0m)           │ (\u001b[38;5;45mNone\u001b[0m, \u001b[38;5;34m224\u001b[0m, \u001b[38;5;34m224\u001b[0m, \u001b[38;5;34m64\u001b[0m)   │         \u001b[38;5;34m1,792\u001b[0m │\n",
       "├─────────────────────────────────┼────────────────────────┼───────────────┤\n",
       "│ block1_conv2 (\u001b[38;5;33mConv2D\u001b[0m)           │ (\u001b[38;5;45mNone\u001b[0m, \u001b[38;5;34m224\u001b[0m, \u001b[38;5;34m224\u001b[0m, \u001b[38;5;34m64\u001b[0m)   │        \u001b[38;5;34m36,928\u001b[0m │\n",
       "├─────────────────────────────────┼────────────────────────┼───────────────┤\n",
       "│ block1_pool (\u001b[38;5;33mMaxPooling2D\u001b[0m)      │ (\u001b[38;5;45mNone\u001b[0m, \u001b[38;5;34m112\u001b[0m, \u001b[38;5;34m112\u001b[0m, \u001b[38;5;34m64\u001b[0m)   │             \u001b[38;5;34m0\u001b[0m │\n",
       "├─────────────────────────────────┼────────────────────────┼───────────────┤\n",
       "│ block2_conv1 (\u001b[38;5;33mConv2D\u001b[0m)           │ (\u001b[38;5;45mNone\u001b[0m, \u001b[38;5;34m112\u001b[0m, \u001b[38;5;34m112\u001b[0m, \u001b[38;5;34m128\u001b[0m)  │        \u001b[38;5;34m73,856\u001b[0m │\n",
       "├─────────────────────────────────┼────────────────────────┼───────────────┤\n",
       "│ block2_conv2 (\u001b[38;5;33mConv2D\u001b[0m)           │ (\u001b[38;5;45mNone\u001b[0m, \u001b[38;5;34m112\u001b[0m, \u001b[38;5;34m112\u001b[0m, \u001b[38;5;34m128\u001b[0m)  │       \u001b[38;5;34m147,584\u001b[0m │\n",
       "├─────────────────────────────────┼────────────────────────┼───────────────┤\n",
       "│ block2_pool (\u001b[38;5;33mMaxPooling2D\u001b[0m)      │ (\u001b[38;5;45mNone\u001b[0m, \u001b[38;5;34m56\u001b[0m, \u001b[38;5;34m56\u001b[0m, \u001b[38;5;34m128\u001b[0m)    │             \u001b[38;5;34m0\u001b[0m │\n",
       "├─────────────────────────────────┼────────────────────────┼───────────────┤\n",
       "│ block3_conv1 (\u001b[38;5;33mConv2D\u001b[0m)           │ (\u001b[38;5;45mNone\u001b[0m, \u001b[38;5;34m56\u001b[0m, \u001b[38;5;34m56\u001b[0m, \u001b[38;5;34m256\u001b[0m)    │       \u001b[38;5;34m295,168\u001b[0m │\n",
       "├─────────────────────────────────┼────────────────────────┼───────────────┤\n",
       "│ block3_conv2 (\u001b[38;5;33mConv2D\u001b[0m)           │ (\u001b[38;5;45mNone\u001b[0m, \u001b[38;5;34m56\u001b[0m, \u001b[38;5;34m56\u001b[0m, \u001b[38;5;34m256\u001b[0m)    │       \u001b[38;5;34m590,080\u001b[0m │\n",
       "├─────────────────────────────────┼────────────────────────┼───────────────┤\n",
       "│ block3_conv3 (\u001b[38;5;33mConv2D\u001b[0m)           │ (\u001b[38;5;45mNone\u001b[0m, \u001b[38;5;34m56\u001b[0m, \u001b[38;5;34m56\u001b[0m, \u001b[38;5;34m256\u001b[0m)    │       \u001b[38;5;34m590,080\u001b[0m │\n",
       "├─────────────────────────────────┼────────────────────────┼───────────────┤\n",
       "│ block3_pool (\u001b[38;5;33mMaxPooling2D\u001b[0m)      │ (\u001b[38;5;45mNone\u001b[0m, \u001b[38;5;34m28\u001b[0m, \u001b[38;5;34m28\u001b[0m, \u001b[38;5;34m256\u001b[0m)    │             \u001b[38;5;34m0\u001b[0m │\n",
       "├─────────────────────────────────┼────────────────────────┼───────────────┤\n",
       "│ block4_conv1 (\u001b[38;5;33mConv2D\u001b[0m)           │ (\u001b[38;5;45mNone\u001b[0m, \u001b[38;5;34m28\u001b[0m, \u001b[38;5;34m28\u001b[0m, \u001b[38;5;34m512\u001b[0m)    │     \u001b[38;5;34m1,180,160\u001b[0m │\n",
       "├─────────────────────────────────┼────────────────────────┼───────────────┤\n",
       "│ block4_conv2 (\u001b[38;5;33mConv2D\u001b[0m)           │ (\u001b[38;5;45mNone\u001b[0m, \u001b[38;5;34m28\u001b[0m, \u001b[38;5;34m28\u001b[0m, \u001b[38;5;34m512\u001b[0m)    │     \u001b[38;5;34m2,359,808\u001b[0m │\n",
       "├─────────────────────────────────┼────────────────────────┼───────────────┤\n",
       "│ block4_conv3 (\u001b[38;5;33mConv2D\u001b[0m)           │ (\u001b[38;5;45mNone\u001b[0m, \u001b[38;5;34m28\u001b[0m, \u001b[38;5;34m28\u001b[0m, \u001b[38;5;34m512\u001b[0m)    │     \u001b[38;5;34m2,359,808\u001b[0m │\n",
       "├─────────────────────────────────┼────────────────────────┼───────────────┤\n",
       "│ block4_pool (\u001b[38;5;33mMaxPooling2D\u001b[0m)      │ (\u001b[38;5;45mNone\u001b[0m, \u001b[38;5;34m14\u001b[0m, \u001b[38;5;34m14\u001b[0m, \u001b[38;5;34m512\u001b[0m)    │             \u001b[38;5;34m0\u001b[0m │\n",
       "├─────────────────────────────────┼────────────────────────┼───────────────┤\n",
       "│ block5_conv1 (\u001b[38;5;33mConv2D\u001b[0m)           │ (\u001b[38;5;45mNone\u001b[0m, \u001b[38;5;34m14\u001b[0m, \u001b[38;5;34m14\u001b[0m, \u001b[38;5;34m512\u001b[0m)    │     \u001b[38;5;34m2,359,808\u001b[0m │\n",
       "├─────────────────────────────────┼────────────────────────┼───────────────┤\n",
       "│ block5_conv2 (\u001b[38;5;33mConv2D\u001b[0m)           │ (\u001b[38;5;45mNone\u001b[0m, \u001b[38;5;34m14\u001b[0m, \u001b[38;5;34m14\u001b[0m, \u001b[38;5;34m512\u001b[0m)    │     \u001b[38;5;34m2,359,808\u001b[0m │\n",
       "├─────────────────────────────────┼────────────────────────┼───────────────┤\n",
       "│ block5_conv3 (\u001b[38;5;33mConv2D\u001b[0m)           │ (\u001b[38;5;45mNone\u001b[0m, \u001b[38;5;34m14\u001b[0m, \u001b[38;5;34m14\u001b[0m, \u001b[38;5;34m512\u001b[0m)    │     \u001b[38;5;34m2,359,808\u001b[0m │\n",
       "├─────────────────────────────────┼────────────────────────┼───────────────┤\n",
       "│ block5_pool (\u001b[38;5;33mMaxPooling2D\u001b[0m)      │ (\u001b[38;5;45mNone\u001b[0m, \u001b[38;5;34m7\u001b[0m, \u001b[38;5;34m7\u001b[0m, \u001b[38;5;34m512\u001b[0m)      │             \u001b[38;5;34m0\u001b[0m │\n",
       "└─────────────────────────────────┴────────────────────────┴───────────────┘\n"
      ]
     },
     "metadata": {},
     "output_type": "display_data"
    },
    {
     "data": {
      "text/html": [
       "<pre style=\"white-space:pre;overflow-x:auto;line-height:normal;font-family:Menlo,'DejaVu Sans Mono',consolas,'Courier New',monospace\"><span style=\"font-weight: bold\"> Total params: </span><span style=\"color: #00af00; text-decoration-color: #00af00\">14,714,688</span> (56.13 MB)\n",
       "</pre>\n"
      ],
      "text/plain": [
       "\u001b[1m Total params: \u001b[0m\u001b[38;5;34m14,714,688\u001b[0m (56.13 MB)\n"
      ]
     },
     "metadata": {},
     "output_type": "display_data"
    },
    {
     "data": {
      "text/html": [
       "<pre style=\"white-space:pre;overflow-x:auto;line-height:normal;font-family:Menlo,'DejaVu Sans Mono',consolas,'Courier New',monospace\"><span style=\"font-weight: bold\"> Trainable params: </span><span style=\"color: #00af00; text-decoration-color: #00af00\">14,714,688</span> (56.13 MB)\n",
       "</pre>\n"
      ],
      "text/plain": [
       "\u001b[1m Trainable params: \u001b[0m\u001b[38;5;34m14,714,688\u001b[0m (56.13 MB)\n"
      ]
     },
     "metadata": {},
     "output_type": "display_data"
    },
    {
     "data": {
      "text/html": [
       "<pre style=\"white-space:pre;overflow-x:auto;line-height:normal;font-family:Menlo,'DejaVu Sans Mono',consolas,'Courier New',monospace\"><span style=\"font-weight: bold\"> Non-trainable params: </span><span style=\"color: #00af00; text-decoration-color: #00af00\">0</span> (0.00 B)\n",
       "</pre>\n"
      ],
      "text/plain": [
       "\u001b[1m Non-trainable params: \u001b[0m\u001b[38;5;34m0\u001b[0m (0.00 B)\n"
      ]
     },
     "metadata": {},
     "output_type": "display_data"
    },
    {
     "name": "stdout",
     "output_type": "stream",
     "text": [
      "None\n"
     ]
    }
   ],
   "source": [
    "#Write your code here\n",
    "base_model = VGG16(weights='imagenet', include_top=False, input_shape=(img_rows, img_cols, 3))\n",
    "print(base_model.summary())"
   ]
  },
  {
   "cell_type": "markdown",
   "id": "97c1cb80-6954-4445-8670-9d106bdcd425",
   "metadata": {},
   "source": [
    "Now, we modify the VGG16 model for our specific classification task. We extract the output from the last layer of the pre-trained VGG16 model, and then create a new model with this modified output. Then we will freeze the base VGG16 model layers so that their weights will not be updated during training.\n"
   ]
  },
  {
   "cell_type": "code",
   "execution_count": 20,
   "id": "8a6b0c9e-c584-4ed8-90c3-ad57e3f2bb96",
   "metadata": {},
   "outputs": [
    {
     "name": "stdout",
     "output_type": "stream",
     "text": [
      "(None, 7, 7, 512)\n",
      "(None, 25088)\n"
     ]
    },
    {
     "data": {
      "text/html": [
       "<pre style=\"white-space:pre;overflow-x:auto;line-height:normal;font-family:Menlo,'DejaVu Sans Mono',consolas,'Courier New',monospace\"><span style=\"font-weight: bold\">Model: \"functional_4\"</span>\n",
       "</pre>\n"
      ],
      "text/plain": [
       "\u001b[1mModel: \"functional_4\"\u001b[0m\n"
      ]
     },
     "metadata": {},
     "output_type": "display_data"
    },
    {
     "data": {
      "text/html": [
       "<pre style=\"white-space:pre;overflow-x:auto;line-height:normal;font-family:Menlo,'DejaVu Sans Mono',consolas,'Courier New',monospace\">┏━━━━━━━━━━━━━━━━━━━━━━━━━━━━━━━━━┳━━━━━━━━━━━━━━━━━━━━━━━━┳━━━━━━━━━━━━━━━┓\n",
       "┃<span style=\"font-weight: bold\"> Layer (type)                    </span>┃<span style=\"font-weight: bold\"> Output Shape           </span>┃<span style=\"font-weight: bold\">       Param # </span>┃\n",
       "┡━━━━━━━━━━━━━━━━━━━━━━━━━━━━━━━━━╇━━━━━━━━━━━━━━━━━━━━━━━━╇━━━━━━━━━━━━━━━┩\n",
       "│ input_layer_3 (<span style=\"color: #0087ff; text-decoration-color: #0087ff\">InputLayer</span>)      │ (<span style=\"color: #00d7ff; text-decoration-color: #00d7ff\">None</span>, <span style=\"color: #00af00; text-decoration-color: #00af00\">224</span>, <span style=\"color: #00af00; text-decoration-color: #00af00\">224</span>, <span style=\"color: #00af00; text-decoration-color: #00af00\">3</span>)    │             <span style=\"color: #00af00; text-decoration-color: #00af00\">0</span> │\n",
       "├─────────────────────────────────┼────────────────────────┼───────────────┤\n",
       "│ block1_conv1 (<span style=\"color: #0087ff; text-decoration-color: #0087ff\">Conv2D</span>)           │ (<span style=\"color: #00d7ff; text-decoration-color: #00d7ff\">None</span>, <span style=\"color: #00af00; text-decoration-color: #00af00\">224</span>, <span style=\"color: #00af00; text-decoration-color: #00af00\">224</span>, <span style=\"color: #00af00; text-decoration-color: #00af00\">64</span>)   │         <span style=\"color: #00af00; text-decoration-color: #00af00\">1,792</span> │\n",
       "├─────────────────────────────────┼────────────────────────┼───────────────┤\n",
       "│ block1_conv2 (<span style=\"color: #0087ff; text-decoration-color: #0087ff\">Conv2D</span>)           │ (<span style=\"color: #00d7ff; text-decoration-color: #00d7ff\">None</span>, <span style=\"color: #00af00; text-decoration-color: #00af00\">224</span>, <span style=\"color: #00af00; text-decoration-color: #00af00\">224</span>, <span style=\"color: #00af00; text-decoration-color: #00af00\">64</span>)   │        <span style=\"color: #00af00; text-decoration-color: #00af00\">36,928</span> │\n",
       "├─────────────────────────────────┼────────────────────────┼───────────────┤\n",
       "│ block1_pool (<span style=\"color: #0087ff; text-decoration-color: #0087ff\">MaxPooling2D</span>)      │ (<span style=\"color: #00d7ff; text-decoration-color: #00d7ff\">None</span>, <span style=\"color: #00af00; text-decoration-color: #00af00\">112</span>, <span style=\"color: #00af00; text-decoration-color: #00af00\">112</span>, <span style=\"color: #00af00; text-decoration-color: #00af00\">64</span>)   │             <span style=\"color: #00af00; text-decoration-color: #00af00\">0</span> │\n",
       "├─────────────────────────────────┼────────────────────────┼───────────────┤\n",
       "│ block2_conv1 (<span style=\"color: #0087ff; text-decoration-color: #0087ff\">Conv2D</span>)           │ (<span style=\"color: #00d7ff; text-decoration-color: #00d7ff\">None</span>, <span style=\"color: #00af00; text-decoration-color: #00af00\">112</span>, <span style=\"color: #00af00; text-decoration-color: #00af00\">112</span>, <span style=\"color: #00af00; text-decoration-color: #00af00\">128</span>)  │        <span style=\"color: #00af00; text-decoration-color: #00af00\">73,856</span> │\n",
       "├─────────────────────────────────┼────────────────────────┼───────────────┤\n",
       "│ block2_conv2 (<span style=\"color: #0087ff; text-decoration-color: #0087ff\">Conv2D</span>)           │ (<span style=\"color: #00d7ff; text-decoration-color: #00d7ff\">None</span>, <span style=\"color: #00af00; text-decoration-color: #00af00\">112</span>, <span style=\"color: #00af00; text-decoration-color: #00af00\">112</span>, <span style=\"color: #00af00; text-decoration-color: #00af00\">128</span>)  │       <span style=\"color: #00af00; text-decoration-color: #00af00\">147,584</span> │\n",
       "├─────────────────────────────────┼────────────────────────┼───────────────┤\n",
       "│ block2_pool (<span style=\"color: #0087ff; text-decoration-color: #0087ff\">MaxPooling2D</span>)      │ (<span style=\"color: #00d7ff; text-decoration-color: #00d7ff\">None</span>, <span style=\"color: #00af00; text-decoration-color: #00af00\">56</span>, <span style=\"color: #00af00; text-decoration-color: #00af00\">56</span>, <span style=\"color: #00af00; text-decoration-color: #00af00\">128</span>)    │             <span style=\"color: #00af00; text-decoration-color: #00af00\">0</span> │\n",
       "├─────────────────────────────────┼────────────────────────┼───────────────┤\n",
       "│ block3_conv1 (<span style=\"color: #0087ff; text-decoration-color: #0087ff\">Conv2D</span>)           │ (<span style=\"color: #00d7ff; text-decoration-color: #00d7ff\">None</span>, <span style=\"color: #00af00; text-decoration-color: #00af00\">56</span>, <span style=\"color: #00af00; text-decoration-color: #00af00\">56</span>, <span style=\"color: #00af00; text-decoration-color: #00af00\">256</span>)    │       <span style=\"color: #00af00; text-decoration-color: #00af00\">295,168</span> │\n",
       "├─────────────────────────────────┼────────────────────────┼───────────────┤\n",
       "│ block3_conv2 (<span style=\"color: #0087ff; text-decoration-color: #0087ff\">Conv2D</span>)           │ (<span style=\"color: #00d7ff; text-decoration-color: #00d7ff\">None</span>, <span style=\"color: #00af00; text-decoration-color: #00af00\">56</span>, <span style=\"color: #00af00; text-decoration-color: #00af00\">56</span>, <span style=\"color: #00af00; text-decoration-color: #00af00\">256</span>)    │       <span style=\"color: #00af00; text-decoration-color: #00af00\">590,080</span> │\n",
       "├─────────────────────────────────┼────────────────────────┼───────────────┤\n",
       "│ block3_conv3 (<span style=\"color: #0087ff; text-decoration-color: #0087ff\">Conv2D</span>)           │ (<span style=\"color: #00d7ff; text-decoration-color: #00d7ff\">None</span>, <span style=\"color: #00af00; text-decoration-color: #00af00\">56</span>, <span style=\"color: #00af00; text-decoration-color: #00af00\">56</span>, <span style=\"color: #00af00; text-decoration-color: #00af00\">256</span>)    │       <span style=\"color: #00af00; text-decoration-color: #00af00\">590,080</span> │\n",
       "├─────────────────────────────────┼────────────────────────┼───────────────┤\n",
       "│ block3_pool (<span style=\"color: #0087ff; text-decoration-color: #0087ff\">MaxPooling2D</span>)      │ (<span style=\"color: #00d7ff; text-decoration-color: #00d7ff\">None</span>, <span style=\"color: #00af00; text-decoration-color: #00af00\">28</span>, <span style=\"color: #00af00; text-decoration-color: #00af00\">28</span>, <span style=\"color: #00af00; text-decoration-color: #00af00\">256</span>)    │             <span style=\"color: #00af00; text-decoration-color: #00af00\">0</span> │\n",
       "├─────────────────────────────────┼────────────────────────┼───────────────┤\n",
       "│ block4_conv1 (<span style=\"color: #0087ff; text-decoration-color: #0087ff\">Conv2D</span>)           │ (<span style=\"color: #00d7ff; text-decoration-color: #00d7ff\">None</span>, <span style=\"color: #00af00; text-decoration-color: #00af00\">28</span>, <span style=\"color: #00af00; text-decoration-color: #00af00\">28</span>, <span style=\"color: #00af00; text-decoration-color: #00af00\">512</span>)    │     <span style=\"color: #00af00; text-decoration-color: #00af00\">1,180,160</span> │\n",
       "├─────────────────────────────────┼────────────────────────┼───────────────┤\n",
       "│ block4_conv2 (<span style=\"color: #0087ff; text-decoration-color: #0087ff\">Conv2D</span>)           │ (<span style=\"color: #00d7ff; text-decoration-color: #00d7ff\">None</span>, <span style=\"color: #00af00; text-decoration-color: #00af00\">28</span>, <span style=\"color: #00af00; text-decoration-color: #00af00\">28</span>, <span style=\"color: #00af00; text-decoration-color: #00af00\">512</span>)    │     <span style=\"color: #00af00; text-decoration-color: #00af00\">2,359,808</span> │\n",
       "├─────────────────────────────────┼────────────────────────┼───────────────┤\n",
       "│ block4_conv3 (<span style=\"color: #0087ff; text-decoration-color: #0087ff\">Conv2D</span>)           │ (<span style=\"color: #00d7ff; text-decoration-color: #00d7ff\">None</span>, <span style=\"color: #00af00; text-decoration-color: #00af00\">28</span>, <span style=\"color: #00af00; text-decoration-color: #00af00\">28</span>, <span style=\"color: #00af00; text-decoration-color: #00af00\">512</span>)    │     <span style=\"color: #00af00; text-decoration-color: #00af00\">2,359,808</span> │\n",
       "├─────────────────────────────────┼────────────────────────┼───────────────┤\n",
       "│ block4_pool (<span style=\"color: #0087ff; text-decoration-color: #0087ff\">MaxPooling2D</span>)      │ (<span style=\"color: #00d7ff; text-decoration-color: #00d7ff\">None</span>, <span style=\"color: #00af00; text-decoration-color: #00af00\">14</span>, <span style=\"color: #00af00; text-decoration-color: #00af00\">14</span>, <span style=\"color: #00af00; text-decoration-color: #00af00\">512</span>)    │             <span style=\"color: #00af00; text-decoration-color: #00af00\">0</span> │\n",
       "├─────────────────────────────────┼────────────────────────┼───────────────┤\n",
       "│ block5_conv1 (<span style=\"color: #0087ff; text-decoration-color: #0087ff\">Conv2D</span>)           │ (<span style=\"color: #00d7ff; text-decoration-color: #00d7ff\">None</span>, <span style=\"color: #00af00; text-decoration-color: #00af00\">14</span>, <span style=\"color: #00af00; text-decoration-color: #00af00\">14</span>, <span style=\"color: #00af00; text-decoration-color: #00af00\">512</span>)    │     <span style=\"color: #00af00; text-decoration-color: #00af00\">2,359,808</span> │\n",
       "├─────────────────────────────────┼────────────────────────┼───────────────┤\n",
       "│ block5_conv2 (<span style=\"color: #0087ff; text-decoration-color: #0087ff\">Conv2D</span>)           │ (<span style=\"color: #00d7ff; text-decoration-color: #00d7ff\">None</span>, <span style=\"color: #00af00; text-decoration-color: #00af00\">14</span>, <span style=\"color: #00af00; text-decoration-color: #00af00\">14</span>, <span style=\"color: #00af00; text-decoration-color: #00af00\">512</span>)    │     <span style=\"color: #00af00; text-decoration-color: #00af00\">2,359,808</span> │\n",
       "├─────────────────────────────────┼────────────────────────┼───────────────┤\n",
       "│ block5_conv3 (<span style=\"color: #0087ff; text-decoration-color: #0087ff\">Conv2D</span>)           │ (<span style=\"color: #00d7ff; text-decoration-color: #00d7ff\">None</span>, <span style=\"color: #00af00; text-decoration-color: #00af00\">14</span>, <span style=\"color: #00af00; text-decoration-color: #00af00\">14</span>, <span style=\"color: #00af00; text-decoration-color: #00af00\">512</span>)    │     <span style=\"color: #00af00; text-decoration-color: #00af00\">2,359,808</span> │\n",
       "├─────────────────────────────────┼────────────────────────┼───────────────┤\n",
       "│ block5_pool (<span style=\"color: #0087ff; text-decoration-color: #0087ff\">MaxPooling2D</span>)      │ (<span style=\"color: #00d7ff; text-decoration-color: #00d7ff\">None</span>, <span style=\"color: #00af00; text-decoration-color: #00af00\">7</span>, <span style=\"color: #00af00; text-decoration-color: #00af00\">7</span>, <span style=\"color: #00af00; text-decoration-color: #00af00\">512</span>)      │             <span style=\"color: #00af00; text-decoration-color: #00af00\">0</span> │\n",
       "├─────────────────────────────────┼────────────────────────┼───────────────┤\n",
       "│ flatten_4 (<span style=\"color: #0087ff; text-decoration-color: #0087ff\">Flatten</span>)             │ (<span style=\"color: #00d7ff; text-decoration-color: #00d7ff\">None</span>, <span style=\"color: #00af00; text-decoration-color: #00af00\">25088</span>)          │             <span style=\"color: #00af00; text-decoration-color: #00af00\">0</span> │\n",
       "└─────────────────────────────────┴────────────────────────┴───────────────┘\n",
       "</pre>\n"
      ],
      "text/plain": [
       "┏━━━━━━━━━━━━━━━━━━━━━━━━━━━━━━━━━┳━━━━━━━━━━━━━━━━━━━━━━━━┳━━━━━━━━━━━━━━━┓\n",
       "┃\u001b[1m \u001b[0m\u001b[1mLayer (type)                   \u001b[0m\u001b[1m \u001b[0m┃\u001b[1m \u001b[0m\u001b[1mOutput Shape          \u001b[0m\u001b[1m \u001b[0m┃\u001b[1m \u001b[0m\u001b[1m      Param #\u001b[0m\u001b[1m \u001b[0m┃\n",
       "┡━━━━━━━━━━━━━━━━━━━━━━━━━━━━━━━━━╇━━━━━━━━━━━━━━━━━━━━━━━━╇━━━━━━━━━━━━━━━┩\n",
       "│ input_layer_3 (\u001b[38;5;33mInputLayer\u001b[0m)      │ (\u001b[38;5;45mNone\u001b[0m, \u001b[38;5;34m224\u001b[0m, \u001b[38;5;34m224\u001b[0m, \u001b[38;5;34m3\u001b[0m)    │             \u001b[38;5;34m0\u001b[0m │\n",
       "├─────────────────────────────────┼────────────────────────┼───────────────┤\n",
       "│ block1_conv1 (\u001b[38;5;33mConv2D\u001b[0m)           │ (\u001b[38;5;45mNone\u001b[0m, \u001b[38;5;34m224\u001b[0m, \u001b[38;5;34m224\u001b[0m, \u001b[38;5;34m64\u001b[0m)   │         \u001b[38;5;34m1,792\u001b[0m │\n",
       "├─────────────────────────────────┼────────────────────────┼───────────────┤\n",
       "│ block1_conv2 (\u001b[38;5;33mConv2D\u001b[0m)           │ (\u001b[38;5;45mNone\u001b[0m, \u001b[38;5;34m224\u001b[0m, \u001b[38;5;34m224\u001b[0m, \u001b[38;5;34m64\u001b[0m)   │        \u001b[38;5;34m36,928\u001b[0m │\n",
       "├─────────────────────────────────┼────────────────────────┼───────────────┤\n",
       "│ block1_pool (\u001b[38;5;33mMaxPooling2D\u001b[0m)      │ (\u001b[38;5;45mNone\u001b[0m, \u001b[38;5;34m112\u001b[0m, \u001b[38;5;34m112\u001b[0m, \u001b[38;5;34m64\u001b[0m)   │             \u001b[38;5;34m0\u001b[0m │\n",
       "├─────────────────────────────────┼────────────────────────┼───────────────┤\n",
       "│ block2_conv1 (\u001b[38;5;33mConv2D\u001b[0m)           │ (\u001b[38;5;45mNone\u001b[0m, \u001b[38;5;34m112\u001b[0m, \u001b[38;5;34m112\u001b[0m, \u001b[38;5;34m128\u001b[0m)  │        \u001b[38;5;34m73,856\u001b[0m │\n",
       "├─────────────────────────────────┼────────────────────────┼───────────────┤\n",
       "│ block2_conv2 (\u001b[38;5;33mConv2D\u001b[0m)           │ (\u001b[38;5;45mNone\u001b[0m, \u001b[38;5;34m112\u001b[0m, \u001b[38;5;34m112\u001b[0m, \u001b[38;5;34m128\u001b[0m)  │       \u001b[38;5;34m147,584\u001b[0m │\n",
       "├─────────────────────────────────┼────────────────────────┼───────────────┤\n",
       "│ block2_pool (\u001b[38;5;33mMaxPooling2D\u001b[0m)      │ (\u001b[38;5;45mNone\u001b[0m, \u001b[38;5;34m56\u001b[0m, \u001b[38;5;34m56\u001b[0m, \u001b[38;5;34m128\u001b[0m)    │             \u001b[38;5;34m0\u001b[0m │\n",
       "├─────────────────────────────────┼────────────────────────┼───────────────┤\n",
       "│ block3_conv1 (\u001b[38;5;33mConv2D\u001b[0m)           │ (\u001b[38;5;45mNone\u001b[0m, \u001b[38;5;34m56\u001b[0m, \u001b[38;5;34m56\u001b[0m, \u001b[38;5;34m256\u001b[0m)    │       \u001b[38;5;34m295,168\u001b[0m │\n",
       "├─────────────────────────────────┼────────────────────────┼───────────────┤\n",
       "│ block3_conv2 (\u001b[38;5;33mConv2D\u001b[0m)           │ (\u001b[38;5;45mNone\u001b[0m, \u001b[38;5;34m56\u001b[0m, \u001b[38;5;34m56\u001b[0m, \u001b[38;5;34m256\u001b[0m)    │       \u001b[38;5;34m590,080\u001b[0m │\n",
       "├─────────────────────────────────┼────────────────────────┼───────────────┤\n",
       "│ block3_conv3 (\u001b[38;5;33mConv2D\u001b[0m)           │ (\u001b[38;5;45mNone\u001b[0m, \u001b[38;5;34m56\u001b[0m, \u001b[38;5;34m56\u001b[0m, \u001b[38;5;34m256\u001b[0m)    │       \u001b[38;5;34m590,080\u001b[0m │\n",
       "├─────────────────────────────────┼────────────────────────┼───────────────┤\n",
       "│ block3_pool (\u001b[38;5;33mMaxPooling2D\u001b[0m)      │ (\u001b[38;5;45mNone\u001b[0m, \u001b[38;5;34m28\u001b[0m, \u001b[38;5;34m28\u001b[0m, \u001b[38;5;34m256\u001b[0m)    │             \u001b[38;5;34m0\u001b[0m │\n",
       "├─────────────────────────────────┼────────────────────────┼───────────────┤\n",
       "│ block4_conv1 (\u001b[38;5;33mConv2D\u001b[0m)           │ (\u001b[38;5;45mNone\u001b[0m, \u001b[38;5;34m28\u001b[0m, \u001b[38;5;34m28\u001b[0m, \u001b[38;5;34m512\u001b[0m)    │     \u001b[38;5;34m1,180,160\u001b[0m │\n",
       "├─────────────────────────────────┼────────────────────────┼───────────────┤\n",
       "│ block4_conv2 (\u001b[38;5;33mConv2D\u001b[0m)           │ (\u001b[38;5;45mNone\u001b[0m, \u001b[38;5;34m28\u001b[0m, \u001b[38;5;34m28\u001b[0m, \u001b[38;5;34m512\u001b[0m)    │     \u001b[38;5;34m2,359,808\u001b[0m │\n",
       "├─────────────────────────────────┼────────────────────────┼───────────────┤\n",
       "│ block4_conv3 (\u001b[38;5;33mConv2D\u001b[0m)           │ (\u001b[38;5;45mNone\u001b[0m, \u001b[38;5;34m28\u001b[0m, \u001b[38;5;34m28\u001b[0m, \u001b[38;5;34m512\u001b[0m)    │     \u001b[38;5;34m2,359,808\u001b[0m │\n",
       "├─────────────────────────────────┼────────────────────────┼───────────────┤\n",
       "│ block4_pool (\u001b[38;5;33mMaxPooling2D\u001b[0m)      │ (\u001b[38;5;45mNone\u001b[0m, \u001b[38;5;34m14\u001b[0m, \u001b[38;5;34m14\u001b[0m, \u001b[38;5;34m512\u001b[0m)    │             \u001b[38;5;34m0\u001b[0m │\n",
       "├─────────────────────────────────┼────────────────────────┼───────────────┤\n",
       "│ block5_conv1 (\u001b[38;5;33mConv2D\u001b[0m)           │ (\u001b[38;5;45mNone\u001b[0m, \u001b[38;5;34m14\u001b[0m, \u001b[38;5;34m14\u001b[0m, \u001b[38;5;34m512\u001b[0m)    │     \u001b[38;5;34m2,359,808\u001b[0m │\n",
       "├─────────────────────────────────┼────────────────────────┼───────────────┤\n",
       "│ block5_conv2 (\u001b[38;5;33mConv2D\u001b[0m)           │ (\u001b[38;5;45mNone\u001b[0m, \u001b[38;5;34m14\u001b[0m, \u001b[38;5;34m14\u001b[0m, \u001b[38;5;34m512\u001b[0m)    │     \u001b[38;5;34m2,359,808\u001b[0m │\n",
       "├─────────────────────────────────┼────────────────────────┼───────────────┤\n",
       "│ block5_conv3 (\u001b[38;5;33mConv2D\u001b[0m)           │ (\u001b[38;5;45mNone\u001b[0m, \u001b[38;5;34m14\u001b[0m, \u001b[38;5;34m14\u001b[0m, \u001b[38;5;34m512\u001b[0m)    │     \u001b[38;5;34m2,359,808\u001b[0m │\n",
       "├─────────────────────────────────┼────────────────────────┼───────────────┤\n",
       "│ block5_pool (\u001b[38;5;33mMaxPooling2D\u001b[0m)      │ (\u001b[38;5;45mNone\u001b[0m, \u001b[38;5;34m7\u001b[0m, \u001b[38;5;34m7\u001b[0m, \u001b[38;5;34m512\u001b[0m)      │             \u001b[38;5;34m0\u001b[0m │\n",
       "├─────────────────────────────────┼────────────────────────┼───────────────┤\n",
       "│ flatten_4 (\u001b[38;5;33mFlatten\u001b[0m)             │ (\u001b[38;5;45mNone\u001b[0m, \u001b[38;5;34m25088\u001b[0m)          │             \u001b[38;5;34m0\u001b[0m │\n",
       "└─────────────────────────────────┴────────────────────────┴───────────────┘\n"
      ]
     },
     "metadata": {},
     "output_type": "display_data"
    },
    {
     "data": {
      "text/html": [
       "<pre style=\"white-space:pre;overflow-x:auto;line-height:normal;font-family:Menlo,'DejaVu Sans Mono',consolas,'Courier New',monospace\"><span style=\"font-weight: bold\"> Total params: </span><span style=\"color: #00af00; text-decoration-color: #00af00\">14,714,688</span> (56.13 MB)\n",
       "</pre>\n"
      ],
      "text/plain": [
       "\u001b[1m Total params: \u001b[0m\u001b[38;5;34m14,714,688\u001b[0m (56.13 MB)\n"
      ]
     },
     "metadata": {},
     "output_type": "display_data"
    },
    {
     "data": {
      "text/html": [
       "<pre style=\"white-space:pre;overflow-x:auto;line-height:normal;font-family:Menlo,'DejaVu Sans Mono',consolas,'Courier New',monospace\"><span style=\"font-weight: bold\"> Trainable params: </span><span style=\"color: #00af00; text-decoration-color: #00af00\">14,714,688</span> (56.13 MB)\n",
       "</pre>\n"
      ],
      "text/plain": [
       "\u001b[1m Trainable params: \u001b[0m\u001b[38;5;34m14,714,688\u001b[0m (56.13 MB)\n"
      ]
     },
     "metadata": {},
     "output_type": "display_data"
    },
    {
     "data": {
      "text/html": [
       "<pre style=\"white-space:pre;overflow-x:auto;line-height:normal;font-family:Menlo,'DejaVu Sans Mono',consolas,'Courier New',monospace\"><span style=\"font-weight: bold\"> Non-trainable params: </span><span style=\"color: #00af00; text-decoration-color: #00af00\">0</span> (0.00 B)\n",
       "</pre>\n"
      ],
      "text/plain": [
       "\u001b[1m Non-trainable params: \u001b[0m\u001b[38;5;34m0\u001b[0m (0.00 B)\n"
      ]
     },
     "metadata": {},
     "output_type": "display_data"
    },
    {
     "name": "stdout",
     "output_type": "stream",
     "text": [
      "None\n"
     ]
    }
   ],
   "source": [
    "output = base_model.layers[-1].output \n",
    "print(output.shape)\n",
    "output = keras.layers.Flatten()(output)\n",
    "print(output.shape)\n",
    "base_model = Model(base_model.input, output) # This line means Make me a new model, that starts \n",
    "print(base_model.summary())                  # at VGG16's input and ends at my modified output\n",
    "\n",
    "# Freeze the base VGG16 model layers\n",
    "for layer in base_model.layers:\n",
    "    layer.trainable = False"
   ]
  },
  {
   "cell_type": "markdown",
   "id": "a838dcb5-d828-48f1-a986-4bc2f6c0d3a7",
   "metadata": {},
   "source": [
    "After using VGG16 as a feature extractor, we add our own classifier on top of the VGG16 model. This involves adding fully connected layers (Dense), activation functions (like ReLU), and sometimes Dropout layers to avoid overfitting.\n",
    "Here, we are adding two dense layers with 512 units each, followed by a Dropout layer, and finally, a Dense layer with one unit and a sigmoid activation to output the probability for binary classification (\"dent\" vs \"crack\").\n"
   ]
  },
  {
   "cell_type": "code",
   "execution_count": null,
   "id": "1595d892-cd4d-4bd5-8c6c-fde357109ca3",
   "metadata": {},
   "outputs": [],
   "source": [
    "# Build the custom model\n",
    "model = Sequential()\n",
    "model.add(base_model)\n",
    "model.add(Dense(512, activation='relu'))\n",
    "model.add(Dropout(0.3)) # randomly drop 30% of the neurons to prevent overfitting.\n",
    "model.add(Dense(512, activation='relu'))\n",
    "model.add(Dropout(0.3)) \n",
    "model.add(Dense(1, activation='sigmoid'))"
   ]
  },
  {
   "cell_type": "markdown",
   "id": "84be70fc-927d-4d54-be54-7815de465019",
   "metadata": {},
   "source": [
    "## **Task 4: Compile the model**\n",
    "\n",
    "You will compile the model using the following parameters:\n",
    "\n",
    "*   **loss**: `'binary_crossentropy'`.\n",
    "*   **optimizer**: `=Adam(learning_rate=0.0001)`.\n",
    "*   **metrics**: `['accuracy']`.\n",
    "\n",
    "Hint: Use `model.compile()` to compile the model:\n",
    "    \n",
    "```python\n",
    "model.compile(\n",
    "    optimizer=,\n",
    "    loss=,\n",
    "    metrics=\n",
    ")\n",
    "```\n",
    "**Note: Please copy and save the code of the task as it will be required for submission in the final project. Ensure to submit the response as part of your project submission.**\n"
   ]
  },
  {
   "cell_type": "code",
   "execution_count": 22,
   "id": "4440126c-b8e1-4489-9174-a8c0991ab789",
   "metadata": {},
   "outputs": [],
   "source": [
    "# Write your code here\n",
    "model.compile(\n",
    "    optimizer=Adam(learning_rate=0.0001),  # Adam optimizer with small LR\n",
    "    loss='binary_crossentropy',            # loss for binary classification\n",
    "    metrics=['accuracy']                   # track accuracy during training\n",
    ")"
   ]
  },
  {
   "cell_type": "markdown",
   "id": "261b34d3-108b-44f2-86a9-35ec3be592f1",
   "metadata": {},
   "source": [
    "## 1.4 Model Training\n",
    "\n",
    "- This section covers the process of training the model using the prepared dataset.\n"
   ]
  },
  {
   "cell_type": "markdown",
   "id": "dc453c5a-ba70-4157-9d86-f5dcc9fb3cae",
   "metadata": {},
   "source": [
    "## Task 5: Model Training\n",
    "Now that the model is compiled, you can train it using the .fit() method. This step involves passing in the training and validation datasets along with the number of epochs you want to train the model for.\n",
    "\n",
    "You will train the model using the following parameters:\n",
    "\n",
    "*   **train_data**: `train_generator`\n",
    "*   **epochs**: `n_epochs`\n",
    "*   **validation_data**: `valid_generator`\n",
    "\n",
    "Hint: Use `model.fit()` to train the model:\n",
    "    \n",
    "```python\n",
    "history = model.fit(\n",
    "    <train_data>,  # Fill in with the training data generator or dataset\n",
    "    epochs=<number_of_epochs>,  # Fill in with the number of epochs for training\n",
    "    validation_data=<validation_data>,  # Fill in with the validation data generator or dataset\n",
    "   \n",
    ")\n",
    "\n",
    "```\n",
    "**Note: Please copy and save the code of the task as it will be required for submission in the final project. Ensure to submit the response as part of your project submission**\n"
   ]
  },
  {
   "cell_type": "code",
   "execution_count": 23,
   "id": "728621b8-ccd3-4dab-8574-126693f4ea96",
   "metadata": {},
   "outputs": [
    {
     "name": "stderr",
     "output_type": "stream",
     "text": [
      "c:\\Users\\tawil\\Python\\IBM-AI-Engineering\\2-introduction-to-DeepLearning-and-NeuralNetworks\\module5-final-project\\.env5\\Lib\\site-packages\\keras\\src\\trainers\\data_adapters\\py_dataset_adapter.py:121: UserWarning: Your `PyDataset` class should call `super().__init__(**kwargs)` in its constructor. `**kwargs` can include `workers`, `use_multiprocessing`, `max_queue_size`. Do not pass these arguments to `fit()`, as they will be ignored.\n",
      "  self._warn_if_super_not_called()\n"
     ]
    },
    {
     "name": "stdout",
     "output_type": "stream",
     "text": [
      "Epoch 1/5\n",
      "\u001b[1m10/10\u001b[0m \u001b[32m━━━━━━━━━━━━━━━━━━━━\u001b[0m\u001b[37m\u001b[0m \u001b[1m58s\u001b[0m 6s/step - accuracy: 0.5600 - loss: 0.7113 - val_accuracy: 0.6979 - val_loss: 0.6192\n",
      "Epoch 2/5\n",
      "\u001b[1m10/10\u001b[0m \u001b[32m━━━━━━━━━━━━━━━━━━━━\u001b[0m\u001b[37m\u001b[0m \u001b[1m67s\u001b[0m 7s/step - accuracy: 0.6767 - loss: 0.6144 - val_accuracy: 0.6667 - val_loss: 0.5947\n",
      "Epoch 3/5\n",
      "\u001b[1m10/10\u001b[0m \u001b[32m━━━━━━━━━━━━━━━━━━━━\u001b[0m\u001b[37m\u001b[0m \u001b[1m68s\u001b[0m 7s/step - accuracy: 0.7133 - loss: 0.5111 - val_accuracy: 0.6667 - val_loss: 0.5571\n",
      "Epoch 4/5\n",
      "\u001b[1m10/10\u001b[0m \u001b[32m━━━━━━━━━━━━━━━━━━━━\u001b[0m\u001b[37m\u001b[0m \u001b[1m72s\u001b[0m 7s/step - accuracy: 0.8067 - loss: 0.4372 - val_accuracy: 0.7083 - val_loss: 0.5256\n",
      "Epoch 5/5\n",
      "\u001b[1m10/10\u001b[0m \u001b[32m━━━━━━━━━━━━━━━━━━━━\u001b[0m\u001b[37m\u001b[0m \u001b[1m76s\u001b[0m 8s/step - accuracy: 0.8867 - loss: 0.3401 - val_accuracy: 0.7188 - val_loss: 0.4834\n"
     ]
    }
   ],
   "source": [
    "#Enter your code here\n",
    "history = model.fit(\n",
    "    train_generator,\n",
    "    epochs=n_epochs,\n",
    "    validation_data=valid_generator,\n",
    ")"
   ]
  },
  {
   "cell_type": "code",
   "execution_count": 24,
   "id": "7fe9e973-811a-4562-9c6a-c6ee9f7657ff",
   "metadata": {},
   "outputs": [],
   "source": [
    "# Access the training history\n",
    "train_history = model.history.history  # After training"
   ]
  },
  {
   "cell_type": "markdown",
   "id": "9c44fbdf-ebde-4004-ab51-2627e3c387bf",
   "metadata": {},
   "source": [
    "## 1.5 Visualizing Training Results\n",
    "\n",
    "- After training the model, we visualize the training and validation accuracy and loss to understand the model's learning process.\n"
   ]
  },
  {
   "cell_type": "markdown",
   "id": "7f6e2221-7fc9-4ed9-843d-622b81fe88a1",
   "metadata": {},
   "source": [
    "### Plot loss curves for training and validation sets\n"
   ]
  },
  {
   "cell_type": "code",
   "execution_count": 25,
   "id": "e6aecdf4-b6fc-415b-89f6-1922710d93fd",
   "metadata": {},
   "outputs": [
    {
     "data": {
      "image/png": "[encoded data removed]",
      "text/plain": [
       "<Figure size 640x480 with 1 Axes>"
      ]
     },
     "metadata": {},
     "output_type": "display_data"
    },
    {
     "data": {
      "image/png": "[encoded data removed]",
      "text/plain": [
       "<Figure size 640x480 with 1 Axes>"
      ]
     },
     "metadata": {},
     "output_type": "display_data"
    }
   ],
   "source": [
    "# Plot the loss for both training and validation\n",
    "plt.title(\"Training Loss\")\n",
    "plt.ylabel(\"Loss\")\n",
    "plt.xlabel('Epoch')\n",
    "plt.plot(train_history['loss'])\n",
    "plt.show()\n",
    "\n",
    "plt.title(\"Validation Loss\")\n",
    "plt.ylabel(\"Loss\")\n",
    "plt.xlabel('Epoch')\n",
    "plt.plot(train_history['val_loss'])\n",
    "plt.show()"
   ]
  },
  {
   "cell_type": "markdown",
   "id": "b907a3db-8230-4b86-a659-8fe75593a55e",
   "metadata": {},
   "source": [
    "## Task 6: Plot accuracy curves for training and validation sets\n",
    "\n",
    "Hint: Similar to the loss curves. Use `plt.plot()` to plot the accuracy curves for training and validation sets.\n",
    "\n",
    "- `figsize=(5, 5)`\n",
    "- `plt.plot(train_history['accuracy'], label='Training Accuracy')`\n",
    "- `plt.plot(train_history['val_accuracy'], label='Validation Accuracy')`\n",
    "- **Title**: `'Accuracy Curve'`\n",
    "- **xlabel**: `'Epochs'`\n",
    "- **ylabel**: `'Accuracy'`\n",
    "\n",
    "**Note: Please copy and save the code of the task as it will be required for submission in the final project. Ensure to submit the response as part of your project submission**\n"
   ]
  },
  {
   "cell_type": "code",
   "execution_count": 26,
   "id": "524d380e-ce6b-476b-b55f-52f77df55c9c",
   "metadata": {},
   "outputs": [
    {
     "data": {
      "image/png": "[encoded data removed]",
      "text/plain": [
       "<Figure size 640x480 with 1 Axes>"
      ]
     },
     "metadata": {},
     "output_type": "display_data"
    },
    {
     "data": {
      "image/png": "[encoded data removed]",
      "text/plain": [
       "<Figure size 640x480 with 1 Axes>"
      ]
     },
     "metadata": {},
     "output_type": "display_data"
    }
   ],
   "source": [
    "# Write your code here\n",
    "plt.title(\"Training Accuracy\")\n",
    "plt.ylabel(\"Accuracy\")\n",
    "plt.xlabel('Epoch')\n",
    "plt.plot(train_history['accuracy'])\n",
    "plt.show()\n",
    "\n",
    "plt.title(\"Validation Accuracy\")\n",
    "plt.ylabel(\"Accuracy\")\n",
    "plt.xlabel('Epoch')\n",
    "plt.plot(train_history['val_accuracy'])\n",
    "plt.show()\n"
   ]
  },
  {
   "cell_type": "markdown",
   "id": "7ca5e4ca-38d3-4125-a4dc-79a9603d6bad",
   "metadata": {},
   "source": [
    "## 1.6 Model Evaluation\n",
    "\n",
    "Now we evaluate the trained model on the test dataset. Calculates test loss and accuracy by evaluating the test generator. Predictions are made for the test dataset, and the results are compared to true labels.\n"
   ]
  },
  {
   "cell_type": "code",
   "execution_count": 27,
   "id": "e88aed4f-ef8d-491d-b70d-1363c74f5f24",
   "metadata": {},
   "outputs": [
    {
     "name": "stdout",
     "output_type": "stream",
     "text": [
      "\u001b[1m1/1\u001b[0m \u001b[32m━━━━━━━━━━━━━━━━━━━━\u001b[0m\u001b[37m\u001b[0m \u001b[1m4s\u001b[0m 4s/step - accuracy: 0.8438 - loss: 0.4798\n",
      "Test Loss: 0.4798\n",
      "Test Accuracy: 0.8438\n"
     ]
    }
   ],
   "source": [
    "# Evaluate the model on the test set\n",
    "test_loss, test_accuracy = model.evaluate(test_generator, steps=test_generator.samples // test_generator.batch_size)\n",
    "\n",
    "print(f\"Test Loss: {test_loss:.4f}\")\n",
    "print(f\"Test Accuracy: {test_accuracy:.4f}\")"
   ]
  },
  {
   "cell_type": "markdown",
   "id": "c5ac9629-4c5d-4722-a38a-54f1aa8ddcdb",
   "metadata": {},
   "source": [
    " ## 1.7 Visualizing Predictions\n",
    "\n",
    "Display test images alongside their true and predicted labels.\n",
    "\n",
    "True labels and predictions are retrieved.\n",
    "Images are displayed with labels for visual inspection of model performance.\n"
   ]
  },
  {
   "cell_type": "code",
   "execution_count": null,
   "id": "8146c1de-d2a7-4349-a165-d1e54020f247",
   "metadata": {},
   "outputs": [],
   "source": [
    "import numpy as np\n",
    "import matplotlib.pyplot as plt\n",
    "from tensorflow.keras.preprocessing import image\n",
    "\n",
    "# Function to plot a single image and its prediction\n",
    "def plot_image_with_title(image, model, true_label, predicted_label, class_names):\n",
    "    plt.figure(figsize=(6, 6))\n",
    "    plt.imshow(image)\n",
    "\n",
    "    # Convert labels from one-hot to class indices if needed, but for binary labels it's just 0 or 1\n",
    "    true_label_name = class_names[true_label]  # Labels are already in class indices\n",
    "    pred_label_name = class_names[predicted_label]  # Predictions are 0 or 1\n",
    "\n",
    "    plt.title(f\"True: {true_label_name}\\nPred: {pred_label_name}\")\n",
    "    plt.axis('off')\n",
    "    plt.show()\n",
    "\n",
    "# Function to test the model with images from the test set\n",
    "def test_model_on_image(test_generator, model, index_to_plot=0):\n",
    "    # Get a batch of images and labels from the test generator\n",
    "    test_images, test_labels = next(test_generator)\n",
    "\n",
    "    # Make predictions on the batch\n",
    "    predictions = model.predict(test_images)\n",
    "\n",
    "    # In binary classification, predictions are probabilities (float). Convert to binary (0 or 1)\n",
    "    predicted_classes = (predictions > 0.5).astype(int).flatten()\n",
    "\n",
    "    # Get the class indices from the test generator and invert them to get class names\n",
    "    class_indices = test_generator.class_indices\n",
    "    class_names = {v: k for k, v in class_indices.items()}  # Invert the dictionary\n",
    "\n",
    "    # Specify the image to display based on the index\n",
    "    image_to_plot = test_images[index_to_plot]\n",
    "    true_label = test_labels[index_to_plot]\n",
    "    predicted_label = predicted_classes[index_to_plot]\n",
    "\n",
    "    # Plot the selected image with its true and predicted labels\n",
    "    plot_image_with_title(image=image_to_plot, model=model, true_label=true_label, predicted_label=predicted_label, class_names=class_names)\n",
    "\n",
    "\n"
   ]
  },
  {
   "cell_type": "markdown",
   "id": "28a23452-c0f0-49cc-b112-ded0419566e4",
   "metadata": {},
   "source": [
    "## **Task 7: Visualizing the results**\n",
    "\n",
    "In this task, you will specify which image from the test dataset to display and test the model on. You will fill in the required values to test your model.\n",
    "\n",
    "You will visualize using the following parameters:\n",
    "\n",
    "*   **test_data_generator**: `test_generator`.\n",
    "*   **model**: `model`.\n",
    "*   **index_to_plot**: `1`.\n",
    "\n",
    "Hint: Use `test_model_on_image` to visualize the result:\n",
    "    \n",
    "```python\n",
    "test_model_on_image(<test_data_generator>, <model>, index_to_plot=index_to_plot)\n",
    "\n",
    "```\n",
    "**NOTE**: Due to the inherent nature of neural networks, predictions may vary from the actual labels. For instance, if the actual label is ‘crack’, the prediction could be either ‘crack’ or ‘dent’, both of which are possible outcomes, and full marks will be awarded for the task.\n",
    "\n",
    "**Note: Please copy and save the code of the task as it will be required for submission in the final project. Ensure to submit the response as part of your project submission**                                \n"
   ]
  },
  {
   "cell_type": "code",
   "execution_count": 31,
   "id": "7295887f-6ed3-4ffd-a58c-e7b24895418a",
   "metadata": {},
   "outputs": [
    {
     "name": "stdout",
     "output_type": "stream",
     "text": [
      "\u001b[1m1/1\u001b[0m \u001b[32m━━━━━━━━━━━━━━━━━━━━\u001b[0m\u001b[37m\u001b[0m \u001b[1m3s\u001b[0m 3s/step\n"
     ]
    },
    {
     "data": {
      "image/png": "[encoded data removed]",
      "text/plain": [
       "<Figure size 600x600 with 1 Axes>"
      ]
     },
     "metadata": {},
     "output_type": "display_data"
    }
   ],
   "source": [
    "#Write your code here\n",
    "index_to_plot = 1\n",
    "test_model_on_image(\n",
    "    test_generator,\n",
    "    model,\n",
    "    index_to_plot=index_to_plot\n",
    ")"
   ]
  },
  {
   "cell_type": "markdown",
   "id": "c3d6b968-2101-4e5d-80c8-0abd2d65a079",
   "metadata": {},
   "source": [
    "## <a id='toc2_'></a>[Part 2: Image Captioning and Summarization using BLIP Pretrained Model](#toc2_)\n"
   ]
  },
  {
   "cell_type": "markdown",
   "id": "e29332f2-7f0e-419b-a433-251c4a4ac3a2",
   "metadata": {},
   "source": [
    "BLIP (Bootstrapping Language-Image Pretraining) is an advanced vision-and-language model designed to generate natural language descriptions for images. By leveraging both visual and textual information, BLIP can produce human-readable text that accurately reflects the content and context of an image. It is specifically trained to understand images and their relationships to summarizing text, making it ideal for tasks like image captioning, summarization, and visual question answering.\n",
    "\n",
    "In this project, learners will utilize the BLIP model to build a system capable of automatically generating captions and summary for images. The code will integrate the BLIP model within a custom Keras layer. This allows the user to input an image and specify a task, either \"caption\" or \"summary\", to receive a textual output that describes or summarizes the content of the image.\n"
   ]
  },
  {
   "cell_type": "markdown",
   "id": "528f8510-db0b-46e9-908b-a92656d5e603",
   "metadata": {},
   "source": [
    "#### Key Steps:\n",
    "\n",
    "- **Image Loading and Preprocessing:** The code will begin by loading images from a file path, then converting and processing them into a format suitable for input to the BLIP model.\n",
    "  \n",
    "- **Text Generation:** Depending on the task, whether generating a caption or summary, the BLIP model will generate corresponding text based on the processed image.\n",
    "  \n",
    "- **Custom Keras Layer:** A custom Keras layer is a user-defined layer that extends Keras' built-in functionality.Here custom Keras layer will be implemented to wrap the BLIP model. This layer will handle the task-specific processing (captioning or summarizing) and integrate smoothly into a TensorFlow/Keras environment.\n"
   ]
  },
  {
   "cell_type": "code",
   "execution_count": 32,
   "id": "73b94429-07b2-4f55-b2d4-68ca4fb6e77a",
   "metadata": {},
   "outputs": [
    {
     "name": "stderr",
     "output_type": "stream",
     "text": [
      "c:\\Users\\tawil\\Python\\IBM-AI-Engineering\\2-introduction-to-DeepLearning-and-NeuralNetworks\\module5-final-project\\.env5\\Lib\\site-packages\\tqdm\\auto.py:21: TqdmWarning: IProgress not found. Please update jupyter and ipywidgets. See https://ipywidgets.readthedocs.io/en/stable/user_install.html\n",
      "  from .autonotebook import tqdm as notebook_tqdm\n"
     ]
    }
   ],
   "source": [
    "#Load the required libraries\n",
    "import torch\n",
    "import tensorflow as tf\n",
    "from PIL import Image\n",
    "from transformers import BlipProcessor, BlipForConditionalGeneration"
   ]
  },
  {
   "cell_type": "markdown",
   "id": "9d06dfe3-6417-43bb-bf1c-7461252dcf7e",
   "metadata": {},
   "source": [
    "## 2.1 Loading BLIP Model\n"
   ]
  },
  {
   "cell_type": "markdown",
   "id": "b8fa58be-149e-4fc2-a111-1bd4efbe5ddd",
   "metadata": {},
   "source": [
    "#### Load the BLIP Model and Processor from Hugging Face\n",
    "\n",
    "Hugging Face is an open-source platform that provides pre-trained machine learning models, datasets, and tools, primarily focused on natural language processing, computer vision, and other AI tasks. It offers easy access to powerful models through its Transformers library.\n",
    "\n",
    "- **BlipProcessor:** This handles the preprocessing of images and text. It converts images to the format that the BLIP model can understand.\n",
    "\n",
    "- **BlipForConditionalGeneration:** This is the model itself, responsible for generating captions or summaries based on the processed image.\n"
   ]
  },
  {
   "cell_type": "code",
   "execution_count": 33,
   "id": "d1e6c316-5c4e-43f6-b21b-ed080391e5d0",
   "metadata": {},
   "outputs": [
    {
     "name": "stderr",
     "output_type": "stream",
     "text": [
      "Using a slow image processor as `use_fast` is unset and a slow processor was saved with this model. `use_fast=True` will be the default behavior in v4.52, even if the model was saved with a slow processor. This will result in minor differences in outputs. You'll still be able to use a slow processor with `use_fast=False`.\n",
      "Fetching 1 files:   0%|          | 0/1 [00:00<?, ?it/s]c:\\Users\\tawil\\Python\\IBM-AI-Engineering\\2-introduction-to-DeepLearning-and-NeuralNetworks\\module5-final-project\\.env5\\Lib\\site-packages\\huggingface_hub\\file_download.py:143: UserWarning: `huggingface_hub` cache-system uses symlinks by default to efficiently store duplicated files but your machine does not support them in C:\\Users\\tawil\\.cache\\huggingface\\hub\\models--Salesforce--blip-image-captioning-base. Caching files will still work but in a degraded version that might require more space on your disk. This warning can be disabled by setting the `HF_HUB_DISABLE_SYMLINKS_WARNING` environment variable. For more details, see https://huggingface.co/docs/huggingface_hub/how-to-cache#limitations.\n",
      "To support symlinks on Windows, you either need to activate Developer Mode or to run Python as an administrator. In order to activate developer mode, see this article: https://docs.microsoft.com/en-us/windows/apps/get-started/enable-your-device-for-development\n",
      "  warnings.warn(message)\n",
      "Fetching 1 files: 100%|██████████| 1/1 [00:00<00:00,  2.06it/s]\n"
     ]
    }
   ],
   "source": [
    "#load the pretrained BLIP processor and model:\n",
    "processor = BlipProcessor.from_pretrained(\"Salesforce/blip-image-captioning-base\")\n",
    "model = BlipForConditionalGeneration.from_pretrained(\"Salesforce/blip-image-captioning-base\")"
   ]
  },
  {
   "cell_type": "markdown",
   "id": "8d7c257b-99ef-4763-9f2a-d9e0209ec8f4",
   "metadata": {},
   "source": [
    "#### Custom Keras Layer: BlipCaptionSummaryLayer\n",
    "\n",
    "Next, we define a custom `tf.keras.layers.Layer` class that takes in an image and a task input (either caption or summary) and processes the image using the BLIP model. To create a custom Keras layer, we need to subclass `tf.keras.layers.Layer` and implement the required methods.\n",
    "\n",
    "#### **BlipCaptionSummaryLayer Class:**\n",
    "\n",
    "This custom Keras layer integrates image preprocessing and text generation using a pretrained BLIP model.\n",
    "\n",
    "- **`__init__`**: This constructor method initializes the `BlipCaptionSummaryLayer` class by setting up the BLIP processor and model.\n",
    "  \n",
    "- **`call`**: This method defines the operations or transformations applied to the input data as it passes through the layer.\n",
    "\n",
    "- **`process_image`**: The `process_image` method contains the custom logic for loading the image, preprocessing it, generating the text (either a caption or a summary) using the BLIP model, and returning the generated result.\n"
   ]
  },
  {
   "cell_type": "code",
   "execution_count": 34,
   "id": "829803ea-8494-4107-85bf-42c77da21d53",
   "metadata": {},
   "outputs": [],
   "source": [
    "class BlipCaptionSummaryLayer(tf.keras.layers.Layer):\n",
    "    def __init__(self, processor, model, **kwargs):\n",
    "        \"\"\"\n",
    "        Initialize the custom Keras layer with the BLIP processor and model.\n",
    "\n",
    "        Args:\n",
    "            processor: The BLIP processor for preparing inputs for the model.\n",
    "            model: The BLIP model for generating captions or summaries.\n",
    "        \"\"\"\n",
    "        super().__init__(**kwargs)\n",
    "        self.processor = processor\n",
    "        self.model = model\n",
    "\n",
    "    def call(self, image_path, task):\n",
    "        # Use tf.py_function to run the custom image processing and text generation\n",
    "        return tf.py_function(self.process_image, [image_path, task], tf.string)\n",
    "\n",
    "    def process_image(self, image_path, task):\n",
    "        \"\"\"\n",
    "        Perform image loading, preprocessing, and text generation.\n",
    "\n",
    "        Args:\n",
    "            image_path: Path to the image file as a string.\n",
    "            task: The type of task (\"caption\" or \"summary\").\n",
    "\n",
    "        Returns:\n",
    "            The generated caption or summary as a string.\n",
    "        \"\"\"\n",
    "        try:\n",
    "            # Decode the image path from the TensorFlow tensor to a Python string\n",
    "            image_path_str = image_path.numpy().decode(\"utf-8\")\n",
    "\n",
    "            # Open the image using PIL and convert it to RGB format\n",
    "            image = Image.open(image_path_str).convert(\"RGB\")\n",
    "\n",
    "            # Set the appropriate prompt based on the task\n",
    "            if task.numpy().decode(\"utf-8\") == \"caption\":\n",
    "                prompt = \"This is a picture of\"  # Modify prompt for more natural output\n",
    "            else:\n",
    "                prompt = \"This is a detailed photo showing\"  # Modify for summary\n",
    "\n",
    "            # Prepare inputs for the BLIP model\n",
    "            inputs = self.processor(images=image, text=prompt, return_tensors=\"pt\")\n",
    "\n",
    "            # Generate text output using the BLIP model\n",
    "            output = self.model.generate(**inputs)\n",
    "\n",
    "            # Decode the output into a readable string\n",
    "            result = self.processor.decode(output[0], skip_special_tokens=True)\n",
    "            return result\n",
    "        except Exception as e:\n",
    "            # Handle errors during image processing or text generation\n",
    "            print(f\"Error: {e}\")\n",
    "            return \"Error processing image\"\n"
   ]
  },
  {
   "cell_type": "markdown",
   "id": "4d61b1a4-02fe-49db-8cbd-dad31378f054",
   "metadata": {},
   "source": [
    "## Task 8: Implement a Helper Function to Use the Custom Keras Layer\n",
    "\n",
    "In this task, you will implement a helper function `generate_text` that utilizes the custom `BlipCaptionSummaryLayer` Keras layer to generate captions or summaries for a given image. The function will accept an image path and a task type (caption or summary), process the image using the BLIP model, and return the generated text.\n",
    "\n",
    "### **Steps:**\n",
    "\n",
    "#### Create the Helper Function `generate_text`:\n",
    "The function will accept following parameters:\n",
    "\n",
    "* **`image_path`**: The path to the image file (in tensor format).\n",
    "* **`task`**: The type of task to perform, which can either be \"caption\" or \"summary\" (in tensor format).\n",
    "  \n",
    "Inside the function:\n",
    "1. Create an instance(blip_layer) of the `BlipCaptionSummaryLayer`.\n",
    "2. Call this layer with the provided image path and task type.\n",
    "3. Return the generated caption or summary as the output.\n",
    "\n",
    "**Note: Please copy and save the code of the task as it will be required for submission in the final project. Ensure to submit the response as part of your project submission**\n"
   ]
  },
  {
   "cell_type": "code",
   "execution_count": 35,
   "id": "cbda4d99-8c44-4116-b3d7-44b37e42adcd",
   "metadata": {},
   "outputs": [],
   "source": [
    "# Write your code here\n",
    "def generate_text(image_path, task):\n",
    "    \"\"\"\n",
    "    Generate captions or summaries for an image using the BLIP model.\n",
    "\n",
    "    Args:\n",
    "        image_path: Path to the image file as a TensorFlow tensor.\n",
    "        task: The type of task (\"caption\" or \"summary\") as a TensorFlow tensor.\n",
    "\n",
    "    Returns:\n",
    "        The generated caption or summary as a TensorFlow tensor.\n",
    "    \"\"\"\n",
    "    blip_layer = BlipCaptionSummaryLayer(processor, model)\n",
    "    result = blip_layer(image_path, task)\n",
    "    return result\n"
   ]
  },
  {
   "cell_type": "markdown",
   "id": "bbe4a610-92b1-46b4-ba49-d2d3c6e76c7c",
   "metadata": {},
   "source": [
    "Double-click <b>here</b> for the Hint.\n",
    "<!-- \n",
    "# Define a helper function to use the custom Keras layer\n",
    "def generate_text(image_path, task):\n",
    "  # Create an instance of the custom Keras layer\n",
    "  # Replace this with the pretrained BLIP processor and model loaded earlier\n",
    "    blip_layer = BlipCaptionSummaryLayer(<blip processor>, <model>)\n",
    "    # Call the layer with the provided inputs\n",
    "    return blip_layer(image_path, task)\n",
    "-->    \n"
   ]
  },
  {
   "cell_type": "markdown",
   "id": "1a8370bf-eb46-47d8-aee1-98a02bf29cc2",
   "metadata": {},
   "source": [
    "## 2.2 Generating Captions and Summaries\n"
   ]
  },
  {
   "cell_type": "markdown",
   "id": "0e8ea1af-2f29-41b3-8aa5-088e3d9faf37",
   "metadata": {},
   "source": [
    "Now we use the `generate_text` function to generate a caption and a summary for an image.\n",
    "It processes the image and prints the corresponding text output in a human-readable format.\n",
    "The function makes it easy to switch between generating captions and summaries based on the task type you provide.</br>\n",
    "</br>\n",
    "\n",
    "**Note:** Generated captions/summary may not always be accurate, as the model is limited by its training data and may not fully understand new or specific images.\n",
    "\n"
   ]
  },
  {
   "cell_type": "code",
   "execution_count": 36,
   "id": "cea4af14-fbda-40fb-9a33-8996689d8623",
   "metadata": {},
   "outputs": [
    {
     "name": "stdout",
     "output_type": "stream",
     "text": [
      "Caption: this is a picture of a plane\n",
      "Summary: this is a detailed photo showing the engine of a boeing 747\n"
     ]
    }
   ],
   "source": [
    "\n",
    "# Path to an example image \n",
    "image_path = tf.constant(\"aircraft_damage_dataset_v1/test/dent/144_10_JPG_jpg.rf.4d008cc33e217c1606b76585469d626b.jpg\")  # actual path of image\n",
    "\n",
    "# Generate a caption for the image\n",
    "caption = generate_text(image_path, tf.constant(\"caption\"))\n",
    "# Decode and print the generated caption\n",
    "print(\"Caption:\", caption.numpy().decode(\"utf-8\"))\n",
    "\n",
    "# Generate a summary for the image\n",
    "summary = generate_text(image_path, tf.constant(\"summary\"))\n",
    "# Decode and print the generated summary\n",
    "print(\"Summary:\", summary.numpy().decode(\"utf-8\"))"
   ]
  },
  {
   "cell_type": "markdown",
   "id": "f1258f42-eded-4721-9a16-1f28cb592130",
   "metadata": {},
   "source": [
    "## Task 9: Generate a caption for an image using the using BLIP pretrained model\n",
    "\n",
    "- Use the image_path variable given below to load the image. Run the cell to before proceeding to next step.\n",
    "- Use the `generate_text` function to generate a caption for the image.\n",
    "- Use the example given in `2.2 Generating Captions and Summaries` for this task\n",
    "  \n",
    "**Note:** Generated captions may not always be accurate, as the model is limited by its training data and may not fully understand new or specific images.\n",
    "  \n",
    "**Note: Please copy and save the output of the task as it will be required for submission in the final project. Ensure to submit the response as part of your project submission**\n"
   ]
  },
  {
   "cell_type": "code",
   "execution_count": 37,
   "id": "831d0867-3884-4c84-acde-5e6be4b35d65",
   "metadata": {},
   "outputs": [
    {
     "data": {
      "image/png": "[encoded data removed]",
      "text/plain": [
       "<Figure size 640x480 with 1 Axes>"
      ]
     },
     "metadata": {},
     "output_type": "display_data"
    }
   ],
   "source": [
    "# We will use the following image to display Caption and Summary for Task 9 and 10\n",
    "# URL of the image\n",
    "image_url = \"aircraft_damage_dataset_v1/test/dent/149_22_JPG_jpg.rf.4899cbb6f4aad9588fa3811bb886c34d.jpg\"\n",
    "# Load and display the image\n",
    "img = plt.imread(image_url)\n",
    "plt.imshow(img)\n",
    "plt.axis('off')  # Hide the axis\n",
    "plt.show()"
   ]
  },
  {
   "cell_type": "code",
   "execution_count": 38,
   "id": "55ebceb2-3f0f-41b9-8117-7302d735342a",
   "metadata": {},
   "outputs": [],
   "source": [
    "image_path = tf.constant(\"aircraft_damage_dataset_v1/test/dent/149_22_JPG_jpg.rf.4899cbb6f4aad9588fa3811bb886c34d.jpg\")  # actual path of image"
   ]
  },
  {
   "cell_type": "code",
   "execution_count": 41,
   "id": "055b1558-0293-4219-93c7-56f82d624b39",
   "metadata": {},
   "outputs": [
    {
     "name": "stdout",
     "output_type": "stream",
     "text": [
      "Caption: this is a picture of a plane that was sitting on the ground in a field\n"
     ]
    }
   ],
   "source": [
    "# Write your code here\n",
    "# Generate a caption for the image\n",
    "caption = generate_text(image_path, tf.constant(\"caption\"))\n",
    "# Decode and print the generated caption\n",
    "print(\"Caption:\", caption.numpy().decode(\"utf-8\"))"
   ]
  },
  {
   "cell_type": "markdown",
   "id": "2cabc75d-1066-4db2-9674-0acc11d60980",
   "metadata": {},
   "source": [
    "## Task 10: Generate a summary of an image using BLIP pretrained model\n",
    "\n",
    "- Use the image_path variable given below to load the image. Run the cell before proceeding to next step.\n",
    "- Use the `generate_text` function to generate a caption for the image.\n",
    "- Use the example given in `2.2 Generating Captions and Summaries` for this task\n",
    "\n",
    "**Note:** Generated summary may not always be accurate, as the model is limited by its training data and may not fully understand new or specific images.\n",
    "\n",
    "**Note: Please copy and save the output of the task as it will be required for submission in the final project. Ensure to submit the response as part of your project submission**\n"
   ]
  },
  {
   "cell_type": "code",
   "execution_count": 40,
   "id": "3a414210-27ac-49c9-82d6-b451a6c86d31",
   "metadata": {},
   "outputs": [],
   "source": [
    "image_path = tf.constant(\"aircraft_damage_dataset_v1/test/dent/149_22_JPG_jpg.rf.4899cbb6f4aad9588fa3811bb886c34d.jpg\")  # actual path of image"
   ]
  },
  {
   "cell_type": "code",
   "execution_count": 42,
   "id": "b0a5ae5e-c1c9-40db-8792-c48b43ec60b0",
   "metadata": {},
   "outputs": [
    {
     "name": "stdout",
     "output_type": "stream",
     "text": [
      "Summary: this is a detailed photo showing the damage to the fuselage of the aircraft\n"
     ]
    }
   ],
   "source": [
    "# Write your code here\n",
    "# Generate a summary for the image\n",
    "summary = generate_text(image_path, tf.constant(\"summary\"))\n",
    "# Decode and print the generated summary\n",
    "print(\"Summary:\", summary.numpy().decode(\"utf-8\"))"
   ]
  },
  {
   "cell_type": "markdown",
   "id": "54b85851-5fb0-41fe-a67e-aac9b030f666",
   "metadata": {},
   "source": [
    "### Congratulations on completing the final project!\n",
    "Now, download the file as it will be used for the final grading.Please note that the file should have both code and output of the cells.\n",
    "\n",
    "### Steps to download the file:\n",
    "1. Click on **File** from the left side of the menu.\n",
    "2. Select **Download**.\n",
    "\n",
    "![Download Image](https://cf-courses-data.s3.us.cloud-object-storage.appdomain.cloud/oNELo6MwGDRaIbnzNgzYRA/download.png)\n"
   ]
  },
  {
   "cell_type": "markdown",
   "id": "2afacaf5-9cfc-4535-940e-ce8c1e2d825d",
   "metadata": {},
   "source": [
    "## Authors\n"
   ]
  },
  {
   "cell_type": "markdown",
   "id": "db77dbc2-773d-4965-9d32-2e99708295d4",
   "metadata": {},
   "source": [
    "Vandana Pandey\n"
   ]
  },
  {
   "cell_type": "markdown",
   "id": "21e40c73-1a94-4e15-a809-7193a8c13def",
   "metadata": {},
   "source": [
    "### Other Contributors\n"
   ]
  },
  {
   "cell_type": "markdown",
   "id": "6fa9ab4c-c616-4d5c-891e-a545db3dae4b",
   "metadata": {},
   "source": [
    "[Srishti Srivastava](https://www.linkedin.com/in/srishti-srivastava-343095a8/), [Aman Aggarwal](https://www.linkedin.com/in/aggarwal-aman/)\n"
   ]
  },
  {
   "cell_type": "markdown",
   "id": "415ae519-1590-431a-b61e-ee13fe4a8288",
   "metadata": {},
   "source": [
    "<!--\n",
    "## Change log\n",
    "| Date (YYYY-MM-DD) | Version | Changed By | Change Description    |\n",
    "| ----------------- | ------- | ---------- | --------------------- |\n",
    "| 2025-06-23        | 0.1     | Vandana Pandey| Create Lab        |-->\n"
   ]
  },
  {
   "cell_type": "markdown",
   "id": "1af4cca8-c9a7-41b5-9c86-5e34355b4ae9",
   "metadata": {},
   "source": [
    "## <h3 align=\"center\"> &#169; IBM Corporation. All rights reserved. <h3/>\n"
   ]
  }
 ],
 "metadata": {
  "kernelspec": {
   "display_name": "Python 3",
   "language": "python",
   "name": "python3"
  },
  "language_info": {
   "codemirror_mode": {
    "name": "ipython",
    "version": 3
   },
   "file_extension": ".py",
   "mimetype": "text/x-python",
   "name": "python",
   "nbconvert_exporter": "python",
   "pygments_lexer": "ipython3",
   "version": "3.13.2"
  },
  "prev_pub_hash": "20a5f0ec245fc64437687c16e69a352f7672baee5b3a6a6c35136813dc1b8ea2"
 },
 "nbformat": 4,
 "nbformat_minor": 4
}
